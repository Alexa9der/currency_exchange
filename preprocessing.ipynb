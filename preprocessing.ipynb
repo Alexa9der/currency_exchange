{
 "cells": [
  {
   "cell_type": "code",
   "execution_count": 1,
   "id": "2ec035e6-6946-475b-a433-3a80bc2e0d0f",
   "metadata": {},
   "outputs": [],
   "source": [
    "from import_libraries.project_functions import *\n",
    "\n",
    "warnings.filterwarnings(\"ignore\")"
   ]
  },
  {
   "cell_type": "markdown",
   "id": "5063b6a4-5189-48a6-b4b9-6683968b02b9",
   "metadata": {},
   "source": [
    "# data from MT5"
   ]
  },
  {
   "cell_type": "code",
   "execution_count": null,
   "id": "cb3f03e7-27b2-4239-894e-1ebe02bc4ee9",
   "metadata": {},
   "outputs": [],
   "source": [
    "symbol = 'EURUSD.pro'"
   ]
  },
  {
   "cell_type": "code",
   "execution_count": null,
   "id": "c3ee2c67-06b1-4635-ae2f-5634847aeacd",
   "metadata": {},
   "outputs": [],
   "source": [
    "# def get_historical_data(timeframe=mt5.TIMEFRAME_D1, symbol=\"GER30\", count=30_000):\n",
    "#     \"\"\"\n",
    "#      Retrieves historical data from MetaTrader 5.\n",
    "\n",
    "#      Arguments:\n",
    "#      timeframe (int): Time frame for historical data.\n",
    "#      symbol (str): The symbol for which you want to get historical data.\n",
    "#      count (int): Number of candles requested.\n",
    "\n",
    "#      Returns:\n",
    "#      pd.DataFrame: DataFrame containing the received historical data.\n",
    "#      \"\"\"\n",
    "#     if not connect_to_mt5():\n",
    "#         print(\"Error connecting to MetaTrader 5.\")\n",
    "#         return None\n",
    "\n",
    "#     try:\n",
    "#         rates = mt5.copy_rates_from_pos(symbol, timeframe, 0, count)\n",
    "#     except Exception as e:\n",
    "#         print(f\"Error while receiving data: {e}\")\n",
    "#         mt5.shutdown()\n",
    "#         return None\n",
    "\n",
    "#     # Check the success of receiving data\n",
    "#     if rates is not None:\n",
    "#         # Convert data to pandas DataFrame\n",
    "#         rates_frame = pd.DataFrame(rates)\n",
    "#         rates_frame['time'] = pd.to_datetime(rates_frame['time'], unit='s')\n",
    "#         rates_frame = rates_frame.rename(columns=lambda x: x.capitalize())\n",
    "#         rates_frame = rates_frame.rename(columns={\"Time\": \"Date\"})\n",
    "\n",
    "#         rates_frame['Volume'] = rates_frame['High'] - rates_frame['Low']\n",
    "#         rates_frame['MaxPositivePriceChange'] = rates_frame['High'] - rates_frame['Open']\n",
    "#         rates_frame['MaxNegativePriceChange'] = rates_frame['Open'] - rates_frame['Low']\n",
    "\n",
    "#         rates_frame['PriceChange'] = abs(rates_frame['Close'] - rates_frame['Close'].shift(1))\n",
    "\n",
    "#         # Close the connection to MetaTrader 5\n",
    "#         # mt5.shutdown()\n",
    "#         return rates_frame\n",
    "#     else:\n",
    "#         print(\"Error while receiving data.\")\n",
    "#         mt5.shutdown()\n",
    "#         return None\n",
    "\n",
    "\n"
   ]
  },
  {
   "cell_type": "code",
   "execution_count": 2,
   "id": "754e17fc-4c70-41ca-a6d5-57c2b915c025",
   "metadata": {},
   "outputs": [
    {
     "name": "stdout",
     "output_type": "stream",
     "text": [
      "Połączono z kontem\n"
     ]
    },
    {
     "data": {
      "text/plain": [
       "(14907, 12)"
      ]
     },
     "execution_count": 2,
     "metadata": {},
     "output_type": "execute_result"
    }
   ],
   "source": [
    "data = get_historical_data(symbol = symbol) # D1\n",
    "# data_m5 = get_historical_data(timeframe=mt5.TIMEFRAME_M5, symbol=\"GER30\", start='2022-01-01')\n",
    "data.shape"
   ]
  },
  {
   "cell_type": "code",
   "execution_count": null,
   "id": "20261089-b15c-415a-b56e-2e88f6ae0cbd",
   "metadata": {},
   "outputs": [],
   "source": [
    "# data.hist(figsize = (10,10));"
   ]
  },
  {
   "cell_type": "markdown",
   "id": "a0c5a0d6-094d-471e-9b7a-e8fb27a3dc6f",
   "metadata": {
    "jp-MarkdownHeadingCollapsed": true
   },
   "source": [
    "# data preprocessing"
   ]
  },
  {
   "cell_type": "code",
   "execution_count": null,
   "id": "4775d2ad-9270-4fba-bd6b-ed0a23f2fc94",
   "metadata": {},
   "outputs": [],
   "source": [
    "# preprocessor = Preprocessing_stock_data(data)\n",
    "# all_indicator = preprocessor.all_methods()\n",
    "\n",
    "# data = preprocessor.support_resistance_line()\n",
    "# data"
   ]
  },
  {
   "cell_type": "code",
   "execution_count": null,
   "id": "674632ec-25cb-406f-9cea-10f87a0392cc",
   "metadata": {},
   "outputs": [],
   "source": [
    "# all_indicator.sample(3)"
   ]
  },
  {
   "cell_type": "markdown",
   "id": "0f79fecc-8eb0-467c-910b-ed8d8e3f0c8f",
   "metadata": {},
   "source": [
    "# experiments for lines\n"
   ]
  },
  {
   "cell_type": "code",
   "execution_count": null,
   "id": "eafb9f5e-b94e-4f0e-ba6a-ba52cc6b5a2b",
   "metadata": {
    "scrolled": true
   },
   "outputs": [],
   "source": [
    "# rebound_best_parameters = optimize_parameters(data, rebound_analysis, calculate_accumulated_price_changes,\n",
    "#                                               windows_size= [i for i in range(1, 366, 1)],\n",
    "#                                               bias= [i for i in range(1, 50, 1)]\n",
    "#                                                 )\n",
    "\n",
    "# print(f\"Najlepsze opcje: {rebound_best_parameters}\")\n",
    "rebound_best_parameters = {'window_size': 2, 'bias': 10}"
   ]
  },
  {
   "cell_type": "code",
   "execution_count": null,
   "id": "d68c7674-ecfa-44fb-aaa6-0cb4307ff9f1",
   "metadata": {
    "scrolled": true
   },
   "outputs": [],
   "source": [
    "# Create an instance of the class\n",
    "genetic_algorithm = GeneticAlgorithm(data, rebound_analysis, calculate_accumulated_price_changes, \n",
    "                                     window_sizes= [i for i in range(1, 366, 1)], \n",
    "                                     biases= [i for i in range(1, 50, 1)])\n",
    "\n",
    "\n",
    "# Run the genetic algorithm\n",
    "best_individual = genetic_algorithm.run_genetic_algorithm(population_size=10, \n",
    "                                                          offspring_size=100, \n",
    "                                                          cx_probability=0.7, \n",
    "                                                          mut_probability=0.2, \n",
    "                                                          n_generations=50)"
   ]
  },
  {
   "cell_type": "code",
   "execution_count": null,
   "id": "a42d0b04-c9ce-4085-84f9-99ee1cf1571a",
   "metadata": {
    "scrolled": true
   },
   "outputs": [],
   "source": [
    "current_data_optimize = define_level(data, rebound_best_parameters[\"window_size\"] ,\n",
    "                                  rebound_best_parameters[\"bias\"])\n",
    "\n",
    "rebound_data = rebound_analysis(current_data_optimize)\n",
    "current_score = calculate_accumulated_price_changes(rebound_data, princ=True)\n",
    "current_score"
   ]
  },
  {
   "cell_type": "code",
   "execution_count": null,
   "id": "240ae672-a26e-4d32-a995-1f95619fee46",
   "metadata": {},
   "outputs": [],
   "source": [
    "sum(current_score) / (14907  /(22 * 12 )) / 12"
   ]
  },
  {
   "cell_type": "code",
   "execution_count": null,
   "id": "1c015e73-324b-4b06-bb08-8d4b12541024",
   "metadata": {
    "scrolled": true
   },
   "outputs": [],
   "source": [
    "current_data_algorithm = define_level(data,\n",
    "                ceil(genetic_algorithm.get_best_individual()[0]),\n",
    "                ceil(genetic_algorithm.get_best_individual()[1]) )\n",
    "\n",
    "rebound_data = rebound_analysis(current_data_algorithm)\n",
    "current_score = calculate_accumulated_price_changes(rebound_data, princ=True)\n",
    "current_score"
   ]
  },
  {
   "cell_type": "code",
   "execution_count": null,
   "id": "d0b20cbe-7c43-4f95-8c9b-f812aaf28b10",
   "metadata": {},
   "outputs": [],
   "source": [
    "sum(current_score) / (14907  /(22 * 12 )) / 12"
   ]
  },
  {
   "cell_type": "markdown",
   "id": "9f31c8b2-ed1f-4b60-bec7-e2950f961285",
   "metadata": {},
   "source": [
    "# Order"
   ]
  },
  {
   "cell_type": "code",
   "execution_count": null,
   "id": "7d50d1a6-9744-43de-b55f-485cf605518b",
   "metadata": {},
   "outputs": [],
   "source": [
    "automated_trading_from_signals(rebound_data, symbol= symbol)"
   ]
  },
  {
   "cell_type": "code",
   "execution_count": null,
   "id": "080479a0-c8ce-47f3-ad82-35806dc8a23d",
   "metadata": {},
   "outputs": [],
   "source": []
  },
  {
   "cell_type": "code",
   "execution_count": null,
   "id": "c913759b-5959-40ad-ba3e-f4248f88a0d9",
   "metadata": {},
   "outputs": [],
   "source": []
  },
  {
   "cell_type": "code",
   "execution_count": null,
   "id": "2c20c5f8-c1d5-49f1-8c9a-9a95ebf0a30f",
   "metadata": {},
   "outputs": [],
   "source": []
  },
  {
   "cell_type": "code",
   "execution_count": null,
   "id": "a02ee73b-158d-4328-985d-a73abdb2d9b0",
   "metadata": {},
   "outputs": [],
   "source": []
  },
  {
   "cell_type": "code",
   "execution_count": null,
   "id": "fbd7fc9d-9542-4318-a2c8-c07dc39a8756",
   "metadata": {},
   "outputs": [],
   "source": []
  },
  {
   "cell_type": "markdown",
   "id": "95de8462-a850-4933-8497-93401ee52ea0",
   "metadata": {},
   "source": [
    "# Experiments with Genetic Algorithm"
   ]
  },
  {
   "cell_type": "code",
   "execution_count": null,
   "id": "bb05320f-c39a-41e9-9dbe-1565816ab7ed",
   "metadata": {},
   "outputs": [],
   "source": [
    "class GeneticAlgorithm:\n",
    "    \"\"\"\n",
    "    A class representing a Genetic Algorithm for parameter optimization in trading strategies.\n",
    "\n",
    "    Attributes:\n",
    "        data (pd.DataFrame): The financial data used for analysis.\n",
    "        analysis (callable): The analysis function to process the data.\n",
    "        calculate (callable): The scoring function to evaluate the performance of parameter combinations.\n",
    "        window_sizes (list): Possible values for the window size parameter.\n",
    "        biases (list): Possible values for the bias parameter.\n",
    "        best_individual (list): The best parameter combination found by the genetic algorithm.\n",
    "\n",
    "    Methods:\n",
    "        init_individual(individual_class): Initializes an individual for the genetic algorithm.\n",
    "        evaluate(individual): Evaluates the fitness of an individual based on the provided scoring function.\n",
    "        mutate(individual): Performs mutation on an individual to introduce diversity in the population.\n",
    "        calculate_parameters(params): Calculates the score for a given set of parameters.\n",
    "        run_genetic_algorithm(population_size, offspring_size, cx_probability, mut_probability, n_generations):\n",
    "            Runs the genetic algorithm to find the best parameter combination.\n",
    "        get_best_individual(): Returns the best parameter combination found by the genetic algorithm.\n",
    "    \"\"\"\n",
    "    \n",
    "    def __init__(self, data, analysis, calculate, window_sizes, biases=[1]):\n",
    "        \"\"\"Initializes the GeneticAlgorithm instance.\n",
    "\n",
    "        Args:\n",
    "            data (pd.DataFrame): The financial data used for analysis.\n",
    "            analysis (callable): The analysis function to process the data.\n",
    "            calculate (callable): The scoring function to evaluate the performance of parameter combinations.\n",
    "            window_sizes (list): Possible values for the window size parameter.\n",
    "            biases (list, optional): Possible values for the bias parameter. Defaults to [1].\n",
    "        \"\"\"\n",
    "        # Initialize the GeneticAlgorithm instance with the provided parameters\n",
    "        # Attribute Initialization:\n",
    "        self.data = data\n",
    "        self.analysis = analysis\n",
    "        self.calculate = calculate\n",
    "        self.window_sizes = window_sizes\n",
    "        self.biases = biases\n",
    "        self.best_individual = None\n",
    "\n",
    "        # Problem Definition\n",
    "        # Define the problem as a maximization problem\n",
    "        creator.create(\"FitnessMax\", base.Fitness, weights=(1.0,))\n",
    "        creator.create(\"Individual\", list, fitness=creator.FitnessMax)\n",
    "\n",
    "        # Toolbox Initialization\n",
    "        # Create a toolbox with the necessary components\n",
    "        self.toolbox = base.Toolbox()\n",
    "\n",
    "        # Registering Functions in the Toolbox\n",
    "        # Register an initialization method for individuals\n",
    "        self.toolbox.register(\"individual\", self.init_individual, creator.Individual)\n",
    "        \n",
    "        # Register a method to initialize a population of individuals\n",
    "        self.toolbox.register(\"population\", tools.initRepeat, list, self.toolbox.individual)\n",
    "        \n",
    "        # Register the evaluation method for individuals\n",
    "        self.toolbox.register(\"evaluate\", self.evaluate)\n",
    "        \n",
    "        # Register the crossover method using Blend Crossover with a specified alpha value\n",
    "        self.toolbox.register(\"mate\", tools.cxBlend, alpha=0.5)\n",
    "        \n",
    "        # Register the mutation method\n",
    "        self.toolbox.register(\"mutate\", self.mutate)\n",
    "        \n",
    "        # Register the selection method using Tournament Selection with a tournament size of 3\n",
    "        self.toolbox.register(\"select\", tools.selTournament, tournsize=3)\n",
    "\n",
    "    \n",
    "    def init_individual(self, individual_class):\n",
    "        \"\"\"\n",
    "        Initializes an individual for the genetic algorithm.\n",
    "\n",
    "        Args:\n",
    "            individual_class: The class representing an individual in the genetic algorithm.\n",
    "\n",
    "        Returns:\n",
    "            list: The initialized individual.\n",
    "        \"\"\"\n",
    "        \n",
    "        return individual_class([random.choice(self.window_sizes), random.choice(self.biases)])\n",
    "\n",
    "    \n",
    "    def evaluate(self, individual):\n",
    "        \"\"\"\n",
    "        Evaluates the fitness of an individual based on the provided scoring function.\n",
    "\n",
    "        Args:\n",
    "            individual (list): The individual representing a parameter combination.\n",
    "\n",
    "        Returns:\n",
    "            tuple: The fitness score of the individual.\n",
    "        \"\"\"\n",
    "        \n",
    "        window_size, bias = map(int, individual)\n",
    "        params = {'window_size': window_size, 'bias': bias}\n",
    "        score = self.calculate_parameters(params)\n",
    "        return (score,)\n",
    "\n",
    "    \n",
    "    def mutate(self, individual):\n",
    "        \"\"\"\n",
    "        Performs mutation on an individual to introduce diversity in the population.\n",
    "\n",
    "        Args:\n",
    "            individual (list): The individual to be mutated.\n",
    "\n",
    "        Returns:\n",
    "            tuple: The mutated individual.\n",
    "        \"\"\"\n",
    "        \n",
    "        if random.random() < 0.5:\n",
    "            individual[0] = int(abs(individual[0] + random.randint(-5, 5)))\n",
    "        else:\n",
    "            individual[1] = random.choice(self.biases)\n",
    "        return individual,\n",
    "\n",
    "    \n",
    "    def calculate_parameters(self, params):\n",
    "        \"\"\"\n",
    "        Calculates the score for a given set of parameters.\n",
    "\n",
    "        Args:\n",
    "            params (dict): The parameter values.\n",
    "\n",
    "        Returns:\n",
    "            float: The calculated score.\n",
    "        \"\"\"\n",
    "        \n",
    "        current_data = define_level(self.data, params['window_size'], params['bias'])\n",
    "        rebound_data = self.analysis(current_data)\n",
    "        return self.calculate(rebound_data)\n",
    "\n",
    "        \n",
    "    def run_genetic_algorithm(self, population_size=10, offspring_size=50, cx_probability=0.7, mut_probability=0.2, n_generations=10):\n",
    "        \"\"\"\n",
    "        Runs the genetic algorithm to find the best parameter combination.\n",
    "\n",
    "        Args:\n",
    "            population_size (int, optional): The size of the initial population. Defaults to 10.\n",
    "            offspring_size (int, optional): The size of the offspring population. Defaults to 50.\n",
    "            cx_probability (float, optional): The crossover probability. Defaults to 0.7.\n",
    "            mut_probability (float, optional): The mutation probability. Defaults to 0.2.\n",
    "            n_generations (int, optional): The number of generations. Defaults to 10.\n",
    "\n",
    "        Returns:\n",
    "            list: The best parameter combination found by the genetic algorithm.\n",
    "        \"\"\"\n",
    "        # Create an initial population\n",
    "        population = self.toolbox.population(n=population_size)\n",
    "\n",
    "        # Run the genetic algorithm\n",
    "        algorithms.eaMuPlusLambda(population, self.toolbox, mu=population_size, lambda_=offspring_size,\n",
    "                                  cxpb=cx_probability, mutpb=mut_probability, ngen=n_generations, stats=None, halloffame=None)\n",
    "\n",
    "        # Get the best individual\n",
    "        self.best_individual = tools.selBest(population, k=1)[0]\n",
    "        print(\"Best Parameters:\", self.best_individual)\n",
    "\n",
    "        return self.best_individual\n",
    "\n",
    "    \n",
    "    def get_best_individual(self):\n",
    "        \"\"\"\n",
    "        Returns the best parameter combination found by the genetic algorithm.\n",
    "\n",
    "        Returns:\n",
    "            list: The best parameter combination.\n",
    "        \"\"\"\n",
    "        return self.best_individual\n",
    "\n",
    "\n",
    "# Example usage of the GeneticAlgorithm class\n",
    "# Create an instance of the class\n",
    "genetic_algorithm = GeneticAlgorithm(data, rebound_analysis, calculate_accumulated_price_changes, \n",
    "                                     window_sizes= [i for i in range(1, 366, 1)], \n",
    "                                     biases= [i for i in range(1, 50, 1)])\n",
    "\n",
    "\n",
    "# Run the genetic algorithm\n",
    "best_individual = genetic_algorithm.run_genetic_algorithm(population_size=10, \n",
    "                                                          offspring_size=100, \n",
    "                                                          cx_probability=0.7, \n",
    "                                                          mut_probability=0.2, \n",
    "                                                          n_generations=50)"
   ]
  },
  {
   "cell_type": "markdown",
   "id": "5b71af09-f91e-4e14-b38d-8b331fc10f22",
   "metadata": {},
   "source": [
    "# AI"
   ]
  },
  {
   "cell_type": "code",
   "execution_count": null,
   "id": "1d41e83e-ecae-40e7-9822-28bcfb65f346",
   "metadata": {},
   "outputs": [],
   "source": []
  },
  {
   "cell_type": "code",
   "execution_count": null,
   "id": "e883275d-651e-43cb-8334-95127fab5b1e",
   "metadata": {},
   "outputs": [],
   "source": [
    "def create_dataset(dataset, time_step=25):\n",
    "    dataX, dataY = [], []\n",
    "    dataset_without_close = dataset.drop('Close', axis=1)\n",
    "\n",
    "    for i in range(len(dataset) - time_step - 1):\n",
    "        if (i + time_step) < len(dataset):\n",
    "            a = dataset_without_close.iloc[i:(i + time_step), :]\n",
    "            dataX.append(a.values)\n",
    "            dataY.append(dataset.iloc[i + time_step]['Close'])  # Добавлено изменение в индексации здесь\n",
    "    return np.array(dataX), np.array(dataY)"
   ]
  },
  {
   "cell_type": "code",
   "execution_count": null,
   "id": "3a59a933-2080-4f42-a52b-6c69d58be0e2",
   "metadata": {},
   "outputs": [],
   "source": [
    "def create_dataset(dataset, time_step):\n",
    "    dataX, dataY = [], []\n",
    "    for i in range(len(dataset)-time_step-1):\n",
    "        a = dataset[i:(i+time_step), 0]\n",
    "        dataX.append(a)\n",
    "        dataY.append(dataset[i + time_step, 0])\n",
    "    return np.array(dataX), np.array(dataY)"
   ]
  }
 ],
 "metadata": {
  "kernelspec": {
   "display_name": "Python 3 (ipykernel)",
   "language": "python",
   "name": "python3"
  },
  "language_info": {
   "codemirror_mode": {
    "name": "ipython",
    "version": 3
   },
   "file_extension": ".py",
   "mimetype": "text/x-python",
   "name": "python",
   "nbconvert_exporter": "python",
   "pygments_lexer": "ipython3",
   "version": "3.11.6"
  }
 },
 "nbformat": 4,
 "nbformat_minor": 5
}
