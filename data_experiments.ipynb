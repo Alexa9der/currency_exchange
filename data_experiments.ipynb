{
 "cells": [
  {
   "cell_type": "code",
   "execution_count": 1,
   "id": "2ec035e6-6946-475b-a433-3a80bc2e0d0f",
   "metadata": {},
   "outputs": [],
   "source": [
    "from import_libraries.project_functions import *\n",
    "\n",
    "warnings.filterwarnings(\"ignore\")"
   ]
  },
  {
   "cell_type": "markdown",
   "id": "5063b6a4-5189-48a6-b4b9-6683968b02b9",
   "metadata": {},
   "source": [
    "# data from yfinance"
   ]
  },
  {
   "cell_type": "code",
   "execution_count": 2,
   "id": "c3ee2c67-06b1-4635-ae2f-5634847aeacd",
   "metadata": {},
   "outputs": [],
   "source": [
    "def get_historical_data(timeframe=mt5.TIMEFRAME_D1, symbol=\"GER30\", count = 30_000):\n",
    "    \"\"\"\n",
    "    Получает исторические данные из MetaTrader 5.\n",
    "\n",
    "    Аргументы:\n",
    "    timeframe (int): Временной интервал для исторических данных.\n",
    "    symbol (str): Символ, для которого необходимо получить исторические данные.\n",
    "    start (str): Начальная дата для получения исторических данных.\n",
    "\n",
    "    Возвращает:\n",
    "    pd.DataFrame: DataFrame, содержащий полученные исторические данные.\n",
    "    \"\"\"\n",
    "    if not connect_to_mt5():\n",
    "        return None\n",
    "\n",
    "    \n",
    "    rates = mt5.copy_rates_from_pos(symbol, timeframe, 0, count)\n",
    "\n",
    "    # Проверяем успешность получения данных\n",
    "    if rates is not None:\n",
    "        # Конвертируем данные в pandas DataFrame\n",
    "        rates_frame = pd.DataFrame(rates)\n",
    "        rates_frame['time'] = pd.to_datetime(rates_frame['time'], unit='s')\n",
    "        rates_frame = rates_frame.rename(columns=lambda x: x.capitalize())\n",
    "        rates_frame = rates_frame.rename(columns={\"Time\": \"Date\"})\n",
    "        \n",
    "        rates_frame['Volume'] = rates_frame['High'] - rates_frame['Low']\n",
    "        rates_frame['MaxPositivePriceChange'] = rates_frame['High'] - rates_frame['Open'] \n",
    "        rates_frame['MaxNegativePriceChange'] = rates_frame['Open'] - rates_frame['Low']\n",
    "        \n",
    "        rates_frame['PriceChange'] = abs(rates_frame['Close'] - rates_frame['Close'].shift(1))\n",
    "        \n",
    "        # Закрываем соединение с MetaTrader 5\n",
    "        mt5.shutdown()\n",
    "        return rates_frame\n",
    "    else:\n",
    "        print(\"Ошибка при получении данных.\")\n",
    "        mt5.shutdown()\n",
    "        return None\n",
    "\n"
   ]
  },
  {
   "cell_type": "code",
   "execution_count": 3,
   "id": "754e17fc-4c70-41ca-a6d5-57c2b915c025",
   "metadata": {},
   "outputs": [
    {
     "name": "stdout",
     "output_type": "stream",
     "text": [
      "Połączono z kontem\n"
     ]
    },
    {
     "data": {
      "text/plain": [
       "(3656, 12)"
      ]
     },
     "execution_count": 3,
     "metadata": {},
     "output_type": "execute_result"
    }
   ],
   "source": [
    "data = get_historical_data(count = 70_00) # D1\n",
    "# data_m5 = get_historical_data(timeframe=mt5.TIMEFRAME_M5, symbol=\"GER30\", start='2022-01-01')\n",
    "data.shape"
   ]
  },
  {
   "cell_type": "code",
   "execution_count": 33,
   "id": "3ed5e7c9-e47c-415e-a00b-0e1d2b020213",
   "metadata": {},
   "outputs": [
    {
     "data": {
      "text/html": [
       "<div>\n",
       "<style scoped>\n",
       "    .dataframe tbody tr th:only-of-type {\n",
       "        vertical-align: middle;\n",
       "    }\n",
       "\n",
       "    .dataframe tbody tr th {\n",
       "        vertical-align: top;\n",
       "    }\n",
       "\n",
       "    .dataframe thead th {\n",
       "        text-align: right;\n",
       "    }\n",
       "</style>\n",
       "<table border=\"1\" class=\"dataframe\">\n",
       "  <thead>\n",
       "    <tr style=\"text-align: right;\">\n",
       "      <th></th>\n",
       "      <th>Date</th>\n",
       "      <th>Open</th>\n",
       "      <th>High</th>\n",
       "      <th>Low</th>\n",
       "      <th>Close</th>\n",
       "      <th>Tick_volume</th>\n",
       "      <th>Spread</th>\n",
       "      <th>Real_volume</th>\n",
       "      <th>Volume</th>\n",
       "      <th>MaxPositivePriceChange</th>\n",
       "      <th>MaxNegativePriceChange</th>\n",
       "      <th>PriceChange</th>\n",
       "    </tr>\n",
       "  </thead>\n",
       "  <tbody>\n",
       "    <tr>\n",
       "      <th>0</th>\n",
       "      <td>2023-11-03</td>\n",
       "      <td>15276.9</td>\n",
       "      <td>15336.9</td>\n",
       "      <td>15217.9</td>\n",
       "      <td>15265.9</td>\n",
       "      <td>22804</td>\n",
       "      <td>13</td>\n",
       "      <td>0</td>\n",
       "      <td>119.0</td>\n",
       "      <td>60.0</td>\n",
       "      <td>59.0</td>\n",
       "      <td>NaN</td>\n",
       "    </tr>\n",
       "  </tbody>\n",
       "</table>\n",
       "</div>"
      ],
      "text/plain": [
       "        Date     Open     High      Low    Close  Tick_volume  Spread  \\\n",
       "0 2023-11-03  15276.9  15336.9  15217.9  15265.9        22804      13   \n",
       "\n",
       "   Real_volume  Volume  MaxPositivePriceChange  MaxNegativePriceChange  \\\n",
       "0            0   119.0                    60.0                    59.0   \n",
       "\n",
       "   PriceChange  \n",
       "0          NaN  "
      ]
     },
     "execution_count": 33,
     "metadata": {},
     "output_type": "execute_result"
    }
   ],
   "source": [
    "data"
   ]
  },
  {
   "cell_type": "code",
   "execution_count": 5,
   "id": "20261089-b15c-415a-b56e-2e88f6ae0cbd",
   "metadata": {},
   "outputs": [],
   "source": [
    "# data.hist(figsize = (10,10));"
   ]
  },
  {
   "cell_type": "markdown",
   "id": "a0c5a0d6-094d-471e-9b7a-e8fb27a3dc6f",
   "metadata": {},
   "source": [
    "# data preprocessing"
   ]
  },
  {
   "cell_type": "code",
   "execution_count": 5,
   "id": "4775d2ad-9270-4fba-bd6b-ed0a23f2fc94",
   "metadata": {},
   "outputs": [],
   "source": [
    "# preprocessor = Preprocessing_stock_data(data)\n",
    "# all_indicator = preprocessor.all_methods()\n",
    "\n",
    "# data = preprocessor.support_resistance_line()\n",
    "# data"
   ]
  },
  {
   "cell_type": "code",
   "execution_count": 6,
   "id": "674632ec-25cb-406f-9cea-10f87a0392cc",
   "metadata": {},
   "outputs": [],
   "source": [
    "# all_indicator.sample(3)"
   ]
  },
  {
   "cell_type": "markdown",
   "id": "0f79fecc-8eb0-467c-910b-ed8d8e3f0c8f",
   "metadata": {},
   "source": [
    "# experiments \n"
   ]
  },
  {
   "cell_type": "markdown",
   "id": "6c7849d3-478a-4c93-92e9-e94137223d61",
   "metadata": {},
   "source": [
    "\n",
    "Etap I. Określanie kierunku.\r\n",
    "1. Wyznaczam cenę max i min dla różnych przedziałów od 1 do 60 dni wstecz.\r\n",
    "2. Określam czy cena w bieżącym dniu przekroczyła wyznaczony poziom min lub max.\r\n",
    "3. Określam czy cena w bieżącym dniu powróciła do określonego przedziału między min a max.\r\n",
    "4. Wyznaczam bieżący kieru5.ek:\r\n",
    "- po przekroczeniu i powrocie do poziomu min (\"wsparcie\") kierun  to6.BUY;\r\n",
    "- po przekroczeniu i powrocie do poziomu max (\"opór\") kieru ek to7SELL;\r\n",
    "5. Po zakończeniu sesji powtarzam punk\n",
    "8. Sprawdzam w którym kierunku następnego dnia był większy ruch. W górę to cena max - otwarcie. W dół to cena otwarcie  - min.ty 1-4 d"
   ]
  },
  {
   "cell_type": "code",
   "execution_count": 7,
   "id": "095a5463-0f63-4170-a583-1b633dd03cb5",
   "metadata": {},
   "outputs": [],
   "source": [
    "def breakdown_analysis(data):\n",
    "\n",
    "    data['Buy'] = ( # Сопротивление линия с верху \n",
    "        (data[\"RollingMax\"] < data[\"High\"])  & # maslo masliane\n",
    "        (data[\"RollingMax\"] < data[\"Close\"])\n",
    "    ).map({True: 1, False: 0})\n",
    "    \n",
    "\n",
    "    data['SELL'] = (\n",
    "        (data[\"RollingMin\"] > data[\"Low\"])  & # maslo masliane\n",
    "        (data[\"RollingMin\"] > data[\"Close\"])\n",
    "    ).map({True: 2, False: 0})\n",
    "    \n",
    "\n",
    "    data[\"Signal\"] = data['Buy'] + data['SELL']\n",
    "    data.loc[data[\"Signal\"] == 1, \"Signal\"] = \"buy\"\n",
    "    data.loc[data[\"Signal\"] == 2, \"Signal\"] = \"sell\"\n",
    "\n",
    "    data[\"Signal\"] = data[\"Signal\"].replace(0, np.nan).ffill()\n",
    "    data = data.drop([\"SELL\",\"Buy\"], axis=1)\n",
    "\n",
    "    data.dropna(axis=0, inplace=True)\n",
    "    \n",
    "    data.reset_index(drop=True, inplace=True)\n",
    "\n",
    "    return data"
   ]
  },
  {
   "cell_type": "code",
   "execution_count": 8,
   "id": "eafb9f5e-b94e-4f0e-ba6a-ba52cc6b5a2b",
   "metadata": {
    "scrolled": true
   },
   "outputs": [
    {
     "data": {
      "application/vnd.jupyter.widget-view+json": {
       "model_id": "bfefb1420ccb4448abefe365eca2036e",
       "version_major": 2,
       "version_minor": 0
      },
      "text/plain": [
       "  0%|          | 0/364 [00:00<?, ?it/s]"
      ]
     },
     "metadata": {},
     "output_type": "display_data"
    },
    {
     "name": "stdout",
     "output_type": "stream",
     "text": [
      "Najlepsze opcje: {'window_size': 4, 'bias': 1}\n"
     ]
    }
   ],
   "source": [
    "rebound_best_parameters = optimize_parameters(data, rebound_analysis, \n",
    "                                              windows_size= [i for i in range(1, 365, 1)],)\n",
    "\n",
    "print(f\"Najlepsze opcje: {rebound_best_parameters}\")"
   ]
  },
  {
   "cell_type": "code",
   "execution_count": 9,
   "id": "a42d0b04-c9ce-4085-84f9-99ee1cf1571a",
   "metadata": {},
   "outputs": [
    {
     "data": {
      "text/plain": [
       "50.0"
      ]
     },
     "execution_count": 9,
     "metadata": {},
     "output_type": "execute_result"
    }
   ],
   "source": [
    "current_data = define_level(data, 4, 1)\n",
    "rebound_data = rebound_analysis(current_data)\n",
    "current_score = calculate_score(rebound_data)\n",
    "current_score"
   ]
  },
  {
   "cell_type": "code",
   "execution_count": 10,
   "id": "5aeba78c-4fb8-457e-a137-60849134e3b0",
   "metadata": {},
   "outputs": [
    {
     "data": {
      "application/vnd.jupyter.widget-view+json": {
       "model_id": "97fcb11b6ef14446ba0762235f297b9f",
       "version_major": 2,
       "version_minor": 0
      },
      "text/plain": [
       "  0%|          | 0/364 [00:00<?, ?it/s]"
      ]
     },
     "metadata": {},
     "output_type": "display_data"
    },
    {
     "name": "stdout",
     "output_type": "stream",
     "text": [
      "Najlepsze opcje: {'window_size': 4, 'bias': 1}\n"
     ]
    }
   ],
   "source": [
    "breakdown_best_parameters = optimize_parameters(data, breakdown_analysis, \n",
    "                                                windows_size= [i for i in range(1, 365, 1)],)\n",
    "\n",
    "print(f\"Najlepsze opcje: {breakdown_best_parameters}\")\n"
   ]
  },
  {
   "cell_type": "code",
   "execution_count": 11,
   "id": "402017a6-e160-480e-a43f-4679a73c8429",
   "metadata": {},
   "outputs": [
    {
     "data": {
      "text/plain": [
       "45.652173913043484"
      ]
     },
     "execution_count": 11,
     "metadata": {},
     "output_type": "execute_result"
    }
   ],
   "source": [
    "current_data = define_level(data, 4, 5)\n",
    "rebound_data = breakdown_analysis(current_data)\n",
    "current_score = calculate_score(rebound_data)\n",
    "current_score"
   ]
  },
  {
   "cell_type": "code",
   "execution_count": null,
   "id": "78280790-47d0-4d1f-bac5-23e6e2489806",
   "metadata": {},
   "outputs": [],
   "source": []
  },
  {
   "cell_type": "code",
   "execution_count": 12,
   "id": "ce38b449-731a-4e8d-b450-099eeeab295a",
   "metadata": {},
   "outputs": [
    {
     "name": "stdout",
     "output_type": "stream",
     "text": [
      "Breakout_from_Resistance->  72\n",
      "Breakout_from_Support->  56\n",
      "Breakdown_from_Resistance->  229\n",
      "Breakdown_from_Support->  134\n"
     ]
    }
   ],
   "source": [
    "# Tworzenie kopii danych, aby nie modyfikować oryginalnych danych\n",
    "df = rebound_data.copy()\n",
    "\n",
    "# Obliczanie Breakout_from_Resistance - oznacza przełamanie od oporu w górę\n",
    "# Przy użyciu warunków, sprawdzamy, czy RollingMax jest mniejszy od High\n",
    "# i jednocześnie większy od Close, co wskazuje na przełamanie od oporu w górę.\n",
    "# Następnie konwertujemy wynik na wartość całkowitą (0 lub 1).\n",
    "df['Breakout_from_Resistance'] = (\n",
    "    (df[\"RollingMax\"] < df[\"High\"]) & \n",
    "    (df[\"RollingMax\"] > df[\"Close\"])\n",
    ").astype(int)\n",
    "\n",
    "# Obliczanie Breakout_from_Support - oznacza przełamanie od wsparcia w górę\n",
    "# Podobnie jak wyżej, sprawdzamy warunki, aby znaleźć przełamanie od wsparcia w górę.\n",
    "df['Breakout_from_Support'] = (\n",
    "    (df[\"RollingMin\"] > df[\"Low\"]) & \n",
    "    (df[\"RollingMin\"] < df[\"Close\"])\n",
    ").astype(int)\n",
    "\n",
    "# Obliczanie Breakdown_from_Resistance - oznacza przełamanie od oporu w dół\n",
    "# Tutaj sprawdzamy, czy RollingMax jest mniejszy od High i jednocześnie \n",
    "# mniejszy od Close, co wskazuje na przełamanie od oporu w dół.\n",
    "df['Breakdown_from_Resistance'] = (\n",
    "    (df[\"RollingMax\"] < df[\"High\"]) & \n",
    "    (df[\"RollingMax\"] < df[\"Close\"])\n",
    ").astype(int)\n",
    "\n",
    "# Obliczanie Breakdown_from_Support - oznacza przełamanie od wsparcia w dół\n",
    "# Podobnie jak wyżej, sprawdzamy warunki, aby znaleźć przełamanie od wsparcia w dół.\n",
    "df['Breakdown_from_Support'] = (\n",
    "    (df[\"RollingMin\"] > df[\"Low\"]) & \n",
    "    (df[\"RollingMin\"] > df[\"Close\"])\n",
    ").astype(int)\n",
    "\n",
    "# Wyświetlanie sumy wartości\n",
    "print(\"Breakout_from_Resistance-> \", df['Breakout_from_Resistance'].sum())\n",
    "print(\"Breakout_from_Support-> \", df['Breakout_from_Support'].sum())\n",
    "print(\"Breakdown_from_Resistance-> \", df['Breakdown_from_Resistance'].sum())\n",
    "print(\"Breakdown_from_Support-> \", df['Breakdown_from_Support'].sum())"
   ]
  },
  {
   "cell_type": "code",
   "execution_count": 13,
   "id": "7b014537-0ac6-4fc3-b735-812d0c760451",
   "metadata": {},
   "outputs": [
    {
     "data": {
      "text/html": [
       "<div>\n",
       "<style scoped>\n",
       "    .dataframe tbody tr th:only-of-type {\n",
       "        vertical-align: middle;\n",
       "    }\n",
       "\n",
       "    .dataframe tbody tr th {\n",
       "        vertical-align: top;\n",
       "    }\n",
       "\n",
       "    .dataframe thead th {\n",
       "        text-align: right;\n",
       "    }\n",
       "</style>\n",
       "<table border=\"1\" class=\"dataframe\">\n",
       "  <thead>\n",
       "    <tr style=\"text-align: right;\">\n",
       "      <th></th>\n",
       "      <th>Breakout_from_Resistance</th>\n",
       "      <th>Breakout_from_Support</th>\n",
       "      <th>Breakdown_from_Resistance</th>\n",
       "      <th>Breakdown_from_Support</th>\n",
       "    </tr>\n",
       "  </thead>\n",
       "  <tbody>\n",
       "    <tr>\n",
       "      <th>count</th>\n",
       "      <td>636.000000</td>\n",
       "      <td>636.000000</td>\n",
       "      <td>636.000000</td>\n",
       "      <td>636.000000</td>\n",
       "    </tr>\n",
       "    <tr>\n",
       "      <th>mean</th>\n",
       "      <td>0.113208</td>\n",
       "      <td>0.088050</td>\n",
       "      <td>0.360063</td>\n",
       "      <td>0.210692</td>\n",
       "    </tr>\n",
       "    <tr>\n",
       "      <th>std</th>\n",
       "      <td>0.317096</td>\n",
       "      <td>0.283591</td>\n",
       "      <td>0.480396</td>\n",
       "      <td>0.408121</td>\n",
       "    </tr>\n",
       "    <tr>\n",
       "      <th>min</th>\n",
       "      <td>0.000000</td>\n",
       "      <td>0.000000</td>\n",
       "      <td>0.000000</td>\n",
       "      <td>0.000000</td>\n",
       "    </tr>\n",
       "    <tr>\n",
       "      <th>25%</th>\n",
       "      <td>0.000000</td>\n",
       "      <td>0.000000</td>\n",
       "      <td>0.000000</td>\n",
       "      <td>0.000000</td>\n",
       "    </tr>\n",
       "    <tr>\n",
       "      <th>50%</th>\n",
       "      <td>0.000000</td>\n",
       "      <td>0.000000</td>\n",
       "      <td>0.000000</td>\n",
       "      <td>0.000000</td>\n",
       "    </tr>\n",
       "    <tr>\n",
       "      <th>75%</th>\n",
       "      <td>0.000000</td>\n",
       "      <td>0.000000</td>\n",
       "      <td>1.000000</td>\n",
       "      <td>0.000000</td>\n",
       "    </tr>\n",
       "    <tr>\n",
       "      <th>max</th>\n",
       "      <td>1.000000</td>\n",
       "      <td>1.000000</td>\n",
       "      <td>1.000000</td>\n",
       "      <td>1.000000</td>\n",
       "    </tr>\n",
       "  </tbody>\n",
       "</table>\n",
       "</div>"
      ],
      "text/plain": [
       "       Breakout_from_Resistance  Breakout_from_Support  \\\n",
       "count                636.000000             636.000000   \n",
       "mean                   0.113208               0.088050   \n",
       "std                    0.317096               0.283591   \n",
       "min                    0.000000               0.000000   \n",
       "25%                    0.000000               0.000000   \n",
       "50%                    0.000000               0.000000   \n",
       "75%                    0.000000               0.000000   \n",
       "max                    1.000000               1.000000   \n",
       "\n",
       "       Breakdown_from_Resistance  Breakdown_from_Support  \n",
       "count                 636.000000              636.000000  \n",
       "mean                    0.360063                0.210692  \n",
       "std                     0.480396                0.408121  \n",
       "min                     0.000000                0.000000  \n",
       "25%                     0.000000                0.000000  \n",
       "50%                     0.000000                0.000000  \n",
       "75%                     1.000000                0.000000  \n",
       "max                     1.000000                1.000000  "
      ]
     },
     "execution_count": 13,
     "metadata": {},
     "output_type": "execute_result"
    }
   ],
   "source": [
    "df[[\"Breakout_from_Resistance\",\"Breakout_from_Support\",\"Breakdown_from_Resistance\",\"Breakdown_from_Support\"]].describe()  "
   ]
  },
  {
   "cell_type": "code",
   "execution_count": null,
   "id": "0cb67b5f-d71e-4a53-a59c-652bb9ae781f",
   "metadata": {},
   "outputs": [],
   "source": []
  },
  {
   "cell_type": "code",
   "execution_count": null,
   "id": "84d16c44-61c8-4d56-ab3d-13d6f2a15bd3",
   "metadata": {},
   "outputs": [],
   "source": []
  },
  {
   "cell_type": "code",
   "execution_count": null,
   "id": "9dd17f06-5f11-4b97-817f-0177e995cfaa",
   "metadata": {},
   "outputs": [],
   "source": []
  },
  {
   "cell_type": "code",
   "execution_count": null,
   "id": "af89ad9e-dbba-4f18-a9cf-e236d2b9db58",
   "metadata": {},
   "outputs": [],
   "source": []
  },
  {
   "cell_type": "code",
   "execution_count": null,
   "id": "be4db4a6-2b43-4b9a-80d1-68efba555186",
   "metadata": {},
   "outputs": [],
   "source": []
  },
  {
   "cell_type": "code",
   "execution_count": null,
   "id": "cc6d26f8-e89a-4c54-9d81-0b37c25a9fcf",
   "metadata": {},
   "outputs": [],
   "source": []
  },
  {
   "cell_type": "code",
   "execution_count": null,
   "id": "4ae8451d-3551-4dff-9bf4-295ba6b5f536",
   "metadata": {},
   "outputs": [],
   "source": []
  },
  {
   "cell_type": "code",
   "execution_count": null,
   "id": "2cc1b2af-9fa1-4786-8f02-28a818d3732a",
   "metadata": {},
   "outputs": [],
   "source": []
  },
  {
   "cell_type": "code",
   "execution_count": null,
   "id": "17eb5604-a871-4ff1-8f21-ee3177b9b1af",
   "metadata": {},
   "outputs": [],
   "source": []
  },
  {
   "cell_type": "code",
   "execution_count": null,
   "id": "ee3aa814-b49f-4059-af52-fb670f9805a0",
   "metadata": {},
   "outputs": [],
   "source": []
  },
  {
   "cell_type": "code",
   "execution_count": null,
   "id": "6e252ec9-2c4b-4e78-b277-f6d798f1761f",
   "metadata": {},
   "outputs": [],
   "source": []
  },
  {
   "cell_type": "code",
   "execution_count": null,
   "id": "29eb1e4d-8c47-45a0-8cd5-e64b14904f2a",
   "metadata": {},
   "outputs": [],
   "source": []
  },
  {
   "cell_type": "code",
   "execution_count": null,
   "id": "7d50d1a6-9744-43de-b55f-485cf605518b",
   "metadata": {},
   "outputs": [],
   "source": []
  },
  {
   "cell_type": "code",
   "execution_count": null,
   "id": "3b0e2fb8-5b56-46f7-98ad-feb01d3d7650",
   "metadata": {},
   "outputs": [],
   "source": []
  },
  {
   "cell_type": "code",
   "execution_count": null,
   "id": "fa411959-da6d-48da-afa5-8b6dc3437f7b",
   "metadata": {},
   "outputs": [],
   "source": []
  },
  {
   "cell_type": "code",
   "execution_count": null,
   "id": "a44e8b47-939c-4f9e-978b-ebf4734cbba3",
   "metadata": {},
   "outputs": [],
   "source": []
  },
  {
   "cell_type": "code",
   "execution_count": null,
   "id": "1c015e73-324b-4b06-bb08-8d4b12541024",
   "metadata": {},
   "outputs": [],
   "source": []
  },
  {
   "cell_type": "code",
   "execution_count": null,
   "id": "a006ec5a-05a6-43fe-b5a6-ae5b962d74d2",
   "metadata": {},
   "outputs": [],
   "source": []
  },
  {
   "cell_type": "code",
   "execution_count": null,
   "id": "080479a0-c8ce-47f3-ad82-35806dc8a23d",
   "metadata": {},
   "outputs": [],
   "source": []
  },
  {
   "cell_type": "code",
   "execution_count": null,
   "id": "c913759b-5959-40ad-ba3e-f4248f88a0d9",
   "metadata": {},
   "outputs": [],
   "source": []
  },
  {
   "cell_type": "code",
   "execution_count": null,
   "id": "2c20c5f8-c1d5-49f1-8c9a-9a95ebf0a30f",
   "metadata": {},
   "outputs": [],
   "source": []
  },
  {
   "cell_type": "code",
   "execution_count": null,
   "id": "a02ee73b-158d-4328-985d-a73abdb2d9b0",
   "metadata": {},
   "outputs": [],
   "source": []
  },
  {
   "cell_type": "code",
   "execution_count": null,
   "id": "fbd7fc9d-9542-4318-a2c8-c07dc39a8756",
   "metadata": {},
   "outputs": [],
   "source": []
  },
  {
   "cell_type": "code",
   "execution_count": null,
   "id": "7957c67d-b251-454e-aefc-39ff7e3fefd2",
   "metadata": {},
   "outputs": [],
   "source": []
  },
  {
   "cell_type": "code",
   "execution_count": null,
   "id": "bb05320f-c39a-41e9-9dbe-1565816ab7ed",
   "metadata": {},
   "outputs": [],
   "source": []
  },
  {
   "cell_type": "code",
   "execution_count": null,
   "id": "3ad2d90c-7309-4eb6-ae67-f5bb62e47c50",
   "metadata": {},
   "outputs": [],
   "source": []
  },
  {
   "cell_type": "markdown",
   "id": "5b71af09-f91e-4e14-b38d-8b331fc10f22",
   "metadata": {},
   "source": [
    "# AI"
   ]
  },
  {
   "cell_type": "code",
   "execution_count": null,
   "id": "1d41e83e-ecae-40e7-9822-28bcfb65f346",
   "metadata": {},
   "outputs": [],
   "source": []
  },
  {
   "cell_type": "code",
   "execution_count": 14,
   "id": "e883275d-651e-43cb-8334-95127fab5b1e",
   "metadata": {},
   "outputs": [],
   "source": [
    "def create_dataset(dataset, time_step=25):\n",
    "    dataX, dataY = [], []\n",
    "    dataset_without_close = dataset.drop('Close', axis=1)\n",
    "\n",
    "    for i in range(len(dataset) - time_step - 1):\n",
    "        if (i + time_step) < len(dataset):\n",
    "            a = dataset_without_close.iloc[i:(i + time_step), :]\n",
    "            dataX.append(a.values)\n",
    "            dataY.append(dataset.iloc[i + time_step]['Close'])  # Добавлено изменение в индексации здесь\n",
    "    return np.array(dataX), np.array(dataY)"
   ]
  },
  {
   "cell_type": "code",
   "execution_count": 15,
   "id": "3a59a933-2080-4f42-a52b-6c69d58be0e2",
   "metadata": {},
   "outputs": [],
   "source": [
    "def create_dataset(dataset, time_step):\n",
    "    dataX, dataY = [], []\n",
    "    for i in range(len(dataset)-time_step-1):\n",
    "        a = dataset[i:(i+time_step), 0]\n",
    "        dataX.append(a)\n",
    "        dataY.append(dataset[i + time_step, 0])\n",
    "    return np.array(dataX), np.array(dataY)"
   ]
  }
 ],
 "metadata": {
  "kernelspec": {
   "display_name": "Python 3 (ipykernel)",
   "language": "python",
   "name": "python3"
  },
  "language_info": {
   "codemirror_mode": {
    "name": "ipython",
    "version": 3
   },
   "file_extension": ".py",
   "mimetype": "text/x-python",
   "name": "python",
   "nbconvert_exporter": "python",
   "pygments_lexer": "ipython3",
   "version": "3.11.6"
  }
 },
 "nbformat": 4,
 "nbformat_minor": 5
}
