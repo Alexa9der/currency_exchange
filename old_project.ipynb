{
 "cells": [
  {
   "cell_type": "markdown",
   "id": "460cec92",
   "metadata": {},
   "source": [
    "[Info_pd_np_plt_seaborn_sklearn](http://localhost:8888/notebooks/PycharmProjects/ML%20learning/stepik%20%D0%92%D0%B2%D0%B5%D0%B4%D0%B5%D0%BD%D0%B8%D0%B5%20%D0%B2%20Data%20Science%20%D0%B8%20%D0%BC%D0%B0%D1%88%D0%B8%D0%BD%D0%BD%D0%BE%D0%B5%20%D0%BE%D0%B1%D1%83%D1%87%D0%B5%D0%BD%D0%B8%D0%B5/Info_pd_np_plt_seaborn_sklearn.ipynb)\n",
    "\n",
    "\n"
   ]
  },
  {
   "cell_type": "markdown",
   "id": "9cf9791e",
   "metadata": {},
   "source": [
    "[MetaTrader module for integration with Python](https://www.mql5.com/en/docs/integration/python_metatrader5)"
   ]
  },
  {
   "cell_type": "code",
   "execution_count": 1,
   "id": "82213ee0",
   "metadata": {
    "ExecuteTime": {
     "end_time": "2023-01-22T21:31:49.683072Z",
     "start_time": "2023-01-22T21:31:43.368514Z"
    },
    "code_folding": [
     0,
     3,
     13,
     16,
     31
    ]
   },
   "outputs": [],
   "source": [
    "# sklearn\n",
    "# train_test_split Разделите массивы или матрицы на случайные поезда и тестовые подмножества.\n",
    "\n",
    "# RandomForestClassifier — это метаоценка, которая соответствует ряду классификаторов дерева \n",
    "# решений для различных подвыборок набора данных и использует усреднение для повышения \n",
    "# точности прогнозирования и контроля переобучения.\n",
    "\n",
    "# train_test_split Разделите массивы или матрицы на случайные тренировоные и тестовые подмножества.\n",
    "\n",
    "# GridSearchCV реализует метод «подгонки» и «оценки».\n",
    "from sklearn.model_selection import train_test_split, GridSearchCV\n",
    "from sklearn.ensemble        import RandomForestClassifier\n",
    "\n",
    "# precision_score — это интуитивно способность классификатора не маркировать отрицательный \n",
    "# образец как положительный.tp / (tp + fp)tpfp\n",
    "\n",
    "# recall_score это отношение, где - количество истинных положительных результатов и количество \n",
    "# ложных отрицательных результатов. Под отзывом понимается интуитивно способность классификатора \n",
    "# находить все положительные образцы.tp / (tp + fn)tpfn\n",
    "\n",
    "# В классификации с несколькими метками эта функция вычисляет точность подмножества.\n",
    "\n",
    "from sklearn.metrics         import precision_score, recall_score, accuracy_score\n",
    "\n",
    "# confusion_matrix - Вычислите матрицу путаницы, чтобы оценить точность классификации.\n",
    "\n",
    "# ConfusionMatrixDisplay - Визуализация матрицы путаницы.\n",
    "\n",
    "# r2_score - (коэффициент детерминации) функция оценки регрессии.\n",
    "from sklearn.metrics         import confusion_matrix, ConfusionMatrixDisplay, r2_score\n",
    "\n",
    "# Вычислите рабочую характеристику приемника (ROC).\n",
    "# Примечание: эта реализация ограничена задачей бинарной классификации.\n",
    "\n",
    "# Вычислите площадь под кривой (AUC), используя правило трапеций.\n",
    "from sklearn.metrics  import roc_curve, auc\n",
    "from sklearn.datasets import make_classification"
   ]
  },
  {
   "cell_type": "code",
   "execution_count": 2,
   "id": "718b5422",
   "metadata": {
    "ExecuteTime": {
     "end_time": "2023-01-22T21:31:51.037871Z",
     "start_time": "2023-01-22T21:31:49.691007Z"
    }
   },
   "outputs": [],
   "source": [
    "import MetaTrader5 as mt5 # treiding platforms\n",
    "import talib       as tl # indocators"
   ]
  },
  {
   "cell_type": "code",
   "execution_count": 3,
   "id": "2f6c45b8",
   "metadata": {
    "ExecuteTime": {
     "end_time": "2023-01-22T21:31:51.053605Z",
     "start_time": "2023-01-22T21:31:51.042082Z"
    }
   },
   "outputs": [],
   "source": [
    "import pandas as pd # for datasets \n",
    "import numpy  as np # math for datasets"
   ]
  },
  {
   "cell_type": "code",
   "execution_count": 4,
   "id": "f12fbd2f",
   "metadata": {
    "ExecuteTime": {
     "end_time": "2023-01-22T21:31:55.448889Z",
     "start_time": "2023-01-22T21:31:51.058581Z"
    }
   },
   "outputs": [],
   "source": [
    "import matplotlib.pyplot as plt \n",
    "import seaborn           as sns\n",
    "%matplotlib inline"
   ]
  },
  {
   "cell_type": "code",
   "execution_count": 5,
   "id": "76b2482f",
   "metadata": {
    "ExecuteTime": {
     "end_time": "2023-01-22T21:31:55.464821Z",
     "start_time": "2023-01-22T21:31:55.452828Z"
    }
   },
   "outputs": [],
   "source": [
    "from datetime import datetime, timedelta\n",
    "import time"
   ]
  },
  {
   "cell_type": "code",
   "execution_count": 6,
   "id": "1980d8e0",
   "metadata": {
    "ExecuteTime": {
     "end_time": "2023-01-22T21:31:55.559055Z",
     "start_time": "2023-01-22T21:31:55.468817Z"
    }
   },
   "outputs": [],
   "source": [
    "# интерактивные виджеты\n",
    "# @interact\n",
    "import ipywidgets as widgets\n",
    "from ipywidgets import interact, interact_manual"
   ]
  },
  {
   "cell_type": "code",
   "execution_count": 7,
   "id": "0164c68b",
   "metadata": {
    "ExecuteTime": {
     "end_time": "2023-01-22T21:31:55.903989Z",
     "start_time": "2023-01-22T21:31:55.563030Z"
    }
   },
   "outputs": [],
   "source": [
    "# Jupyter Notebook progressbar decorator\n",
    "from tqdm import tqdm_notebook as tqdm"
   ]
  },
  {
   "cell_type": "code",
   "execution_count": 8,
   "id": "c01fe02a",
   "metadata": {
    "ExecuteTime": {
     "end_time": "2023-01-22T21:31:55.919192Z",
     "start_time": "2023-01-22T21:31:55.909992Z"
    },
    "code_folding": []
   },
   "outputs": [],
   "source": [
    "TAKE_PROFIT = 500\n",
    "STOP_LOSS = 100"
   ]
  },
  {
   "cell_type": "markdown",
   "id": "ccf79706",
   "metadata": {},
   "source": [
    "# Data  from the MetaTrader5"
   ]
  },
  {
   "cell_type": "code",
   "execution_count": 9,
   "id": "3eca9feb",
   "metadata": {
    "ExecuteTime": {
     "end_time": "2023-01-22T21:31:56.042976Z",
     "start_time": "2023-01-22T21:31:55.924195Z"
    },
    "code_folding": [
     0
    ]
   },
   "outputs": [],
   "source": [
    "def conect_mt5():\n",
    "    # Сonnect\n",
    "    if mt5.initialize():\n",
    "        login = 61715\n",
    "        password = \"b4980638\"\n",
    "        serwer = \"GerchikCo-MT5\"\n",
    "        if mt5.login(login, password, serwer):\n",
    "            ...\n",
    "            print(\"Сonnected\")\n",
    "        else:\n",
    "            print(f\"{mt5.last_error()= }\")"
   ]
  },
  {
   "cell_type": "code",
   "execution_count": 10,
   "id": "f72c4597",
   "metadata": {
    "ExecuteTime": {
     "end_time": "2023-01-22T21:31:56.144228Z",
     "start_time": "2023-01-22T21:31:56.070171Z"
    },
    "code_folding": [
     0
    ]
   },
   "outputs": [],
   "source": [
    "def my_tikers_from_mt5():\n",
    "    tikers = \"\"\"\"*USD*,*EUR*,*JPY*,*GBP*,!*JPY*,!*SEK*,!*ZAR*,!*SEK*,!*NOK*,!*TRY*,!*MXN*,!*HKD*,!*DKK*,!*HUF*,!*PLN*,!*SGD*!*XAG*,!*XAU*,!*EUR_50*,!*XAG*\"\"\"\n",
    "    conect_mt5()\n",
    "    group_symbols = mt5.symbols_get(group = tikers)\n",
    "    mt5.shutdown()\n",
    "    name_tikers = [ s.name for s in group_symbols]\n",
    "    return name_tikers"
   ]
  },
  {
   "cell_type": "code",
   "execution_count": 42,
   "id": "4ba2e3b9",
   "metadata": {
    "ExecuteTime": {
     "end_time": "2023-01-23T18:45:51.827256Z",
     "start_time": "2023-01-23T18:45:51.625755Z"
    },
    "code_folding": [
     0,
     8,
     17,
     22
    ]
   },
   "outputs": [],
   "source": [
    "def data_mt5 (ticer = \"EURUSDz\", start_bar = 500,\n",
    "              spacing = mt5.TIMEFRAME_H1, take_profit= 500,\n",
    "             stop_loss =100 ):\n",
    "\n",
    "    conect_mt5()\n",
    "    \n",
    "    data = mt5.copy_rates_from_pos(ticer, mt5.TIMEFRAME_H1, 0, start_bar)\n",
    "    \n",
    "    if mt5.shutdown():\n",
    "        print(\"Shutdown\")\n",
    "    \n",
    "    data_frame = pd.DataFrame(data)\n",
    "    # преобразовать время в секундах в формат datetime\n",
    "#     data_frame['time'] = pd.to_datetime( data_frame['time'], unit='s')\n",
    "    \n",
    "    # указываем метку которую в будущом будем предсказывать\n",
    "    data_frame[\"positive_label\"] = 0\n",
    "    positive_label_query = ((data_frame[\"high\"] - data_frame[\"open\"] ) >= (take_profit/10**6))  &\\\n",
    "                            ((data_frame[\"open\"] - data_frame[\"low\"]) <= (stop_loss/10**5) )\n",
    "    data_frame.loc[ positive_label_query, \"positive_label\" ] = 1\n",
    "    \n",
    "    data_frame[\"negative_label\"] = 0\n",
    "    negative_label_query = ((data_frame[\"open\"] - data_frame[\"low\"]) >= (take_profit/10**6)) &\\\n",
    "                            ((data_frame[\"high\"] - data_frame[\"open\"] ) <= (stop_loss/10**5) )  \n",
    "    data_frame.loc[ negative_label_query, \"negative_label\" ] = 1\n",
    "\n",
    "    return data_frame"
   ]
  },
  {
   "cell_type": "code",
   "execution_count": 35,
   "id": "0254b1d9",
   "metadata": {
    "ExecuteTime": {
     "end_time": "2023-01-23T05:41:59.366938Z",
     "start_time": "2023-01-23T05:41:59.349946Z"
    },
    "code_folding": [
     0,
     12,
     16,
     18,
     26,
     40
    ]
   },
   "outputs": [],
   "source": [
    "def order(data_orders,\n",
    "          direction = str,\n",
    "          lot = 0.01 ,\n",
    "          take_profit= 500,\n",
    "          stop_loss = 100 ):\n",
    "    \"\"\"\n",
    "    direction: In which direction should the buy or sell order be placed \"BUY\" or \"SELL\"\n",
    "    \"\"\"\n",
    "    for symbol, value in data_orders.items():\n",
    "        if value[-1] == 1:\n",
    "            conect_mt5()\n",
    "            symbol_info = mt5.symbol_info(symbol)\n",
    "            if symbol_info is None:\n",
    "                print(symbol, \"not found, can not call order_check()\")\n",
    "                mt5.shutdown()\n",
    "            # if the symbol is unavailable in MarketWatch, add it\n",
    "            if not symbol_info.visible:\n",
    "                print(symbol, \"is not visible, trying to switch on\")\n",
    "                if not mt5.symbol_select(symbol,True):\n",
    "                    print(\"symbol_select({}}) failed, exit\",symbol)\n",
    "                    mt5.shutdown()\n",
    "        #     point = mt5.symbol_info(symbol).point\n",
    "            request = dict()\n",
    "\n",
    "            if direction == \"BUY\":\n",
    "                print(direction, symbol )   \n",
    "                request = {\n",
    "                    \"action\": mt5.TRADE_ACTION_DEAL, \n",
    "                    \"symbol\": symbol,\n",
    "                    \"volume\": lot,\n",
    "                    \"sl\": mt5.symbol_info_tick(symbol).ask - stop_loss/10**5, \n",
    "                    \"tp\": mt5.symbol_info_tick(symbol).ask + take_profit/10**5,\n",
    "                    \"deviation\": 10 ,\n",
    "                    \"type\": mt5.ORDER_TYPE_BUY,\n",
    "                    \"type_filling\": mt5.ORDER_FILLING_IOC ,\n",
    "                    \"magic\": 234000,\n",
    "                    \"type_time\": mt5.ORDER_TIME_DAY }\n",
    "\n",
    "            elif direction == \"SELL\":\n",
    "                print(direction, symbol ) \n",
    "                request={\n",
    "                    \"action\": mt5.TRADE_ACTION_DEAL,\n",
    "                    \"symbol\": symbol,\n",
    "                    \"volume\": lot,\n",
    "                    \"sl\": mt5.symbol_info_tick(symbol).bid + stop_loss/10**5,\n",
    "                    \"tp\": mt5.symbol_info_tick(symbol).bid - take_profit/10**5,\n",
    "                    \"deviation\": 10,\n",
    "                    \"type\": mt5.ORDER_TYPE_SELL, \n",
    "                    \"type_filling\": mt5.ORDER_FILLING_IOC ,\n",
    "                    \"magic\": 234000,\n",
    "                    \"type_time\": mt5.ORDER_TIME_DAY }\n",
    "\n",
    "            mt5.order_send(request)\n",
    "            mt5.shutdown()"
   ]
  },
  {
   "cell_type": "markdown",
   "id": "b7a97bf1",
   "metadata": {},
   "source": [
    "# Indikator  from the Talib"
   ]
  },
  {
   "cell_type": "code",
   "execution_count": 13,
   "id": "4fa1130d",
   "metadata": {
    "ExecuteTime": {
     "end_time": "2023-01-22T21:31:56.443792Z",
     "start_time": "2023-01-22T21:31:56.320611Z"
    },
    "code_folding": [
     0
    ]
   },
   "outputs": [],
   "source": [
    "def add_indicators_pattern_recognition_functions(data):\n",
    "    df = data.copy()\n",
    "    \n",
    "    open = df[\"open\"]\n",
    "    high = df[\"high\"]\n",
    "    low = df[\"low\"]\n",
    "    close = df[\"close\"]\n",
    "    \n",
    "    df[\"CDL2CROWS\"] = tl.CDL2CROWS(open, high, low, close)\n",
    "    df[\"CDL3BLACKCROWS\"] = tl.CDL3BLACKCROWS(open, high, low, close)\n",
    "    df[\"CDL3INSIDE\"] = tl.CDL3INSIDE(open, high, low, close)\n",
    "    df[\"CDL3LINESTRIKE\"] = tl.CDL3LINESTRIKE(open, high, low, close)\n",
    "    df[\"CDL3OUTSIDE\"] = tl.CDL3OUTSIDE(open, high, low, close)\n",
    "    df[\"CDL3STARSINSOUTH\"] = tl.CDL3STARSINSOUTH(open, high, low, close)\n",
    "    df[\"CDL3WHITESOLDIERS\"] = tl.CDL3WHITESOLDIERS(open, high, low, close)\n",
    "    df[\"CDLABANDONEDBABY\"] = tl.CDLABANDONEDBABY(open, high, low, close, penetration=0)\n",
    "    df[\"CDLADVANCEBLOCK\"] = tl.CDLADVANCEBLOCK(open, high, low, close)\n",
    "    df[\"CDLBELTHOLD\"] = tl.CDLBELTHOLD(open, high, low, close)\n",
    "    df[\"CDLBREAKAWAY\"] = tl.CDLBREAKAWAY(open, high, low, close)\n",
    "    df[\"CDLCLOSINGMARUBOZU\"] = tl.CDLCLOSINGMARUBOZU(open, high, low, close)\n",
    "    df[\"CDLCONCEALBABYSWALL\"] = tl.CDLCONCEALBABYSWALL(open, high, low, close)\n",
    "    df[\"CDLCOUNTERATTACK\"] = tl.CDLCOUNTERATTACK(open, high, low, close)\n",
    "    df[\"CDLDARKCLOUDCOVER\"] = tl.CDLDARKCLOUDCOVER(open, high, low, close, penetration=0)\n",
    "    df[\"CDLDOJI\"] = tl.CDLDOJI(open, high, low, close)\n",
    "    df[\"CDLDOJISTAR\"] = tl.CDLDOJISTAR(open, high, low, close)\n",
    "    df[\"CDLDRAGONFLYDOJI\"] = tl.CDLDRAGONFLYDOJI(open, high, low, close)\n",
    "    df[\"CDLENGULFING\"] = tl.CDLENGULFING(open, high, low, close)\n",
    "    df[\"CDLEVENINGDOJISTAR\"] = tl.CDLEVENINGDOJISTAR(open, high, low, close, penetration=0)\n",
    "    df[\"CDLEVENINGSTAR\"] = tl.CDLEVENINGSTAR(open, high, low, close, penetration=0)\n",
    "    df[\"CDLGAPSIDESIDEWHITE\"] = tl.CDLGAPSIDESIDEWHITE(open, high, low, close)\n",
    "    df[\"CDLGRAVESTONEDOJI\"] = tl.CDLGRAVESTONEDOJI(open, high, low, close)\n",
    "    df[\"CDLHAMMER\"] = tl.CDLHAMMER(open, high, low, close)\n",
    "    df[\"CDLHANGINGMAN\"] = tl.CDLHANGINGMAN(open, high, low, close)\n",
    "    df[\"CDLHARAMI\"] = tl.CDLHARAMI(open, high, low, close)\n",
    "    df[\"CDLHARAMICROSS\"] = tl.CDLHARAMICROSS(open, high, low, close)\n",
    "    df[\"CDLHIGHWAVE\"] = tl.CDLHIGHWAVE(open, high, low, close)\n",
    "    df[\"CDLHIKKAKE\"] = tl.CDLHIKKAKE(open, high, low, close)\n",
    "    df[\"CDLHIKKAKEMOD\"] = tl.CDLHIKKAKEMOD(open, high, low, close)\n",
    "    df[\"CDLHOMINGPIGEON\"] = tl.CDLHOMINGPIGEON(open, high, low, close)\n",
    "    df[\"CDLIDENTICAL3CROWS\"] = tl.CDLIDENTICAL3CROWS(open, high, low, close)\n",
    "    df[\"CDLINNECK\"] = tl.CDLINNECK(open, high, low, close)\n",
    "    df[\"CDLINVERTEDHAMMER\"] = tl.CDLINVERTEDHAMMER(open, high, low, close)\n",
    "    df[\"CDLKICKING\"] = tl.CDLKICKING(open, high, low, close)\n",
    "    df[\"CDLKICKINGBYLENGTH\"] = tl.CDLKICKINGBYLENGTH(open, high, low, close)\n",
    "    df[\"CDLLADDERBOTTOM\"] = tl.CDLLADDERBOTTOM(open, high, low, close)\n",
    "    df[\"CDLLONGLEGGEDDOJI\"] = tl.CDLLONGLEGGEDDOJI(open, high, low, close)\n",
    "    df[\"CDLLONGLINE\"] = tl.CDLLONGLINE(open, high, low, close)\n",
    "    df[\"CDLMARUBOZU\"] = tl.CDLMARUBOZU(open, high, low, close)\n",
    "    df[\"CDLMATCHINGLOW\"] = tl.CDLMATCHINGLOW(open, high, low, close)\n",
    "    df[\"CDLMATHOLD\"] = tl.CDLMATHOLD(open, high, low, close, penetration=0)\n",
    "    df[\"CDLMORNINGDOJISTAR\"] = tl.CDLMORNINGDOJISTAR(open, high, low, close, penetration=0)\n",
    "    df[\"CDLMORNINGSTAR\"] = tl.CDLMORNINGSTAR(open, high, low, close, penetration=0)\n",
    "    df[\"CDLONNECK\"] = tl.CDLONNECK(open, high, low, close)\n",
    "    df[\"CDLPIERCING\"] = tl.CDLPIERCING(open, high, low, close)\n",
    "    df[\"CDLRICKSHAWMAN\"] = tl.CDLRICKSHAWMAN(open, high, low, close)\n",
    "    df[\"CDLRISEFALL3METHODS\"] = tl.CDLRISEFALL3METHODS(open, high, low, close)\n",
    "    df[\"CDLSEPARATINGLINES\"] = tl.CDLSEPARATINGLINES(open, high, low, close)\n",
    "    df[\"CDLSHOOTINGSTAR\"] = tl.CDLSHOOTINGSTAR(open, high, low, close)\n",
    "    df[\"CDLSHORTLINE\"] = tl.CDLSHORTLINE(open, high, low, close)\n",
    "    df[\"CDLSPINNINGTOP\"] = tl.CDLSPINNINGTOP(open, high, low, close)\n",
    "    df[\"CDLSTALLEDPATTERN\"] = tl.CDLSTALLEDPATTERN(open, high, low, close)\n",
    "    df[\"CDLSTICKSANDWICH\"] = tl.CDLSTICKSANDWICH(open, high, low, close)\n",
    "    df[\"CDLTAKURI\"] = tl.CDLTAKURI(open, high, low, close)\n",
    "    df[\"CDLTASUKIGAP\"] = tl.CDLTASUKIGAP(open, high, low, close)\n",
    "    df[\"CDLTHRUSTING\"] = tl.CDLTHRUSTING(open, high, low, close)\n",
    "    df[\"CDLTRISTAR\"] = tl.CDLTRISTAR(open, high, low, close)\n",
    "    df[\"CDLUNIQUE3RIVER\"] = tl.CDLUNIQUE3RIVER(open, high, low, close)\n",
    "    df[\"CDLUPSIDEGAP2CROWS\"] = tl.CDLUPSIDEGAP2CROWS(open, high, low, close)\n",
    "    df[\"CDLXSIDEGAP3METHODS\"] = tl.CDLXSIDEGAP3METHODS(open, high, low, close)\n",
    "    \n",
    "    return df.fillna(0)"
   ]
  },
  {
   "cell_type": "code",
   "execution_count": 14,
   "id": "d01d02c9",
   "metadata": {
    "ExecuteTime": {
     "end_time": "2023-01-22T21:31:56.553190Z",
     "start_time": "2023-01-22T21:31:56.449468Z"
    },
    "code_folding": [
     0,
     3
    ]
   },
   "outputs": [],
   "source": [
    "def overlap_studies_functions(data, PERIOD = [23,115,460]):\n",
    "    data = data.copy()\n",
    "    close = data[\"close\"]\n",
    "    for i in PERIOD: \n",
    "        data[\"DEMA\"+str(i)] = tl.DEMA(close, timeperiod=i)\n",
    "        data[\"EMA\"+str(i)] = tl.EMA(close, timeperiod=i)\n",
    "        data[\"KAMA\"+str(i)] = tl.KAMA(close, timeperiod=i)\n",
    "        data[\"MIDPOINT\"+str(i)] = tl.MIDPOINT(close, timeperiod=i)\n",
    "        data[\"SMA\"+str(i)] = tl.SMA(close, timeperiod=i)\n",
    "        data[\"TRIMA\"+str(i)] = tl.TRIMA(close, timeperiod=i)\n",
    "        data[\"WMA\"+str(i)] = tl.WMA(close, timeperiod=i)\n",
    "        data[\"T3\"+str(i)] = tl.T3(close, timeperiod=i, vfactor=0)\n",
    "        data[\"TEMA\"+str(i)] = tl.TEMA(close, timeperiod=i)\n",
    "        data[\"MA\"+str(i)] = tl.MA(close, timeperiod=i, matype=0)\n",
    "    data[\"HT_TRENDLINE\"+str(i)] = tl.HT_TRENDLINE(close)\n",
    "    return data.fillna(0)"
   ]
  },
  {
   "cell_type": "code",
   "execution_count": 15,
   "id": "dcfcf7c3",
   "metadata": {
    "ExecuteTime": {
     "end_time": "2023-01-22T21:31:56.686978Z",
     "start_time": "2023-01-22T21:31:56.559451Z"
    },
    "code_folding": [
     0
    ]
   },
   "outputs": [],
   "source": [
    "def math_transform_functions(data):\n",
    "    df = data.copy()\n",
    "    close = df[\"close\"]\n",
    "    \n",
    "    df[\"ACOS\"] = tl.ACOS(close)\n",
    "    df[\"ASIN\"] = tl.ASIN(close)\n",
    "    df[\"ATAN\"] = tl.ATAN(close)\n",
    "    df[\"CEIL\"] = tl.CEIL(close)\n",
    "    df[\"COS\"] =  tl.COS(close)\n",
    "    df[\"COSH\"] = tl.COSH(close)\n",
    "    df[\"EXP\"] =  tl.EXP(close)\n",
    "    df[\"FLOOR\"] = tl.FLOOR(close)\n",
    "    df[\"LN\"] =  tl.LN(close)\n",
    "    df[\"LOG10\"] = tl.LOG10(close)\n",
    "    df[\"SIN\"] =  tl.SIN(close)\n",
    "    df[\"SINH\"] = tl.SINH(close)\n",
    "    df[\"SQRT\"] = tl.SQRT(close)\n",
    "    df[\"TAN\"] =  tl.TAN(close)\n",
    "    df[\"TANH\"] = tl.TANH(close)\n",
    "    \n",
    "    return df.fillna(0)"
   ]
  },
  {
   "cell_type": "code",
   "execution_count": 16,
   "id": "3b13841f",
   "metadata": {
    "ExecuteTime": {
     "end_time": "2023-01-22T21:31:56.796626Z",
     "start_time": "2023-01-22T21:31:56.696042Z"
    },
    "code_folding": [
     0,
     8,
     34
    ]
   },
   "outputs": [],
   "source": [
    "def momentum_indicator_functions(data, PERIOD = [23,115,460]):\n",
    "    df = data.copy()\n",
    "    \n",
    "    open = df[\"open\"]\n",
    "    high = df[\"high\"]\n",
    "    low = df[\"low\"]\n",
    "    close = df[\"close\"]\n",
    "    volume = df[\"real_volume\"]\n",
    "    for i in PERIOD:\n",
    "        df[\"ADX\"+str(i)] = tl.ADX(high, low, close, timeperiod=i)\n",
    "        df[\"ADXR\"+str(i)] = tl.ADXR(high, low, close, timeperiod=i)\n",
    "        df[\"AROONOSC\"+str(i)] = tl.AROONOSC(high, low, timeperiod=i)\n",
    "        df[\"CCI\"+str(i)] = tl.CCI(high, low, close, timeperiod=i)\n",
    "        df[\"CMO\"+str(i)] = tl.CMO(close, timeperiod=i)\n",
    "        df[\"DX\"+str(i)] = tl.DX(high, low, close, timeperiod=i)\n",
    "        df[\"MFI\"+str(i)] = tl.MFI(high, low, close, volume, timeperiod=i)\n",
    "        df[\"MINUS_DI\"+str(i)] = tl.MINUS_DI(high, low, close, timeperiod=i)\n",
    "        df[\"MINUS_DM\"+str(i)] = tl.MINUS_DM(high, low, timeperiod=i)\n",
    "        df[\"MOM\"+str(i)] = tl.MOM(close, timeperiod=i)\n",
    "        df[\"PLUS_DI\"+str(i)] = tl.PLUS_DI(high, low, close, timeperiod=i)\n",
    "        df[\"PLUS_DM\"+str(i)] = tl.PLUS_DM(high, low, timeperiod=i)\n",
    "        df[\"ROC\"+str(i)] =  tl.ROC(close, timeperiod=i)\n",
    "        df[\"ROCP\"+str(i)] =  tl.ROCP(close, timeperiod=i)\n",
    "        df[\"ROCR\"+str(i)] =  tl.ROCR(close, timeperiod=i)\n",
    "        df[\"ROCR100\"+str(i)] = tl.ROCR100(close, timeperiod=i)\n",
    "        df[\"RSI\"+str(i)] =   tl.RSI(close, timeperiod=i)\n",
    "        df[\"WILLR\"+str(i)] = tl.WILLR(high, low, close, timeperiod=i)\n",
    "        df[\"TRIX\"+str(i)] =  tl.TRIX(close, timeperiod=i)\n",
    "    \n",
    "    df[\"APO\"] = tl.APO(close, fastperiod=12, slowperiod=26, matype=0)\n",
    "    df[\"PPO\"] = tl.PPO(close, fastperiod=12, slowperiod=26, matype=0)\n",
    "    df[\"real\"] = tl.ULTOSC(high, low, close, timeperiod1=7, timeperiod2=14, timeperiod3=28)\n",
    "    df[\"real\"] = tl.ULTOSC(high, low, close, timeperiod1=7, timeperiod2=14, timeperiod3=28)\n",
    "    \n",
    "#     df[\"macd\",\"macdsignal\",\"macdhistdf\"]  = tl.MACD(close, fastperiod=12, slowperiod=26, signalperiod=9)\n",
    "#     df[\"MACDEXT\",\"MACDEXTsignal\",\"MACDEXThist\"]  = tl.MACDEXT(close, fastperiod=12, fastmatype=0, slowperiod=26, slowmatype=0, signalperiod=9, signalmatype=0)\n",
    "#     df[\"MACDFIX\",\"MACDFIXsignal\",\"MACDFIXhist\"] = tl.MACDFIX(close, signalperiod=9)\n",
    "#     df[\"STOCHRSIfastk\",\"STOCHRSIfastd\"] = tl.STOCHRSI(close, timeperiod=14, fastk_period=5, fastd_period=3, fastd_matype=0)\n",
    "#     df[\"STOCHslowk\",\"STOCHslowd\"] = tl.STOCH(high, low, close, fastk_period=5, slowk_period=3, slowk_matype=0, slowd_period=3, slowd_matype=0)\n",
    "#     df[\"STOCHFfastk\",\"STOCHFfastd\"] = tl.STOCHF(high, low, close, fastk_period=5, fastd_period=3, fastd_matype=0)\n",
    "    \n",
    "    return df.fillna(0)"
   ]
  },
  {
   "cell_type": "code",
   "execution_count": 17,
   "id": "1d677e6e",
   "metadata": {
    "ExecuteTime": {
     "end_time": "2023-01-22T21:31:56.873149Z",
     "start_time": "2023-01-22T21:31:56.800765Z"
    },
    "code_folding": [
     0,
     5
    ]
   },
   "outputs": [],
   "source": [
    "def statistic_functions (data, PERIOD = [23,115,460]):\n",
    "    df = data.copy()\n",
    "    high = df[\"high\"]\n",
    "    low = df[\"low\"]\n",
    "    close = df[\"close\"]\n",
    "    for i in PERIOD:\n",
    "        df[\"BETA\"+str(i)] = tl.BETA(high, low, timeperiod=i)\n",
    "        df[\"CORREL\"+str(i)] = tl.CORREL(high, low, timeperiod=i)\n",
    "        df[\"LINEARREG\"+str(i)] = tl.LINEARREG(close, timeperiod=i)\n",
    "        df[\"LINEARREG_ANGLE\"+str(i)] = tl.LINEARREG_ANGLE(close, timeperiod=i)\n",
    "        df[\"LINEARREG_INTERCEPT\"+str(i)] = tl.LINEARREG_INTERCEPT(close, timeperiod=i)\n",
    "        df[\"LINEARREG_SLOPE\"+str(i)] = tl.LINEARREG_SLOPE(close, timeperiod=i)\n",
    "        df[\"STDDEV\"+str(i)] = tl.STDDEV(close, timeperiod=i, nbdev=1)\n",
    "        df[\"TSF\"+str(i)] = tl.TSF(close, timeperiod=i)\n",
    "        df[\"VAR\"+str(i)] = tl.VAR(close, timeperiod=i, nbdev=1)\n",
    "        \n",
    "        df[\"median\" + str(i)] = df[\"close\"].rolling(window=i, min_periods=1).median()\n",
    "        df[\"mode\" + str(i)] = df[\"close\"].rolling(window=i, min_periods=1).apply(lambda x: x.mode()[0])\n",
    "        df[\"std\" + str(i)] = df[\"median\" + str(i)].rolling(window=i, min_periods=1).std()\n",
    "        \n",
    "    return df.fillna(0)"
   ]
  },
  {
   "cell_type": "code",
   "execution_count": 18,
   "id": "d55af2f6",
   "metadata": {
    "ExecuteTime": {
     "end_time": "2023-01-22T21:31:56.966085Z",
     "start_time": "2023-01-22T21:31:56.877147Z"
    },
    "code_folding": [
     0,
     6,
     13
    ]
   },
   "outputs": [],
   "source": [
    "def math_operator_functions(data, PERIOD = [23,115,460]):\n",
    "    df = data.copy()\n",
    "    close = df[\"close\"]\n",
    "    high  = df[\"high\"]\n",
    "    low   = df[\"low\"]\n",
    "    \n",
    "    for i in PERIOD:\n",
    "        df[\"MAX\"+str(i)] = tl.MAX(close, timeperiod=i)\n",
    "        df[\"MAXINDEX\"+str(i)] = tl.MAXINDEX(close, timeperiod=i)\n",
    "        df[\"MIN\"+str(i)] = tl.MIN(close, timeperiod=i)\n",
    "        df[\"MININDEX\"+str(i)] = tl.MININDEX(close, timeperiod=i)\n",
    "        df[\"SUM\"+str(i)] = tl.SUM(close, timeperiod=i)\n",
    "\n",
    "# min, max = MINMAX(close, timeperiod=30)\n",
    "# minidx, maxidx = MINMAXINDEX(close, timeperiod=30)\n",
    "\n",
    "    df[\"ADD\"] = tl.ADD(high, low)\n",
    "    df[\"DIV\"] = tl.DIV(high, low)\n",
    "    df[\"SUB\"] = tl.SUB(high, low)\n",
    "    \n",
    "    return df.fillna(0)"
   ]
  },
  {
   "cell_type": "code",
   "execution_count": 19,
   "id": "5cc8260c",
   "metadata": {
    "ExecuteTime": {
     "end_time": "2023-01-22T21:31:57.065888Z",
     "start_time": "2023-01-22T21:31:56.973202Z"
    },
    "code_folding": [
     0
    ]
   },
   "outputs": [],
   "source": [
    "def best_indicators(data, PERIOD = [23,115,460] ) -> pd.DataFrame:\n",
    "    \n",
    "    \"\"\"\n",
    "    best indicators  zostały wybrane poprzez uczenie modelu na wskaźnikach\n",
    "    o podobnym znaczeniu, takich jak wskaźniki „Overlap Studies” lub \n",
    "    „Momentum Indicators” i tak dalej… Wybórane zostali najbardziej przydatne dla modelu.\n",
    "    \"\"\"\n",
    "    df = data.copy()\n",
    "    open = df[\"open\"]\n",
    "    high = df[\"high\"]\n",
    "    low = df[\"low\"]\n",
    "    close = df[\"close\"]\n",
    "    \n",
    "    \n",
    "    df[\"CDLLONGLINE\"] = tl.CDLLONGLINE(open, high, low, close)\n",
    "    df[\"CDLSHORTLINE\"] = tl.CDLSHORTLINE(open, high, low, close)\n",
    "    df[\"CDLBELTHOLD\"] = tl.CDLBELTHOLD(open, high, low, close)\n",
    "    df[\"TANH\"] = tl.TANH(close)\n",
    "    df[\"ATAN\"] = tl.ATAN(close)\n",
    "    df[\"SINH\"] = tl.SINH(close)\n",
    "    df[\"DIV\"] = tl.DIV(high, low)\n",
    "    df[\"ADD\"] = tl.ADD(high, low)\n",
    "    df[\"SUB\"] = tl.SUB(high, low)\n",
    "    df[\"HT_TRENDLINE\"] = tl.HT_TRENDLINE(close)\n",
    "    df[\"WMA\"] = tl.WMA(close, timeperiod=23)\n",
    "    df[\"TRIMA\"] = tl.TRIMA(close, timeperiod=23)\n",
    "    df[\"CMO\"] = tl.CMO(close, timeperiod=23)\n",
    "    df[\"MINUS_DI\"] = tl.MINUS_DI(high, low, close, timeperiod=23)\n",
    "    df[\"ADX\"] = tl.ADX(high, low, close, timeperiod=23)\n",
    "    df[\"BETA\"] = tl.BETA(high, low, timeperiod=23)\n",
    "    df[\"TSF_23\"] = tl.TSF(close, timeperiod=23)\n",
    "    df[\"TSF_115\"] = tl.TSF(close, timeperiod=115)\n",
    "    df[\"mode_23\"] = df[\"close\"].rolling(window=23, min_periods=1).apply(lambda x: x.mode()[0])\n",
    "    \n",
    "\n",
    "    return df.fillna(0)"
   ]
  },
  {
   "cell_type": "code",
   "execution_count": 20,
   "id": "c68cd2aa",
   "metadata": {
    "ExecuteTime": {
     "end_time": "2023-01-22T21:31:57.151266Z",
     "start_time": "2023-01-22T21:31:57.070012Z"
    },
    "code_folding": [
     0
    ]
   },
   "outputs": [],
   "source": [
    "def best_parameters_for_buy (data) -> pd.DataFrame:\n",
    "    \"\"\"\n",
    "    best indicators  zostały wybrane poprzez uczenie modelu na wskaźnikach\n",
    "    o podobnym znaczeniu, takich jak wskaźniki „Overlap Studies” lub \n",
    "    „Momentum Indicators” i tak dalej… Wybórane zostali najbardziej przydatne dla modelu.\n",
    "    13.01.2023\n",
    "    \"\"\"\n",
    "    df = data.copy()\n",
    "    open = df[\"open\"]\n",
    "    high = df[\"high\"]\n",
    "    low = df[\"low\"]\n",
    "    close = df[\"close\"]\n",
    "    \n",
    "    df[\"CDLBELTHOLD\"] = tl.CDLBELTHOLD(open, high, low, close)\n",
    "    df[\"CDLMARUBOZU\"] = tl.CDLMARUBOZU(open, high, low, close)\n",
    "    df[\"CDLCLOSINGMARUBOZU\"] = tl.CDLCLOSINGMARUBOZU(open, high, low, close)\n",
    "    \n",
    "    df[\"ATAN\"] = tl.ATAN(close)\n",
    "    df[\"COS\"] =  tl.COS(close)\n",
    "    df[\"COSH\"] = tl.COSH(close)\n",
    "    df[\"EXP\"] =  tl.EXP(close)\n",
    "    df[\"LN\"] =  tl.LN(close)\n",
    "    df[\"LOG10\"] = tl.LOG10(close)\n",
    "    df[\"SIN\"] =  tl.SIN(close)\n",
    "    df[\"SINH\"] = tl.SINH(close)\n",
    "    df[\"SQRT\"] = tl.SQRT(close)\n",
    "    df[\"TAN\"] =  tl.TAN(close)\n",
    "    df[\"TANH\"] = tl.TANH(close)\n",
    "    \n",
    "    return df.fillna(0)"
   ]
  },
  {
   "cell_type": "code",
   "execution_count": 21,
   "id": "8c84a041",
   "metadata": {
    "ExecuteTime": {
     "end_time": "2023-01-22T21:31:57.231636Z",
     "start_time": "2023-01-22T21:31:57.156266Z"
    },
    "code_folding": [
     0
    ]
   },
   "outputs": [],
   "source": [
    "def best_parameters_for_sell(data):\n",
    "    \"\"\"\n",
    "    best parameters\n",
    "    \"\"\"\n",
    "    df = data.copy()\n",
    "    \n",
    "    open = df[\"open\"]\n",
    "    high = df[\"high\"]\n",
    "    low = df[\"low\"]\n",
    "    close = df[\"close\"]\n",
    "    \n",
    "    \n",
    "    df[\"CDLLONGLINE\"] = tl.CDLLONGLINE(open, high, low, close)\n",
    "    df[\"CDLSHORTLINE\"] = tl.CDLSHORTLINE(open, high, low, close)\n",
    "    df[\"CDLBELTHOLD\"] = tl.CDLBELTHOLD(open, high, low, close)\n",
    "    df[\"CDLENGULFING\"] = tl.CDLENGULFING(open, high, low, close)\n",
    "    \n",
    "    df[\"WILLR_23\"] = tl.WILLR(high, low, close, timeperiod=23)\n",
    "    df[\"APO\"] = tl.APO(close, fastperiod=12, slowperiod=26, matype=0)\n",
    "    df[\"PPO\"] = tl.PPO(close, fastperiod=12, slowperiod=26, matype=0)\n",
    "    \n",
    "    return df.fillna(0)"
   ]
  },
  {
   "cell_type": "markdown",
   "id": "c3ddd179",
   "metadata": {},
   "source": [
    "# Prepared models and data for forecasting"
   ]
  },
  {
   "cell_type": "code",
   "execution_count": 22,
   "id": "3e6e7585",
   "metadata": {
    "ExecuteTime": {
     "end_time": "2023-01-22T21:32:14.230525Z",
     "start_time": "2023-01-22T21:31:57.236635Z"
    },
    "code_folding": [
     0,
     7
    ],
    "collapsed": true,
    "jupyter": {
     "outputs_hidden": true
    }
   },
   "outputs": [
    {
     "name": "stdout",
     "output_type": "stream",
     "text": [
      "Сonnected\n",
      "Сonnected\n",
      "Shutdown\n",
      "Сonnected\n",
      "Shutdown\n",
      "Сonnected\n",
      "Shutdown\n",
      "Сonnected\n",
      "Shutdown\n",
      "Сonnected\n",
      "Shutdown\n",
      "Сonnected\n",
      "Shutdown\n",
      "Сonnected\n",
      "Shutdown\n",
      "Сonnected\n",
      "Shutdown\n",
      "Сonnected\n",
      "Shutdown\n",
      "Сonnected\n",
      "Shutdown\n",
      "Сonnected\n",
      "Shutdown\n",
      "Сonnected\n",
      "Shutdown\n",
      "Сonnected\n",
      "Shutdown\n",
      "Сonnected\n",
      "Сonnected\n",
      "Shutdown\n",
      "Сonnected\n",
      "Shutdown\n",
      "Сonnected\n",
      "Shutdown\n",
      "Сonnected\n",
      "Shutdown\n",
      "Сonnected\n",
      "Shutdown\n",
      "Сonnected\n",
      "Shutdown\n",
      "Сonnected\n",
      "Shutdown\n",
      "Сonnected\n",
      "Shutdown\n",
      "Сonnected\n",
      "Shutdown\n",
      "Сonnected\n",
      "Shutdown\n",
      "Сonnected\n",
      "Shutdown\n",
      "Сonnected\n",
      "Shutdown\n",
      "Сonnected\n",
      "Shutdown\n"
     ]
    }
   ],
   "source": [
    "def all_data_for_predict(tiker, indicators, start_bar=500 ) -> dict :\n",
    "    \"\"\"\n",
    "    \"BUY\" or \"SELL\"\n",
    "    all data from MT5 for predict\n",
    "    wszystkie dane z MT5 do przewidywania \n",
    "    \"\"\"\n",
    "    data = dict()\n",
    "    for i in tiker:\n",
    "        data[str(i)] = indicators( data_mt5( ticer=i, start_bar=start_bar))\n",
    "    return data\n",
    "        \n",
    "data_for_buy = all_data_for_predict( my_tikers_from_mt5(), best_parameters_for_buy, start_bar=1 )\n",
    "data_for_sell = all_data_for_predict( my_tikers_from_mt5(), best_parameters_for_sell, start_bar=1 )"
   ]
  },
  {
   "cell_type": "code",
   "execution_count": 23,
   "id": "c7f2634e",
   "metadata": {
    "ExecuteTime": {
     "end_time": "2023-01-22T22:17:03.504878Z",
     "start_time": "2023-01-22T21:32:14.234501Z"
    },
    "code_folding": [
     1,
     34
    ],
    "collapsed": true,
    "jupyter": {
     "outputs_hidden": true
    }
   },
   "outputs": [
    {
     "name": "stdout",
     "output_type": "stream",
     "text": [
      "Сonnected\n",
      "Shutdown\n",
      "Сonnected\n",
      "Shutdown\n",
      "CPU times: total: 1min 35s\n",
      "Wall time: 44min 49s\n"
     ]
    }
   ],
   "source": [
    "%%time\n",
    "def model_training (data ,direction= str, return_test_data = True): \n",
    "    \"\"\"\n",
    "    data: model training data\n",
    "    direction:\"str\" the direction in which transactions will be carried out to choose from \"BUY\" or \"SELL\"\n",
    "    return: If return_test_data = True model -> best_clf, test data -> X_test and y_test\n",
    "            else return only model -> best_clf\n",
    "    \"\"\"\n",
    "    \n",
    "    if direction == \"BUY\": predict_label = data.positive_label\n",
    "    elif direction == \"SELL\" : predict_label = data.negative_label\n",
    "    \n",
    "    #направление сделки\n",
    "    X = data.drop([\"negative_label\",\"positive_label\",\"time\",\n",
    "                   \"real_volume\",\"high\",\"low\",\"close\",\"spread\"], axis=1)\n",
    "    y = predict_label\n",
    "        \n",
    "    X_train, X_test, y_train, y_test = train_test_split(X, \n",
    "                                                        y, \n",
    "                                                        test_size=0.33, \n",
    "                                                        random_state=42) \n",
    "    \n",
    "     # RandomForestClassifier — это метаоценка, которая соответствует ряду классификаторов дерева \n",
    "     # решений для различных подвыборок набора данных и использует усреднение для повышения \n",
    "     # точности прогнозирования и контроля переобучения.\n",
    "    clf_rf = RandomForestClassifier(random_state=0)\n",
    "    params = ({ \"criterion\": [\"gini\", \"entropy\", \"log_loss\" ],\n",
    "                \"n_estimators\":range(10,200,10),  # от 10 до 100 с шагом 10\n",
    "                \"max_depth\": range(3,7,2),        # от 3 до 7 с шагом 2\n",
    "                \"min_samples_leaf\":range(1,7),    # от 1 до 7\n",
    "                \"min_samples_split\":range(2,9,2)  # от 2 до 9 с шагом 2\n",
    "              })\n",
    "\n",
    "    # GridSearchCV реализует метод «подгонки» и «оценки».\n",
    "    grid_searh_cv_clf = GridSearchCV(clf_rf, \n",
    "                                     params,\n",
    "                                     cv= 5,\n",
    "                                     n_jobs=-1,\n",
    "                                     error_score=\"raise\" ) \n",
    "\n",
    "    # обучение модели\n",
    "    grid_searh_cv_clf.fit(X_train, y_train)\n",
    "\n",
    "    # выбор самых лутших параметров ссовсего леса\n",
    "    best_clf = grid_searh_cv_clf.best_estimator_\n",
    "    \n",
    "    if return_test_data == True : return [best_clf, X_test, y_test]\n",
    "    else: return [best_clf ]\n",
    "    \n",
    "model_for_buy  =  model_training( best_parameters_for_buy( data_mt5()), direction=\"BUY\" )\n",
    "model_for_sell = model_training( best_parameters_for_sell( data_mt5()), direction=\"SELL\" )\n",
    "# Wall time: 48min 34s"
   ]
  },
  {
   "cell_type": "code",
   "execution_count": 24,
   "id": "b032df7d",
   "metadata": {
    "ExecuteTime": {
     "end_time": "2023-01-22T22:17:03.520869Z",
     "start_time": "2023-01-22T22:17:03.509876Z"
    },
    "code_folding": [
     0,
     9
    ]
   },
   "outputs": [],
   "source": [
    "def predict_data( data_for_predicted  , model, percent = 0.5 ) -> int :\n",
    "    \"\"\"\n",
    "    data_for_predicted: model for predicts\n",
    "    model: model for predicts\n",
    "    percent: recommendation = 0.75, 0.8 because \"recall\" approaching zero\n",
    "    resust: prediction in int form \n",
    "    \"\"\"\n",
    "    if type(model) == list:\n",
    "        model = model[0]\n",
    "    data_for_predicted = data_for_predicted.drop([\"negative_label\",\"positive_label\",\"time\",\n",
    "                   \"real_volume\",\"high\",\"low\",\"close\",\"spread\"], axis=1 ) \n",
    "    predict = model.predict(data_for_predicted)\n",
    "    predict_pr = model.predict_proba(data_for_predicted)\n",
    "    predict_result = np.where( predict_pr[:, 1] > percent , 1, 0 )\n",
    "    return  predict_result"
   ]
  },
  {
   "cell_type": "code",
   "execution_count": 25,
   "id": "dc07d33d",
   "metadata": {
    "ExecuteTime": {
     "end_time": "2023-01-22T22:17:03.892626Z",
     "start_time": "2023-01-22T22:17:03.526866Z"
    },
    "code_folding": [
     0
    ]
   },
   "outputs": [],
   "source": [
    "def all_predict_data (models, datas, percents = 0.5 ) -> dict :\n",
    "    \"\"\"\n",
    "    datas: all data for predicts\n",
    "    models: all model for predicts\n",
    "    resust: prediction in the form of an dict which has the form of a key  ticker and volume predict\n",
    "    \"\"\"\n",
    "    predict = dict()\n",
    "    for key, value in datas.items():\n",
    "        predict[key] = predict_data(data_for_predicted = datas[key], \n",
    "                                    model = models, percent = percents )\n",
    "    return predict"
   ]
  },
  {
   "cell_type": "code",
   "execution_count": 26,
   "id": "e2b8bff7",
   "metadata": {
    "ExecuteTime": {
     "end_time": "2023-01-22T22:17:04.047020Z",
     "start_time": "2023-01-22T22:17:03.896624Z"
    },
    "code_folding": [
     36,
     40,
     45,
     52,
     60,
     76
    ]
   },
   "outputs": [],
   "source": [
    "# percentage_experiment_and_informational\n",
    "def model_information( model, \n",
    "                      X = False , \n",
    "                      y = False, percent = 0.5,\n",
    "                      info = False, visualization = False ):\n",
    "    \"\"\"\n",
    "    model: model predict \n",
    "    X -> X_test\n",
    "    y -> y_test\n",
    "    \n",
    "    \"\"\"    \n",
    "    if type(model) == list :\n",
    "        model, X_test, y_test = model\n",
    "    elif type(model) != list :\n",
    "        X_test = X\n",
    "        y_test = y\n",
    "    # predict data\n",
    "    predicts = model.predict(X_test)\n",
    "    \n",
    "    # Метод в классификаторах и кластеризаторах, который может возвращать оценки вероятности для каждого класса/кластера. \n",
    "    # На его вход обычно поступают только наблюдаемые данные X.\n",
    "    test_predict_proba = model.predict_proba(X_test)\n",
    "    pred_prob = np.where( test_predict_proba[:, 1] > percent , 1, 0 )\n",
    "\n",
    "    # Precision — полезная мера успеха предсказания, когда классы очень несбалансированы.\n",
    "    # В информационном поиске точность — это мера релевантности результатов. \n",
    "    precision = precision_score(y_test, pred_prob, average='micro')\n",
    "    \n",
    "    # recall — это мера того, сколько действительно релевантных результатов возвращается.\n",
    "    recall = recall_score(y_test, pred_prob, average='micro')\n",
    "    \n",
    "    # метрика насколько точно мы предсказываем правильные знаения как дя 1 так и для 0 \n",
    "    accuracy_scor_before_setting = accuracy_score(y_test, predicts)\n",
    "    accuracy_scor_after_setting = accuracy_score(y_test, pred_prob)\n",
    "    \n",
    "    \n",
    "    if info == True :\n",
    "        print(f\"before change = {accuracy_scor_before_setting}\")\n",
    "        print(f\"after change  = {accuracy_scor_after_setting}\")\n",
    "        print(f\"{precision = }\\n{recall = }\")\n",
    "    elif visualization == True:\n",
    "        pd.Series(pred_prob).hist()\n",
    "        \n",
    "        # указывае относительную меру важности каждого признака (фичи) в предсказаниях модели\n",
    "        feature_importances = model.feature_importances_\n",
    "        feature_importances_df = pd.DataFrame({\"feature\": X_test.columns,\n",
    "                                               \"feature_importances\":feature_importances})\\\n",
    "                                                .sort_values(\"feature_importances\", \n",
    "                                                             ascending=False)\n",
    "\n",
    "        # визуализация относительных мер важности каждого признака(фичи) в предсказаниях модели\n",
    "        f, ax = plt.subplots(figsize=(6, 6))\n",
    "        sns.barplot(y=feature_importances_df.feature, \n",
    "                    x= feature_importances_df.feature_importances)\n",
    "        plt.xlabel('Важность атрибутов')\n",
    "        plt.ylabel('Атрибуты')\n",
    "        plt.title(\"Важность атрибутыов\")\n",
    "        plt.show()\n",
    "        \n",
    "        \n",
    "        print(\"\"\"        \n",
    "                истинно положительный (TP)\n",
    "                Результат теста, который правильно указывает на наличие условия или характеристики\n",
    "                истинно отрицательный (TN)\n",
    "                Результат теста, который правильно указывает на отсутствие условия или характеристики\n",
    "                ложноположительный результат (FP)\n",
    "                Результат теста, который ошибочно указывает на наличие определенного состояния или атрибута\n",
    "                ложноотрицательный (FN)\n",
    "                Результат теста, ошибочно указывающий на отсутствие определенного условия или атрибута.\n",
    "                \n",
    "                Оши́бка пе́рвого ро́да (α-ошибка,ложноположительное заключение) — ситуация, когда \n",
    "                отвергнута верная нулевая гипотеза (об отсутствии связи между явлениями или искомого эффекта)\n",
    "                Оши́бка второ́го ро́да (β-ошибка, ложноотрицательное заключение) — \n",
    "                ситуация, когда принята неверная нулевая гипотеза.\n",
    "                \"\"\")\n",
    "        cm = confusion_matrix(y_test, pred_prob, labels=model.classes_)\n",
    "        disp = ConfusionMatrixDisplay(confusion_matrix=cm,\n",
    "                                      display_labels=model.classes_)\n",
    "        disp.plot()\n",
    "        plt.show()\n",
    "        \n",
    "        # Визуализация ROC AUC кривой \n",
    "        # показатель роспределения наших предсказаний по precision и recall\n",
    "        fpr, tpr, thresholds = roc_curve(y_test, pred_prob)\n",
    "        roc_auc= auc(fpr, tpr)\n",
    "\n",
    "        plt.figure()\n",
    "        plt.plot(fpr, tpr, label='ROC curve (area = %0.2f)' % (roc_auc))\n",
    "        plt.plot([0, 1], [0, 1], \"k--\", label=\"chance level (AUC = 0.5)\")\n",
    "        plt.axis(\"square\")\n",
    "        plt.xlabel(\"False Positive Rate\")\n",
    "        plt.ylabel(\"True Positive Rate\")\n",
    "        plt.title(\"One-vs-Rest ROC curves:\\nVirginica vs (Setosa & Versicolor)\")\n",
    "        plt.legend()\n",
    "        return plt.show()"
   ]
  },
  {
   "cell_type": "code",
   "execution_count": 27,
   "id": "9a135018",
   "metadata": {
    "ExecuteTime": {
     "end_time": "2023-01-22T22:17:07.717520Z",
     "start_time": "2023-01-22T22:17:04.051149Z"
    },
    "code_folding": [
     1
    ],
    "collapsed": true,
    "jupyter": {
     "outputs_hidden": true
    }
   },
   "outputs": [
    {
     "data": {
      "application/vnd.jupyter.widget-view+json": {
       "model_id": "b836ba2640b7497bafb60601bd6f42a5",
       "version_major": 2,
       "version_minor": 0
      },
      "text/plain": [
       "interactive(children=(FloatSlider(value=0.7, description='b', max=1.0, min=0.5), FloatSlider(value=0.7, descri…"
      ]
     },
     "metadata": {},
     "output_type": "display_data"
    }
   ],
   "source": [
    "@interact\n",
    "def fo(b=(0.5,1,0.1), s=(0.5,1,0.1)):\n",
    "    model_information(model_for_buy,info=True, percent=b)\n",
    "    model_information(model_for_buy,visualization=True, percent=b)\n",
    "\n",
    "    model_information(model_for_sell,info=True, percent=s)\n",
    "    model_information(model_for_sell,visualization=True, percent=s)"
   ]
  },
  {
   "cell_type": "code",
   "execution_count": null,
   "id": "daa1a39d",
   "metadata": {},
   "outputs": [],
   "source": []
  },
  {
   "cell_type": "markdown",
   "id": "93983995",
   "metadata": {},
   "source": [
    "# Predicting prices"
   ]
  },
  {
   "cell_type": "code",
   "execution_count": 28,
   "id": "5fd9ea60",
   "metadata": {
    "ExecuteTime": {
     "end_time": "2023-01-22T22:17:07.764508Z",
     "start_time": "2023-01-22T22:17:07.734529Z"
    },
    "code_folding": [
     0,
     1,
     2,
     5,
     9,
     11,
     19
    ]
   },
   "outputs": [],
   "source": [
    "def mein():\n",
    "    while True :\n",
    "        data_for_buy = all_data_for_predict( my_tikers_from_mt5(), \n",
    "                                                best_parameters_for_buy, \n",
    "                                                start_bar=1000 )\n",
    "        data_for_sell = all_data_for_predict( my_tikers_from_mt5(),\n",
    "                                                 best_parameters_for_sell, \n",
    "                                                 start_bar=1000 )\n",
    "            \n",
    "        buy_predict  =  all_predict_data(models= model_for_buy,\n",
    "                             datas= data_for_buy )\n",
    "        sell_predict =  all_predict_data(models= model_for_sell,\n",
    "                                 datas= data_for_sell)\n",
    "\n",
    "        order(data_orders=buy_predict, direction= \"BUY\")\n",
    "        order(data_orders=sell_predict, direction= \"SELL\")\n",
    "        time.sleep(60*60)\n",
    "        \n",
    "\n",
    "def mein_2(): \n",
    "    hour_control = 0 \n",
    "    while True :\n",
    "        now = datetime.now()\n",
    "        if now.hour != hour_control:\n",
    "            hour_control = now.hour\n",
    "            \n",
    "            data_for_buy = all_data_for_predict( my_tikers_from_mt5(), \n",
    "                                                best_parameters_for_buy, \n",
    "                                                start_bar=1000 )\n",
    "            data_for_sell = all_data_for_predict( my_tikers_from_mt5(),\n",
    "                                                 best_parameters_for_sell, \n",
    "                                                 start_bar=1000 )\n",
    "            \n",
    "            buy_predict  =  all_predict_data(models= model_for_buy,\n",
    "                                             datas= data_for_buy,\n",
    "                                             percents = 0.6)\n",
    "            sell_predict =  all_predict_data(models= model_for_sell,\n",
    "                                             datas= data_for_sell,\n",
    "                                             percents = 0.6 )\n",
    "            \n",
    "\n",
    "            order(data_orders=buy_predict, direction= \"BUY\")\n",
    "            order(data_orders=sell_predict, direction= \"SELL\")"
   ]
  },
  {
   "cell_type": "code",
   "execution_count": 44,
   "id": "e1de927e",
   "metadata": {
    "ExecuteTime": {
     "end_time": "2023-01-24T04:00:03.523571Z",
     "start_time": "2023-01-23T18:46:36.509662Z"
    },
    "code_folding": [],
    "scrolled": true
   },
   "outputs": [
    {
     "name": "stdout",
     "output_type": "stream",
     "text": [
      "Сonnected\n",
      "Сonnected\n",
      "Shutdown\n",
      "Сonnected\n",
      "Shutdown\n",
      "Сonnected\n",
      "Shutdown\n",
      "Сonnected\n",
      "Shutdown\n",
      "Сonnected\n",
      "Shutdown\n",
      "Сonnected\n",
      "Shutdown\n",
      "Сonnected\n",
      "Shutdown\n",
      "Сonnected\n",
      "Shutdown\n",
      "Сonnected\n",
      "Shutdown\n",
      "Сonnected\n",
      "Shutdown\n",
      "Сonnected\n",
      "Shutdown\n",
      "Сonnected\n",
      "Shutdown\n",
      "Сonnected\n",
      "Shutdown\n",
      "Сonnected\n",
      "Сonnected\n",
      "Shutdown\n",
      "Сonnected\n",
      "Shutdown\n",
      "Сonnected\n",
      "Shutdown\n",
      "Сonnected\n",
      "Shutdown\n",
      "Сonnected\n",
      "Shutdown\n",
      "Сonnected\n",
      "Shutdown\n",
      "Сonnected\n",
      "Shutdown\n",
      "Сonnected\n",
      "Shutdown\n",
      "Сonnected\n",
      "Shutdown\n",
      "Сonnected\n",
      "Shutdown\n",
      "Сonnected\n",
      "Shutdown\n",
      "Сonnected\n",
      "Shutdown\n",
      "Сonnected\n",
      "Shutdown\n",
      "Сonnected\n",
      "BUY EURCHFz\n",
      "Сonnected\n",
      "BUY EURNZDz\n",
      "Сonnected\n",
      "BUY GBPCHFz\n",
      "Сonnected\n",
      "BUY GBPNZDz\n",
      "Сonnected\n",
      "SELL EURAUDz\n",
      "Сonnected\n",
      "SELL EURNZDz\n",
      "Сonnected\n",
      "SELL GBPNZDz\n",
      "Сonnected\n",
      "Сonnected\n",
      "Shutdown\n",
      "Сonnected\n",
      "Shutdown\n",
      "Сonnected\n",
      "Shutdown\n",
      "Сonnected\n",
      "Shutdown\n",
      "Сonnected\n",
      "Shutdown\n",
      "Сonnected\n",
      "Shutdown\n",
      "Сonnected\n",
      "Shutdown\n",
      "Сonnected\n",
      "Shutdown\n",
      "Сonnected\n",
      "Shutdown\n",
      "Сonnected\n",
      "Shutdown\n",
      "Сonnected\n",
      "Shutdown\n",
      "Сonnected\n",
      "Shutdown\n",
      "Сonnected\n",
      "Shutdown\n",
      "Сonnected\n",
      "Сonnected\n",
      "Shutdown\n",
      "Сonnected\n",
      "Shutdown\n",
      "Сonnected\n",
      "Shutdown\n",
      "Сonnected\n",
      "Shutdown\n",
      "Сonnected\n",
      "Shutdown\n",
      "Сonnected\n",
      "Shutdown\n",
      "Сonnected\n",
      "Shutdown\n",
      "Сonnected\n",
      "Shutdown\n",
      "Сonnected\n",
      "Shutdown\n",
      "Сonnected\n",
      "Shutdown\n",
      "Сonnected\n",
      "Shutdown\n",
      "Сonnected\n",
      "Shutdown\n",
      "Сonnected\n",
      "Shutdown\n",
      "Сonnected\n",
      "SELL EURAUDz\n",
      "Сonnected\n",
      "SELL EURNZDz\n",
      "Сonnected\n",
      "SELL EURSGDz\n",
      "Сonnected\n",
      "SELL EURUSDz\n",
      "Сonnected\n",
      "SELL GBPNZDz\n",
      "Сonnected\n",
      "Сonnected\n",
      "Shutdown\n",
      "Сonnected\n",
      "Shutdown\n",
      "Сonnected\n",
      "Shutdown\n",
      "Сonnected\n",
      "Shutdown\n",
      "Сonnected\n",
      "Shutdown\n",
      "Сonnected\n",
      "Shutdown\n",
      "Сonnected\n",
      "Shutdown\n",
      "Сonnected\n",
      "Shutdown\n",
      "Сonnected\n",
      "Shutdown\n",
      "Сonnected\n",
      "Shutdown\n",
      "Сonnected\n",
      "Shutdown\n",
      "Сonnected\n",
      "Shutdown\n",
      "Сonnected\n",
      "Shutdown\n",
      "Сonnected\n",
      "Сonnected\n",
      "Shutdown\n",
      "Сonnected\n",
      "Shutdown\n",
      "Сonnected\n",
      "Shutdown\n",
      "Сonnected\n",
      "Shutdown\n",
      "Сonnected\n",
      "Shutdown\n",
      "Сonnected\n",
      "Shutdown\n",
      "Сonnected\n",
      "Shutdown\n",
      "Сonnected\n",
      "Shutdown\n",
      "Сonnected\n",
      "Shutdown\n",
      "Сonnected\n",
      "Shutdown\n",
      "Сonnected\n",
      "Shutdown\n",
      "Сonnected\n",
      "Shutdown\n",
      "Сonnected\n",
      "Shutdown\n",
      "Сonnected\n",
      "SELL EURAUDz\n",
      "Сonnected\n",
      "SELL EURCADz\n",
      "Сonnected\n",
      "SELL EURNZDz\n",
      "Сonnected\n",
      "SELL EURSGDz\n",
      "Сonnected\n",
      "SELL EURUSDz\n",
      "Сonnected\n",
      "SELL GBPAUDz\n",
      "Сonnected\n",
      "SELL GBPNZDz\n",
      "Сonnected\n",
      "Сonnected\n",
      "Shutdown\n",
      "Сonnected\n",
      "Shutdown\n",
      "Сonnected\n",
      "Shutdown\n",
      "Сonnected\n",
      "Shutdown\n",
      "Сonnected\n",
      "Shutdown\n",
      "Сonnected\n",
      "Shutdown\n",
      "Сonnected\n",
      "Shutdown\n",
      "Сonnected\n",
      "Shutdown\n",
      "Сonnected\n",
      "Shutdown\n",
      "Сonnected\n",
      "Shutdown\n",
      "Сonnected\n",
      "Shutdown\n",
      "Сonnected\n",
      "Shutdown\n",
      "Сonnected\n",
      "Shutdown\n",
      "Сonnected\n",
      "Сonnected\n",
      "Shutdown\n",
      "Сonnected\n",
      "Shutdown\n",
      "Сonnected\n",
      "Shutdown\n",
      "Сonnected\n",
      "Shutdown\n",
      "Сonnected\n",
      "Shutdown\n",
      "Сonnected\n",
      "Shutdown\n",
      "Сonnected\n",
      "Shutdown\n",
      "Сonnected\n",
      "Shutdown\n",
      "Сonnected\n",
      "Shutdown\n",
      "Сonnected\n",
      "Shutdown\n",
      "Сonnected\n",
      "Shutdown\n",
      "Сonnected\n",
      "Shutdown\n",
      "Сonnected\n",
      "Shutdown\n",
      "Сonnected\n",
      "SELL EURAUDz\n",
      "Сonnected\n",
      "SELL EURCADz\n",
      "Сonnected\n",
      "SELL EURUSDz\n",
      "Сonnected\n",
      "Сonnected\n",
      "Shutdown\n",
      "Сonnected\n",
      "Shutdown\n",
      "Сonnected\n",
      "Shutdown\n",
      "Сonnected\n",
      "Shutdown\n",
      "Сonnected\n",
      "Shutdown\n",
      "Сonnected\n",
      "Shutdown\n",
      "Сonnected\n",
      "Shutdown\n",
      "Сonnected\n",
      "Shutdown\n",
      "Сonnected\n",
      "Shutdown\n",
      "Сonnected\n",
      "Shutdown\n",
      "Сonnected\n",
      "Shutdown\n",
      "Сonnected\n",
      "Shutdown\n",
      "Сonnected\n",
      "Shutdown\n",
      "Сonnected\n",
      "Сonnected\n",
      "Shutdown\n",
      "Сonnected\n",
      "Shutdown\n",
      "Сonnected\n",
      "Shutdown\n",
      "Сonnected\n",
      "Shutdown\n",
      "Сonnected\n",
      "Shutdown\n",
      "Сonnected\n",
      "Shutdown\n",
      "Сonnected\n",
      "Shutdown\n",
      "Сonnected\n",
      "Shutdown\n",
      "Сonnected\n",
      "Shutdown\n",
      "Сonnected\n",
      "Shutdown\n",
      "Сonnected\n",
      "Shutdown\n",
      "Сonnected\n",
      "Shutdown\n",
      "Сonnected\n",
      "Shutdown\n",
      "Сonnected\n",
      "BUY GBPSGDz\n",
      "Сonnected\n",
      "SELL EURCADz\n",
      "Сonnected\n",
      "SELL EURNZDz\n",
      "Сonnected\n",
      "SELL GBPNZDz\n",
      "Сonnected\n",
      "Сonnected\n",
      "Shutdown\n",
      "Сonnected\n",
      "Shutdown\n",
      "Сonnected\n",
      "Shutdown\n",
      "Сonnected\n",
      "Shutdown\n",
      "Сonnected\n",
      "Shutdown\n",
      "Сonnected\n",
      "Shutdown\n",
      "Сonnected\n",
      "Shutdown\n",
      "Сonnected\n",
      "Shutdown\n",
      "Сonnected\n",
      "Shutdown\n",
      "Сonnected\n",
      "Shutdown\n",
      "Сonnected\n",
      "Shutdown\n",
      "Сonnected\n",
      "Shutdown\n",
      "Сonnected\n",
      "Shutdown\n",
      "Сonnected\n",
      "Сonnected\n",
      "Shutdown\n",
      "Сonnected\n",
      "Shutdown\n",
      "Сonnected\n",
      "Shutdown\n",
      "Сonnected\n",
      "Shutdown\n",
      "Сonnected\n",
      "Shutdown\n",
      "Сonnected\n",
      "Shutdown\n",
      "Сonnected\n",
      "Shutdown\n",
      "Сonnected\n",
      "Shutdown\n",
      "Сonnected\n",
      "Shutdown\n",
      "Сonnected\n",
      "Shutdown\n",
      "Сonnected\n",
      "Shutdown\n",
      "Сonnected\n",
      "Shutdown\n",
      "Сonnected\n",
      "Shutdown\n",
      "Сonnected\n",
      "SELL EURCADz\n",
      "Сonnected\n",
      "SELL EURNZDz\n",
      "Сonnected\n",
      "SELL GBPNZDz\n",
      "Сonnected\n",
      "Сonnected\n",
      "Shutdown\n",
      "Сonnected\n",
      "Shutdown\n",
      "Сonnected\n",
      "Shutdown\n",
      "Сonnected\n",
      "Shutdown\n",
      "Сonnected\n",
      "Shutdown\n",
      "Сonnected\n",
      "Shutdown\n",
      "Сonnected\n",
      "Shutdown\n",
      "Сonnected\n",
      "Shutdown\n",
      "Сonnected\n",
      "Shutdown\n",
      "Сonnected\n",
      "Shutdown\n",
      "Сonnected\n",
      "Shutdown\n",
      "Сonnected\n",
      "Shutdown\n",
      "Сonnected\n",
      "Shutdown\n",
      "Сonnected\n",
      "Сonnected\n",
      "Shutdown\n",
      "Сonnected\n",
      "Shutdown\n",
      "Сonnected\n",
      "Shutdown\n",
      "Сonnected\n",
      "Shutdown\n",
      "Сonnected\n",
      "Shutdown\n",
      "Сonnected\n",
      "Shutdown\n",
      "Сonnected\n",
      "Shutdown\n",
      "Сonnected\n",
      "Shutdown\n",
      "Сonnected\n",
      "Shutdown\n",
      "Сonnected\n",
      "Shutdown\n",
      "Сonnected\n",
      "Shutdown\n",
      "Сonnected\n",
      "Shutdown\n",
      "Сonnected\n",
      "Shutdown\n",
      "Сonnected\n",
      "SELL EURAUDz\n",
      "Сonnected\n",
      "SELL EURCADz\n",
      "Сonnected\n",
      "SELL GBPNZDz\n",
      "Сonnected\n",
      "Сonnected\n",
      "Shutdown\n",
      "Сonnected\n",
      "Shutdown\n",
      "Сonnected\n",
      "Shutdown\n",
      "Сonnected\n",
      "Shutdown\n",
      "Сonnected\n",
      "Shutdown\n",
      "Сonnected\n",
      "Shutdown\n",
      "Сonnected\n",
      "Shutdown\n",
      "Сonnected\n",
      "Shutdown\n",
      "Сonnected\n",
      "Shutdown\n",
      "Сonnected\n",
      "Shutdown\n",
      "Сonnected\n",
      "Shutdown\n",
      "Сonnected\n",
      "Shutdown\n",
      "Сonnected\n",
      "Shutdown\n",
      "Сonnected\n",
      "Сonnected\n",
      "Shutdown\n",
      "Сonnected\n",
      "Shutdown\n",
      "Сonnected\n",
      "Shutdown\n",
      "Сonnected\n",
      "Shutdown\n",
      "Сonnected\n",
      "Shutdown\n",
      "Сonnected\n",
      "Shutdown\n",
      "Сonnected\n",
      "Shutdown\n",
      "Сonnected\n",
      "Shutdown\n",
      "Сonnected\n",
      "Shutdown\n",
      "Сonnected\n",
      "Shutdown\n",
      "Сonnected\n",
      "Shutdown\n",
      "Сonnected\n",
      "Shutdown\n",
      "Сonnected\n",
      "Shutdown\n",
      "Сonnected\n",
      "SELL EURAUDz\n",
      "Сonnected\n",
      "SELL EURCADz\n",
      "Сonnected\n",
      "SELL EURNZDz\n",
      "Сonnected\n",
      "SELL GBPAUDz\n",
      "Сonnected\n",
      "SELL GBPCADz\n",
      "Сonnected\n",
      "SELL GBPNZDz\n",
      "Сonnected\n",
      "SELL GBPUSDz\n",
      "Сonnected\n",
      "Сonnected\n",
      "Shutdown\n",
      "Сonnected\n",
      "Shutdown\n",
      "Сonnected\n",
      "Shutdown\n",
      "Сonnected\n",
      "Shutdown\n",
      "Сonnected\n",
      "Shutdown\n",
      "Сonnected\n",
      "Shutdown\n",
      "Сonnected\n",
      "Shutdown\n",
      "Сonnected\n",
      "Shutdown\n",
      "Сonnected\n",
      "Shutdown\n",
      "Сonnected\n",
      "Shutdown\n",
      "Сonnected\n",
      "Shutdown\n",
      "Сonnected\n",
      "Shutdown\n",
      "Сonnected\n",
      "Shutdown\n",
      "Сonnected\n",
      "Сonnected\n",
      "Shutdown\n",
      "Сonnected\n",
      "Shutdown\n",
      "Сonnected\n",
      "Shutdown\n",
      "Сonnected\n",
      "Shutdown\n",
      "Сonnected\n",
      "Shutdown\n",
      "Сonnected\n",
      "Shutdown\n",
      "Сonnected\n",
      "Shutdown\n",
      "Сonnected\n",
      "Shutdown\n",
      "Сonnected\n",
      "Shutdown\n",
      "Сonnected\n",
      "Shutdown\n",
      "Сonnected\n",
      "Shutdown\n",
      "Сonnected\n",
      "Shutdown\n",
      "Сonnected\n",
      "Shutdown\n",
      "Сonnected\n",
      "SELL EURAUDz\n",
      "Сonnected\n",
      "SELL EURCADz\n",
      "Сonnected\n",
      "SELL EURNZDz\n",
      "Сonnected\n",
      "SELL GBPAUDz\n",
      "Сonnected\n",
      "SELL GBPNZDz\n",
      "Сonnected\n",
      "Сonnected\n",
      "Shutdown\n",
      "Сonnected\n",
      "Shutdown\n",
      "Сonnected\n",
      "Shutdown\n",
      "Сonnected\n",
      "Shutdown\n",
      "Сonnected\n",
      "Shutdown\n",
      "Сonnected\n",
      "Shutdown\n",
      "Сonnected\n",
      "Shutdown\n",
      "Сonnected\n",
      "Shutdown\n",
      "Сonnected\n",
      "Shutdown\n",
      "Сonnected\n",
      "Shutdown\n",
      "Сonnected\n",
      "Shutdown\n",
      "Сonnected\n",
      "Shutdown\n",
      "Сonnected\n",
      "Shutdown\n",
      "Сonnected\n",
      "Сonnected\n",
      "Shutdown\n",
      "Сonnected\n",
      "Shutdown\n",
      "Сonnected\n",
      "Shutdown\n",
      "Сonnected\n",
      "Shutdown\n",
      "Сonnected\n",
      "Shutdown\n",
      "Сonnected\n",
      "Shutdown\n",
      "Сonnected\n",
      "Shutdown\n",
      "Сonnected\n",
      "Shutdown\n",
      "Сonnected\n",
      "Shutdown\n",
      "Сonnected\n",
      "Shutdown\n",
      "Сonnected\n",
      "Shutdown\n",
      "Сonnected\n",
      "Shutdown\n",
      "Сonnected\n",
      "Shutdown\n",
      "Сonnected\n",
      "BUY GBPSGDz\n",
      "Сonnected\n",
      "SELL EURGBPz\n",
      "Сonnected\n",
      "SELL EURNZDz\n",
      "Сonnected\n",
      "SELL EURSGDz\n",
      "Сonnected\n",
      "SELL GBPNZDz\n",
      "Сonnected\n",
      "Сonnected\n",
      "Shutdown\n",
      "Сonnected\n",
      "Shutdown\n",
      "Сonnected\n",
      "Shutdown\n",
      "Сonnected\n",
      "Shutdown\n",
      "Сonnected\n",
      "Shutdown\n",
      "Сonnected\n",
      "Shutdown\n"
     ]
    },
    {
     "ename": "KeyError",
     "evalue": "'high'",
     "output_type": "error",
     "traceback": [
      "\u001b[1;31m---------------------------------------------------------------------------\u001b[0m",
      "\u001b[1;31mKeyError\u001b[0m                                  Traceback (most recent call last)",
      "File \u001b[1;32m~\\AppData\\Local\\Programs\\Python\\Python310\\lib\\site-packages\\pandas\\core\\indexes\\base.py:3800\u001b[0m, in \u001b[0;36mIndex.get_loc\u001b[1;34m(self, key, method, tolerance)\u001b[0m\n\u001b[0;32m   3799\u001b[0m \u001b[38;5;28;01mtry\u001b[39;00m:\n\u001b[1;32m-> 3800\u001b[0m     \u001b[38;5;28;01mreturn\u001b[39;00m \u001b[38;5;28;43mself\u001b[39;49m\u001b[38;5;241;43m.\u001b[39;49m\u001b[43m_engine\u001b[49m\u001b[38;5;241;43m.\u001b[39;49m\u001b[43mget_loc\u001b[49m\u001b[43m(\u001b[49m\u001b[43mcasted_key\u001b[49m\u001b[43m)\u001b[49m\n\u001b[0;32m   3801\u001b[0m \u001b[38;5;28;01mexcept\u001b[39;00m \u001b[38;5;167;01mKeyError\u001b[39;00m \u001b[38;5;28;01mas\u001b[39;00m err:\n",
      "File \u001b[1;32m~\\AppData\\Local\\Programs\\Python\\Python310\\lib\\site-packages\\pandas\\_libs\\index.pyx:138\u001b[0m, in \u001b[0;36mpandas._libs.index.IndexEngine.get_loc\u001b[1;34m()\u001b[0m\n",
      "File \u001b[1;32m~\\AppData\\Local\\Programs\\Python\\Python310\\lib\\site-packages\\pandas\\_libs\\index.pyx:165\u001b[0m, in \u001b[0;36mpandas._libs.index.IndexEngine.get_loc\u001b[1;34m()\u001b[0m\n",
      "File \u001b[1;32mpandas\\_libs\\hashtable_class_helper.pxi:5745\u001b[0m, in \u001b[0;36mpandas._libs.hashtable.PyObjectHashTable.get_item\u001b[1;34m()\u001b[0m\n",
      "File \u001b[1;32mpandas\\_libs\\hashtable_class_helper.pxi:5753\u001b[0m, in \u001b[0;36mpandas._libs.hashtable.PyObjectHashTable.get_item\u001b[1;34m()\u001b[0m\n",
      "\u001b[1;31mKeyError\u001b[0m: 'high'",
      "\nThe above exception was the direct cause of the following exception:\n",
      "\u001b[1;31mKeyError\u001b[0m                                  Traceback (most recent call last)",
      "Cell \u001b[1;32mIn [44], line 2\u001b[0m\n\u001b[0;32m      1\u001b[0m \u001b[38;5;28;01mif\u001b[39;00m \u001b[38;5;18m__name__\u001b[39m \u001b[38;5;241m==\u001b[39m \u001b[38;5;124m\"\u001b[39m\u001b[38;5;124m__main__\u001b[39m\u001b[38;5;124m\"\u001b[39m:\n\u001b[1;32m----> 2\u001b[0m     \u001b[43mmein_2\u001b[49m\u001b[43m(\u001b[49m\u001b[43m)\u001b[49m \n",
      "Cell \u001b[1;32mIn [28], line 27\u001b[0m, in \u001b[0;36mmein_2\u001b[1;34m()\u001b[0m\n\u001b[0;32m     24\u001b[0m \u001b[38;5;28;01mif\u001b[39;00m now\u001b[38;5;241m.\u001b[39mhour \u001b[38;5;241m!=\u001b[39m hour_control:\n\u001b[0;32m     25\u001b[0m     hour_control \u001b[38;5;241m=\u001b[39m now\u001b[38;5;241m.\u001b[39mhour\n\u001b[1;32m---> 27\u001b[0m     data_for_buy \u001b[38;5;241m=\u001b[39m \u001b[43mall_data_for_predict\u001b[49m\u001b[43m(\u001b[49m\u001b[43m \u001b[49m\u001b[43mmy_tikers_from_mt5\u001b[49m\u001b[43m(\u001b[49m\u001b[43m)\u001b[49m\u001b[43m,\u001b[49m\u001b[43m \u001b[49m\n\u001b[0;32m     28\u001b[0m \u001b[43m                                        \u001b[49m\u001b[43mbest_parameters_for_buy\u001b[49m\u001b[43m,\u001b[49m\u001b[43m \u001b[49m\n\u001b[0;32m     29\u001b[0m \u001b[43m                                        \u001b[49m\u001b[43mstart_bar\u001b[49m\u001b[38;5;241;43m=\u001b[39;49m\u001b[38;5;241;43m1000\u001b[39;49m\u001b[43m \u001b[49m\u001b[43m)\u001b[49m\n\u001b[0;32m     30\u001b[0m     data_for_sell \u001b[38;5;241m=\u001b[39m all_data_for_predict( my_tikers_from_mt5(),\n\u001b[0;32m     31\u001b[0m                                          best_parameters_for_sell, \n\u001b[0;32m     32\u001b[0m                                          start_bar\u001b[38;5;241m=\u001b[39m\u001b[38;5;241m1000\u001b[39m )\n\u001b[0;32m     34\u001b[0m     buy_predict  \u001b[38;5;241m=\u001b[39m  all_predict_data(models\u001b[38;5;241m=\u001b[39m model_for_buy,\n\u001b[0;32m     35\u001b[0m                                      datas\u001b[38;5;241m=\u001b[39m data_for_buy,\n\u001b[0;32m     36\u001b[0m                                      percents \u001b[38;5;241m=\u001b[39m \u001b[38;5;241m0.6\u001b[39m)\n",
      "Cell \u001b[1;32mIn [22], line 9\u001b[0m, in \u001b[0;36mall_data_for_predict\u001b[1;34m(tiker, indicators, start_bar)\u001b[0m\n\u001b[0;32m      7\u001b[0m data \u001b[38;5;241m=\u001b[39m \u001b[38;5;28mdict\u001b[39m()\n\u001b[0;32m      8\u001b[0m \u001b[38;5;28;01mfor\u001b[39;00m i \u001b[38;5;129;01min\u001b[39;00m tiker:\n\u001b[1;32m----> 9\u001b[0m     data[\u001b[38;5;28mstr\u001b[39m(i)] \u001b[38;5;241m=\u001b[39m indicators( \u001b[43mdata_mt5\u001b[49m\u001b[43m(\u001b[49m\u001b[43m \u001b[49m\u001b[43mticer\u001b[49m\u001b[38;5;241;43m=\u001b[39;49m\u001b[43mi\u001b[49m\u001b[43m,\u001b[49m\u001b[43m \u001b[49m\u001b[43mstart_bar\u001b[49m\u001b[38;5;241;43m=\u001b[39;49m\u001b[43mstart_bar\u001b[49m\u001b[43m)\u001b[49m)\n\u001b[0;32m     10\u001b[0m \u001b[38;5;28;01mreturn\u001b[39;00m data\n",
      "Cell \u001b[1;32mIn [42], line 18\u001b[0m, in \u001b[0;36mdata_mt5\u001b[1;34m(ticer, start_bar, spacing, take_profit, stop_loss)\u001b[0m\n\u001b[0;32m     13\u001b[0m     \u001b[38;5;66;03m# преобразовать время в секундах в формат datetime\u001b[39;00m\n\u001b[0;32m     14\u001b[0m \u001b[38;5;66;03m#     data_frame['time'] = pd.to_datetime( data_frame['time'], unit='s')\u001b[39;00m\n\u001b[0;32m     15\u001b[0m     \n\u001b[0;32m     16\u001b[0m     \u001b[38;5;66;03m# указываем метку которую в будущом будем предсказывать\u001b[39;00m\n\u001b[0;32m     17\u001b[0m     data_frame[\u001b[38;5;124m\"\u001b[39m\u001b[38;5;124mpositive_label\u001b[39m\u001b[38;5;124m\"\u001b[39m] \u001b[38;5;241m=\u001b[39m \u001b[38;5;241m0\u001b[39m\n\u001b[1;32m---> 18\u001b[0m     positive_label_query \u001b[38;5;241m=\u001b[39m ((\u001b[43mdata_frame\u001b[49m\u001b[43m[\u001b[49m\u001b[38;5;124;43m\"\u001b[39;49m\u001b[38;5;124;43mhigh\u001b[39;49m\u001b[38;5;124;43m\"\u001b[39;49m\u001b[43m]\u001b[49m \u001b[38;5;241m-\u001b[39m data_frame[\u001b[38;5;124m\"\u001b[39m\u001b[38;5;124mopen\u001b[39m\u001b[38;5;124m\"\u001b[39m] ) \u001b[38;5;241m>\u001b[39m\u001b[38;5;241m=\u001b[39m (take_profit\u001b[38;5;241m/\u001b[39m\u001b[38;5;241m10\u001b[39m\u001b[38;5;241m*\u001b[39m\u001b[38;5;241m*\u001b[39m\u001b[38;5;241m6\u001b[39m))  \u001b[38;5;241m&\u001b[39m\\\n\u001b[0;32m     19\u001b[0m                             ((data_frame[\u001b[38;5;124m\"\u001b[39m\u001b[38;5;124mopen\u001b[39m\u001b[38;5;124m\"\u001b[39m] \u001b[38;5;241m-\u001b[39m data_frame[\u001b[38;5;124m\"\u001b[39m\u001b[38;5;124mlow\u001b[39m\u001b[38;5;124m\"\u001b[39m]) \u001b[38;5;241m<\u001b[39m\u001b[38;5;241m=\u001b[39m (stop_loss\u001b[38;5;241m/\u001b[39m\u001b[38;5;241m10\u001b[39m\u001b[38;5;241m*\u001b[39m\u001b[38;5;241m*\u001b[39m\u001b[38;5;241m5\u001b[39m) )\n\u001b[0;32m     20\u001b[0m     data_frame\u001b[38;5;241m.\u001b[39mloc[ positive_label_query, \u001b[38;5;124m\"\u001b[39m\u001b[38;5;124mpositive_label\u001b[39m\u001b[38;5;124m\"\u001b[39m ] \u001b[38;5;241m=\u001b[39m \u001b[38;5;241m1\u001b[39m\n\u001b[0;32m     22\u001b[0m     data_frame[\u001b[38;5;124m\"\u001b[39m\u001b[38;5;124mnegative_label\u001b[39m\u001b[38;5;124m\"\u001b[39m] \u001b[38;5;241m=\u001b[39m \u001b[38;5;241m0\u001b[39m\n",
      "File \u001b[1;32m~\\AppData\\Local\\Programs\\Python\\Python310\\lib\\site-packages\\pandas\\core\\frame.py:3805\u001b[0m, in \u001b[0;36mDataFrame.__getitem__\u001b[1;34m(self, key)\u001b[0m\n\u001b[0;32m   3803\u001b[0m \u001b[38;5;28;01mif\u001b[39;00m \u001b[38;5;28mself\u001b[39m\u001b[38;5;241m.\u001b[39mcolumns\u001b[38;5;241m.\u001b[39mnlevels \u001b[38;5;241m>\u001b[39m \u001b[38;5;241m1\u001b[39m:\n\u001b[0;32m   3804\u001b[0m     \u001b[38;5;28;01mreturn\u001b[39;00m \u001b[38;5;28mself\u001b[39m\u001b[38;5;241m.\u001b[39m_getitem_multilevel(key)\n\u001b[1;32m-> 3805\u001b[0m indexer \u001b[38;5;241m=\u001b[39m \u001b[38;5;28;43mself\u001b[39;49m\u001b[38;5;241;43m.\u001b[39;49m\u001b[43mcolumns\u001b[49m\u001b[38;5;241;43m.\u001b[39;49m\u001b[43mget_loc\u001b[49m\u001b[43m(\u001b[49m\u001b[43mkey\u001b[49m\u001b[43m)\u001b[49m\n\u001b[0;32m   3806\u001b[0m \u001b[38;5;28;01mif\u001b[39;00m is_integer(indexer):\n\u001b[0;32m   3807\u001b[0m     indexer \u001b[38;5;241m=\u001b[39m [indexer]\n",
      "File \u001b[1;32m~\\AppData\\Local\\Programs\\Python\\Python310\\lib\\site-packages\\pandas\\core\\indexes\\base.py:3802\u001b[0m, in \u001b[0;36mIndex.get_loc\u001b[1;34m(self, key, method, tolerance)\u001b[0m\n\u001b[0;32m   3800\u001b[0m     \u001b[38;5;28;01mreturn\u001b[39;00m \u001b[38;5;28mself\u001b[39m\u001b[38;5;241m.\u001b[39m_engine\u001b[38;5;241m.\u001b[39mget_loc(casted_key)\n\u001b[0;32m   3801\u001b[0m \u001b[38;5;28;01mexcept\u001b[39;00m \u001b[38;5;167;01mKeyError\u001b[39;00m \u001b[38;5;28;01mas\u001b[39;00m err:\n\u001b[1;32m-> 3802\u001b[0m     \u001b[38;5;28;01mraise\u001b[39;00m \u001b[38;5;167;01mKeyError\u001b[39;00m(key) \u001b[38;5;28;01mfrom\u001b[39;00m \u001b[38;5;21;01merr\u001b[39;00m\n\u001b[0;32m   3803\u001b[0m \u001b[38;5;28;01mexcept\u001b[39;00m \u001b[38;5;167;01mTypeError\u001b[39;00m:\n\u001b[0;32m   3804\u001b[0m     \u001b[38;5;66;03m# If we have a listlike key, _check_indexing_error will raise\u001b[39;00m\n\u001b[0;32m   3805\u001b[0m     \u001b[38;5;66;03m#  InvalidIndexError. Otherwise we fall through and re-raise\u001b[39;00m\n\u001b[0;32m   3806\u001b[0m     \u001b[38;5;66;03m#  the TypeError.\u001b[39;00m\n\u001b[0;32m   3807\u001b[0m     \u001b[38;5;28mself\u001b[39m\u001b[38;5;241m.\u001b[39m_check_indexing_error(key)\n",
      "\u001b[1;31mKeyError\u001b[0m: 'high'"
     ]
    }
   ],
   "source": [
    "if __name__ == \"__main__\":\n",
    "    mein_2() "
   ]
  },
  {
   "cell_type": "code",
   "execution_count": null,
   "id": "17f2feee",
   "metadata": {},
   "outputs": [],
   "source": []
  },
  {
   "cell_type": "code",
   "execution_count": null,
   "id": "2965c94c",
   "metadata": {},
   "outputs": [],
   "source": []
  },
  {
   "cell_type": "code",
   "execution_count": null,
   "id": "5e075224",
   "metadata": {},
   "outputs": [],
   "source": []
  },
  {
   "cell_type": "markdown",
   "id": "12e9dc02",
   "metadata": {},
   "source": [
    "# first experyments"
   ]
  },
  {
   "cell_type": "markdown",
   "id": "f51a3625",
   "metadata": {},
   "source": [
    "# Choosing the best indicators for our model"
   ]
  },
  {
   "cell_type": "code",
   "execution_count": null,
   "id": "7c5126ff",
   "metadata": {
    "ExecuteTime": {
     "end_time": "2023-01-23T01:00:02.452583Z",
     "start_time": "2023-01-23T01:00:02.452583Z"
    },
    "code_folding": []
   },
   "outputs": [],
   "source": [
    "# %pdb\n",
    "df = data_mt5(start_bar=2000)"
   ]
  },
  {
   "cell_type": "code",
   "execution_count": null,
   "id": "bc3f55d4",
   "metadata": {
    "ExecuteTime": {
     "end_time": "2023-01-23T01:00:02.455583Z",
     "start_time": "2023-01-23T01:00:02.455583Z"
    },
    "code_folding": []
   },
   "outputs": [],
   "source": [
    "data_pattern           = add_indicators_pattern_recognition_functions(df)\n",
    "data_overlap           = overlap_studies_functions(df)\n",
    "data_momentum          = momentum_indicator_functions(df)\n",
    "data_statistic         = statistic_functions(df)\n",
    "data_math_transform    = math_transform_functions(df)\n",
    "data_math_operator     = math_operator_functions(df)"
   ]
  },
  {
   "cell_type": "code",
   "execution_count": null,
   "id": "b3db3b78",
   "metadata": {
    "ExecuteTime": {
     "end_time": "2023-01-23T01:00:02.458242Z",
     "start_time": "2023-01-23T01:00:02.458242Z"
    }
   },
   "outputs": [],
   "source": [
    "%%time\n",
    "\n",
    "model_data_pattern        = model_training(data_pattern,\"BUY\")         # 01 - 35 | 11 - 184\n",
    "model_data_math_transform = model_training(data_math_transform,\"BUY\")  # 01 - 92 | 11 - 149\n",
    "\n",
    "model_data_overlap        = model_training(data_overlap,\"BUY\")\n",
    "model_data_momentum       = model_training(data_momentum,\"BUY\")\n",
    "model_data_statistic      = model_training(data_statistic,\"BUY\")\n",
    "model_data_math_operator  = model_training(data_math_operator,\"BUY\")\n",
    "# Wall time: 3h 43min 1s"
   ]
  },
  {
   "cell_type": "code",
   "execution_count": null,
   "id": "744502b1",
   "metadata": {
    "ExecuteTime": {
     "end_time": "2023-01-23T01:00:02.461238Z",
     "start_time": "2023-01-23T01:00:02.461238Z"
    },
    "code_folding": [
     1,
     3
    ]
   },
   "outputs": [],
   "source": [
    "@interact\n",
    "def foo(tiker= my_tikers_from_mt5(), \n",
    "        percent= (0.5,1,0.1),\n",
    "        models= [model_data_math_operator,\n",
    "                 model_data_pattern,        \n",
    "                 model_data_math_transform, \n",
    "                 model_data_overlap,        \n",
    "                 model_data_momentum,       \n",
    "                 model_data_statistic]):\n",
    "    model_information(model= model_data_math_transform, percent = percent, info=True )    \n",
    "    model_information(model= model_data_overlap, percent =percent, visualization=True,)"
   ]
  },
  {
   "cell_type": "markdown",
   "id": "908e6d4a",
   "metadata": {},
   "source": [
    "### Testowanie \"najlepszych\" modelej na nowych danych"
   ]
  },
  {
   "cell_type": "code",
   "execution_count": null,
   "id": "a31c83ce",
   "metadata": {
    "ExecuteTime": {
     "end_time": "2023-01-23T01:00:02.463238Z",
     "start_time": "2023-01-23T01:00:02.463238Z"
    },
    "code_folding": [
     1,
     7
    ]
   },
   "outputs": [],
   "source": [
    "@interact\n",
    "def foo(tiker= my_tikers_from_mt5(), percent= (0.5,1,0.1)):\n",
    "    # test data that the model has not previously seen \n",
    "    df_test = data_mt5(tiker , start_bar=5000)\n",
    "    df_test_pattern_recognition_ = add_indicators_pattern_recognition_functions(df_test)\n",
    "    df_test_pattern_recognition_ = df_test_pattern_recognition_.head(1000)\n",
    "    y_df_test_pattern_recognition_ = df_test_pattern_recognition_.positive_label\n",
    "    X_df_test_pattern_recognition_ = df_test_pattern_recognition_.drop([\"negative_label\",\"positive_label\",\"time\",\n",
    "                       \"real_volume\",\"high\",\"low\",\"close\",\"spread\"], axis=1)\n",
    "    print(y_df_test_pattern_recognition_.sum())\n",
    "    \n",
    "    additional_information_about_the_model(predict_model=model_data_pattern ,\n",
    "                                      X_test= X_df_test_pattern_recognition_, \n",
    "                                      y_test= y_df_test_pattern_recognition_,\n",
    "                                      percent = percent, visualization=True)\n"
   ]
  },
  {
   "cell_type": "code",
   "execution_count": null,
   "id": "97885f77",
   "metadata": {
    "ExecuteTime": {
     "end_time": "2023-01-23T01:00:02.466236Z",
     "start_time": "2023-01-23T01:00:02.466236Z"
    },
    "code_folding": [
     1
    ]
   },
   "outputs": [],
   "source": [
    "@interact\n",
    "def foo(tiker= my_tikers_from_mt5(), percent= (0,1,0.1)):\n",
    "    # test data that the model has not previously seen \n",
    "    df_test = data_mt5(start_bar=5000)\n",
    "    df_test_math_transform = math_transform_functions(df_test)\n",
    "    df_test_math_transform = df_test_math_transform.head(1000)\n",
    "    y_df_test_math_transform = df_test_math_transform.positive_label\n",
    "    X_df_test_math_transform = df_test_math_transform.drop([\"negative_label\",\"positive_label\",\"time\",\n",
    "                       \"real_volume\",\"high\",\"low\",\"close\",\"spread\"], axis=1)\n",
    "    print(y_df_test_math_transform.sum())\n",
    "    \n",
    "    additional_information_about_the_model(predict_model=model_data_math_transform[0] ,\n",
    "                                      X_test= X_df_test_math_transform, \n",
    "                                      y_test= y_df_test_math_transform,\n",
    "                                      percent = percent, visualization=True)"
   ]
  },
  {
   "cell_type": "markdown",
   "id": "beb19072",
   "metadata": {},
   "source": [
    "# Testing the best parameters of our models\n",
    "# Testujemy najlepsze parametry naszych modeli"
   ]
  },
  {
   "cell_type": "code",
   "execution_count": null,
   "id": "d763308d",
   "metadata": {
    "ExecuteTime": {
     "end_time": "2023-01-23T01:00:02.469375Z",
     "start_time": "2023-01-23T01:00:02.469375Z"
    },
    "code_folding": [
     0
    ]
   },
   "outputs": [],
   "source": [
    "def pattern_and_math_transform(data) -> pd.DataFrame:\n",
    "    \"\"\"\n",
    "    best indicators  zostały wybrane poprzez uczenie modelu na wskaźnikach\n",
    "    o podobnym znaczeniu, takich jak wskaźniki „Overlap Studies” lub \n",
    "    „Momentum Indicators” i tak dalej… Wybórane zostali najbardziej przydatne dla modelu.\n",
    "    \"\"\"\n",
    "    df = data.copy()\n",
    "    open = df[\"open\"]\n",
    "    high = df[\"high\"]\n",
    "    low = df[\"low\"]\n",
    "    close = df[\"close\"]\n",
    "    \n",
    "    df[\"CDLDARKCLOUDCOVER\"] = tl.CDLDARKCLOUDCOVER(open, high, low, close, penetration=0)\n",
    "    df[\"CDLBELTHOLD\"] = tl.CDLBELTHOLD(open, high, low, close)\n",
    "    df[\"CDLMARUBOZU\"] = tl.CDLMARUBOZU(open, high, low, close)\n",
    "    df[\"CDL3INSIDE\"] = tl.CDL3INSIDE(open, high, low, close)\n",
    "    df[\"CDLCLOSINGMARUBOZU\"] = tl.CDLCLOSINGMARUBOZU(open, high, low, close)\n",
    "    \n",
    "    df[\"ACOS\"] = tl.ACOS(close)\n",
    "    df[\"ASIN\"] = tl.ASIN(close)\n",
    "    df[\"ATAN\"] = tl.ATAN(close)\n",
    "    df[\"COS\"] =  tl.COS(close)\n",
    "    df[\"COSH\"] = tl.COSH(close)\n",
    "    df[\"EXP\"] =  tl.EXP(close)\n",
    "    df[\"LN\"] =  tl.LN(close)\n",
    "    df[\"LOG10\"] = tl.LOG10(close)\n",
    "    df[\"SIN\"] =  tl.SIN(close)\n",
    "    df[\"SINH\"] = tl.SINH(close)\n",
    "    df[\"SQRT\"] = tl.SQRT(close)\n",
    "    df[\"TAN\"] =  tl.TAN(close)\n",
    "    df[\"TANH\"] = tl.TANH(close)\n",
    "    \n",
    "    return df.fillna(0)"
   ]
  },
  {
   "cell_type": "code",
   "execution_count": null,
   "id": "028c1f6a",
   "metadata": {
    "ExecuteTime": {
     "end_time": "2023-01-23T01:00:02.471376Z",
     "start_time": "2023-01-23T01:00:02.471376Z"
    }
   },
   "outputs": [],
   "source": [
    "%%time\n",
    "df = data_mt5(start_bar=2000)\n",
    "data_best_parameters = pattern_and_math_transform(df)\n",
    "model_best_parameters = model_training(data_best_parameters,direction=\"BUY\")\n",
    "# Wall time: 38min 5s"
   ]
  },
  {
   "cell_type": "code",
   "execution_count": null,
   "id": "7b3b656b",
   "metadata": {
    "ExecuteTime": {
     "end_time": "2023-01-23T01:00:02.474376Z",
     "start_time": "2023-01-23T01:00:02.474376Z"
    }
   },
   "outputs": [],
   "source": [
    "percentage_for_better_selection(model= model_best_parameters, percent = 0.5, info=True )"
   ]
  },
  {
   "cell_type": "code",
   "execution_count": null,
   "id": "7569067c",
   "metadata": {
    "ExecuteTime": {
     "end_time": "2023-01-23T01:00:02.477372Z",
     "start_time": "2023-01-23T01:00:02.476372Z"
    },
    "code_folding": [
     0
    ]
   },
   "outputs": [],
   "source": [
    "percentage_for_better_selection(model= model_best_parameters, percent = 0.5, visualization=True,)"
   ]
  },
  {
   "cell_type": "code",
   "execution_count": null,
   "id": "58d74696",
   "metadata": {
    "ExecuteTime": {
     "end_time": "2023-01-23T01:00:02.480529Z",
     "start_time": "2023-01-23T01:00:02.480529Z"
    },
    "code_folding": [
     4
    ]
   },
   "outputs": [],
   "source": [
    "df_test = data_mt5(start_bar=5000)\n",
    "df_test_best_parameters = pattern_and_math_transform(df_test)\n",
    "df_test_best_parameters = df_test_best_parameters.head(1000)\n",
    "y_df_test_best_parameters = df_test_best_parameters.positive_label\n",
    "X_df_test_best_parameters = df_test_best_parameters.drop([\"negative_label\",\"positive_label\",\"time\",\n",
    "                   \"real_volume\",\"high\",\"low\",\"close\",\"spread\"], axis=1)\n",
    "y_df_test_best_parameters.sum()"
   ]
  },
  {
   "cell_type": "code",
   "execution_count": null,
   "id": "5db1964c",
   "metadata": {
    "ExecuteTime": {
     "end_time": "2023-01-23T01:00:02.483530Z",
     "start_time": "2023-01-23T01:00:02.482530Z"
    }
   },
   "outputs": [],
   "source": [
    "additional_information_about_the_model(predict_model=model_best_parameters[0] ,\n",
    "                                      X_test= X_df_test_best_parameters, \n",
    "                                      y_test= y_df_test_best_parameters,\n",
    "                                      percent = 0.5, visualization=True)"
   ]
  },
  {
   "cell_type": "markdown",
   "id": "62064587",
   "metadata": {},
   "source": [
    "# refinement of the model by removing redundant data\n",
    "# udoskonalenie modelu poprzez usunięcie zbędnych danych"
   ]
  },
  {
   "cell_type": "code",
   "execution_count": null,
   "id": "886657e8",
   "metadata": {
    "ExecuteTime": {
     "end_time": "2023-01-23T01:00:02.485528Z",
     "start_time": "2023-01-23T01:00:02.485528Z"
    },
    "code_folding": [
     0
    ]
   },
   "outputs": [],
   "source": [
    "def pattern_and_math_transform_2(data) -> pd.DataFrame:\n",
    "    \"\"\"\n",
    "    best indicators  zostały wybrane poprzez uczenie modelu na wskaźnikach\n",
    "    o podobnym znaczeniu, takich jak wskaźniki „Overlap Studies” lub \n",
    "    „Momentum Indicators” i tak dalej… Wybórane zostali najbardziej przydatne dla modelu.\n",
    "    \"\"\"\n",
    "    df = data.copy()\n",
    "    open = df[\"open\"]\n",
    "    high = df[\"high\"]\n",
    "    low = df[\"low\"]\n",
    "    close = df[\"close\"]\n",
    "    \n",
    "    df[\"CDLBELTHOLD\"] = tl.CDLBELTHOLD(open, high, low, close)\n",
    "    df[\"CDLMARUBOZU\"] = tl.CDLMARUBOZU(open, high, low, close)\n",
    "    df[\"CDLCLOSINGMARUBOZU\"] = tl.CDLCLOSINGMARUBOZU(open, high, low, close)\n",
    "    \n",
    "    df[\"ATAN\"] = tl.ATAN(close)\n",
    "    df[\"COS\"] =  tl.COS(close)\n",
    "    df[\"COSH\"] = tl.COSH(close)\n",
    "    df[\"EXP\"] =  tl.EXP(close)\n",
    "    df[\"LN\"] =  tl.LN(close)\n",
    "    df[\"LOG10\"] = tl.LOG10(close)\n",
    "    df[\"SIN\"] =  tl.SIN(close)\n",
    "    df[\"SINH\"] = tl.SINH(close)\n",
    "    df[\"SQRT\"] = tl.SQRT(close)\n",
    "    df[\"TAN\"] =  tl.TAN(close)\n",
    "    df[\"TANH\"] = tl.TANH(close)\n",
    "    \n",
    "    return df.fillna(0)"
   ]
  },
  {
   "cell_type": "code",
   "execution_count": null,
   "id": "7a55b6d4",
   "metadata": {
    "ExecuteTime": {
     "end_time": "2023-01-23T01:00:02.488667Z",
     "start_time": "2023-01-23T01:00:02.488667Z"
    }
   },
   "outputs": [],
   "source": [
    "%%time\n",
    "df = data_mt5(start_bar=2000)\n",
    "data_best_parameters_2 = pattern_and_math_transform_2(df)\n",
    "model_best_parameters_2 = model_training(data_best_parameters_2,direction=\"BUY\")\n",
    "# Wall time: 38min 5s"
   ]
  },
  {
   "cell_type": "code",
   "execution_count": null,
   "id": "37003d22",
   "metadata": {
    "ExecuteTime": {
     "end_time": "2023-01-23T01:00:02.492666Z",
     "start_time": "2023-01-23T01:00:02.492666Z"
    },
    "code_folding": [
     1,
     6,
     10,
     14
    ]
   },
   "outputs": [],
   "source": [
    "@interact\n",
    "def foo(tiker= my_tikers_from_mt5(),percent=(0.5,1,0.1)):\n",
    "    df_test = data_mt5(ticer='GBPCADz', start_bar=5000,)\n",
    "    df_test_best_parameters_2 = pattern_and_math_transform_2(df_test)\n",
    "    df_test_best_parameters_2 = df_test_best_parameters_2.head(115)\n",
    "    y_df_test_best_parameters_2 = df_test_best_parameters_2.positive_label\n",
    "    X_df_test_best_parameters_2 = df_test_best_parameters_2.drop([\"negative_label\",\"positive_label\",\"time\",\n",
    "                       \"real_volume\",\"high\",\"low\",\"close\",\"spread\"], axis=1)\n",
    "    print(y_df_test_best_parameters_2.sum())\n",
    "\n",
    "    additional_information_about_the_model(predict_model=model_best_parameters_2[0] ,\n",
    "                                          X_test= X_df_test_best_parameters_2, \n",
    "                                          y_test= y_df_test_best_parameters_2,\n",
    "                                          percent = percent, visualization=True)\n",
    "    additional_information_about_the_model(predict_model=model_best_parameters_2[0] ,\n",
    "                                      X_test= X_df_test_best_parameters_2, \n",
    "                                      y_test= y_df_test_best_parameters_2,\n",
    "                                      percent = percent, info=True)\n"
   ]
  },
  {
   "cell_type": "markdown",
   "id": "dac3b5a0",
   "metadata": {},
   "source": [
    "# test for sell\n",
    "# test na  sell"
   ]
  },
  {
   "cell_type": "code",
   "execution_count": null,
   "id": "0b8f83b8",
   "metadata": {
    "ExecuteTime": {
     "end_time": "2023-01-23T01:00:02.495664Z",
     "start_time": "2023-01-23T01:00:02.495664Z"
    }
   },
   "outputs": [],
   "source": [
    "model_best_parameters_2_sell = model_training(data_best_parameters_2,direction=\"SELL\")"
   ]
  },
  {
   "cell_type": "code",
   "execution_count": null,
   "id": "16f9278f",
   "metadata": {
    "ExecuteTime": {
     "end_time": "2023-01-23T01:00:02.499829Z",
     "start_time": "2023-01-23T01:00:02.499829Z"
    },
    "code_folding": [
     1
    ]
   },
   "outputs": [],
   "source": [
    "@interact\n",
    "def foo(tiker= my_tikers_from_mt5(), percent=(0.5,1,0.1)):\n",
    "    df_test = data_mt5(start_bar=5000)\n",
    "    df_test_best_parameters_2_sell = pattern_and_math_transform_2(df_test)\n",
    "    df_test_best_parameters_2_sell = df_test_best_parameters_2_sell.head(1000)\n",
    "    y_df_test_best_parameters_2_sell = df_test_best_parameters_2_sell.negative_label \n",
    "    X_df_test_best_parameters_2_sell = df_test_best_parameters_2_sell.drop([\"negative_label\",\"positive_label\",\"time\",\n",
    "                       \"real_volume\",\"high\",\"low\",\"close\",\"spread\"], axis=1)\n",
    "    print(y_df_test_best_parameters_2_sell.sum())\n",
    "\n",
    "    additional_information_about_the_model(predict_model=model_best_parameters_2_sell[0] ,\n",
    "                                          X_test= X_df_test_best_parameters_2, \n",
    "                                          y_test= y_df_test_best_parameters_2,\n",
    "                                          percent =percent, info=True)\n",
    "    additional_information_about_the_model(predict_model=model_best_parameters_2_sell[0] ,\n",
    "                                          X_test= X_df_test_best_parameters_2, \n",
    "                                          y_test= y_df_test_best_parameters_2,\n",
    "                                          percent = percent, visualization=True)\n"
   ]
  },
  {
   "cell_type": "markdown",
   "id": "3438d579",
   "metadata": {},
   "source": [
    "#### tego typu wskaźniki do przewidywania ceny w KUPUJ \"BUY\" wydawały się być bardzo dobre, ale w sprzedaży \"SELL\" jest bardzo źle dla tego nazweme funkcje buy_indikators i będe ona uzywana wysłaćnie do KUPNO."
   ]
  },
  {
   "cell_type": "markdown",
   "id": "4737356e",
   "metadata": {},
   "source": [
    "# Choosing the best indicators SELL for our model\n",
    "# Wybór najlepszych wskaźników SPRZEDAJ dla naszego modelu"
   ]
  },
  {
   "cell_type": "code",
   "execution_count": null,
   "id": "07d8699c",
   "metadata": {
    "ExecuteTime": {
     "end_time": "2023-01-23T01:00:02.502827Z",
     "start_time": "2023-01-23T01:00:02.502827Z"
    }
   },
   "outputs": [],
   "source": [
    "df = data_mt5(start_bar=2000)"
   ]
  },
  {
   "cell_type": "code",
   "execution_count": null,
   "id": "3b6d957b",
   "metadata": {
    "ExecuteTime": {
     "end_time": "2023-01-23T01:00:02.506825Z",
     "start_time": "2023-01-23T01:00:02.506825Z"
    }
   },
   "outputs": [],
   "source": [
    "data_pattern           = add_indicators_pattern_recognition_functions(df)\n",
    "data_overlap           = overlap_studies_functions(df)\n",
    "data_momentum          = momentum_indicator_functions(df)\n",
    "data_statistic         = statistic_functions(df)\n",
    "data_math_transform    = math_transform_functions(df)\n",
    "data_math_operator     = math_operator_functions(df)"
   ]
  },
  {
   "cell_type": "code",
   "execution_count": null,
   "id": "938743ad",
   "metadata": {
    "ExecuteTime": {
     "end_time": "2023-01-23T01:00:02.510189Z",
     "start_time": "2023-01-23T01:00:02.510189Z"
    }
   },
   "outputs": [],
   "source": [
    "%%time\n",
    "\n",
    "model_data_pattern        = model_training(data_pattern,\"SELL\")        \n",
    "model_data_math_transform = model_training(data_math_transform,\"SELL\") \n",
    "model_data_overlap        = model_training(data_overlap,\"SELL\")\n",
    "model_data_momentum       = model_training(data_momentum,\"SELL\")\n",
    "model_data_statistic      = model_training(data_statistic,\"SELL\")\n",
    "model_data_math_operator  = model_training(data_math_operator,\"SELL\")\n",
    "# Wall time: 3h 43min 1s"
   ]
  },
  {
   "cell_type": "code",
   "execution_count": null,
   "id": "64dec72f",
   "metadata": {
    "ExecuteTime": {
     "end_time": "2023-01-23T01:00:02.514187Z",
     "start_time": "2023-01-23T01:00:02.514187Z"
    },
    "code_folding": [
     0
    ]
   },
   "outputs": [],
   "source": [
    "# search best parameters\n",
    "@interact\n",
    "def foo( percents= (0.5,1,0.1),\n",
    "         model= [ model_data_pattern,     # 81% 01 - 24 | 11 - 185\n",
    "                 model_data_momentum,      # 62% 01 - 96 | 11 - 129\n",
    "                 model_data_math_operator,      \n",
    "                 model_data_math_transform, \n",
    "                 model_data_overlap,        \n",
    "                 model_data_statistic]):\n",
    "    \n",
    "    model_information(models= model, percent = percents, info=True )    \n",
    "    model_information(models= model, percent =percents, visualization=True,)"
   ]
  },
  {
   "cell_type": "code",
   "execution_count": null,
   "id": "db08e637",
   "metadata": {
    "ExecuteTime": {
     "end_time": "2023-01-23T01:00:02.518184Z",
     "start_time": "2023-01-23T01:00:02.518184Z"
    },
    "code_folding": [
     0
    ]
   },
   "outputs": [],
   "source": [
    "def pattern_and_momentum(data):\n",
    "    \"\"\"\n",
    "    best parameters\n",
    "    \"\"\"\n",
    "    df = data.copy()\n",
    "    \n",
    "    open = df[\"open\"]\n",
    "    high = df[\"high\"]\n",
    "    low = df[\"low\"]\n",
    "    close = df[\"close\"]\n",
    "    \n",
    "    \n",
    "    df[\"CDLLONGLINE\"] = tl.CDLLONGLINE(open, high, low, close)\n",
    "    df[\"CDLSHORTLINE\"] = tl.CDLSHORTLINE(open, high, low, close)\n",
    "    df[\"CDLBELTHOLD\"] = tl.CDLBELTHOLD(open, high, low, close)\n",
    "    df[\"CDLENGULFING\"] = tl.CDLENGULFING(open, high, low, close)\n",
    "    \n",
    "    df[\"WILLR_23\"] = tl.WILLR(high, low, close, timeperiod=23)\n",
    "    df[\"APO\"] = tl.APO(close, fastperiod=12, slowperiod=26, matype=0)\n",
    "    df[\"PPO\"] = tl.PPO(close, fastperiod=12, slowperiod=26, matype=0)\n",
    "    \n",
    "    return df.fillna(0)"
   ]
  },
  {
   "cell_type": "code",
   "execution_count": null,
   "id": "c361039b",
   "metadata": {
    "ExecuteTime": {
     "end_time": "2023-01-23T01:00:02.521403Z",
     "start_time": "2023-01-23T01:00:02.521403Z"
    }
   },
   "outputs": [],
   "source": [
    "%%time\n",
    "# model for best parameters\n",
    "df = data_mt5(start_bar=2000)\n",
    "data_best_parameters = pattern_and_momentum(df)\n",
    "model_best_parameters = model_training(data_best_parameters,direction=\"SELL\")"
   ]
  },
  {
   "cell_type": "code",
   "execution_count": null,
   "id": "be162138",
   "metadata": {
    "ExecuteTime": {
     "end_time": "2023-01-23T01:00:02.528398Z",
     "start_time": "2023-01-23T01:00:02.528398Z"
    },
    "code_folding": [
     2,
     7
    ]
   },
   "outputs": [],
   "source": [
    "# result which best parameters\n",
    "@interact\n",
    "def foo(tiker= my_tikers_from_mt5(),percent=(0.5,1,0.1)):\n",
    "    df_test = data_mt5(ticer=tiker, start_bar=5000,)\n",
    "    df_test_best_parameters = pattern_and_momentum(df_test)\n",
    "    df_test_best_parameters = df_test_best_parameters.head(115)\n",
    "    y_df_test_best_parameters = df_test_best_parameters.negative_label\n",
    "    X_df_test_best_parameters = df_test_best_parameters.drop([\"negative_label\",\"positive_label\",\"time\",\n",
    "                       \"real_volume\",\"high\",\"low\",\"close\",\"spread\"], axis=1)\n",
    "    print(y_df_test_best_parameters.sum())\n",
    "\n",
    "    model_information(model=model_best_parameters[0] ,\n",
    "                                          X= X_df_test_best_parameters, \n",
    "                                          y= y_df_test_best_parameters,\n",
    "                                          percent = percent, visualization=True)\n",
    "    model_information(model=model_best_parameters[0] ,\n",
    "                                      X= X_df_test_best_parameters, \n",
    "                                      y= y_df_test_best_parameters,\n",
    "                                      percent = percent, info=True)"
   ]
  },
  {
   "cell_type": "markdown",
   "id": "e7f8b004",
   "metadata": {},
   "source": [
    "# second experiments"
   ]
  },
  {
   "cell_type": "markdown",
   "id": "48f4573e",
   "metadata": {},
   "source": [
    "# data preparation "
   ]
  },
  {
   "cell_type": "code",
   "execution_count": null,
   "id": "f5ab1424",
   "metadata": {
    "ExecuteTime": {
     "end_time": "2023-01-23T01:00:02.532396Z",
     "start_time": "2023-01-23T01:00:02.532396Z"
    },
    "code_folding": [
     0
    ]
   },
   "outputs": [],
   "source": [
    "def data_from_all_indikators(df):\n",
    "    data_pattern           = add_indicators_pattern_recognition_functions(df)\n",
    "    data_overlap           = overlap_studies_functions(data_pattern)\n",
    "    data_momentum          = momentum_indicator_functions(data_overlap)\n",
    "    data_statistic         = statistic_functions(data_momentum)\n",
    "    data_math_transform    = math_transform_functions(data_statistic)\n",
    "    all_indicators     = math_operator_functions(data_math_transform)\n",
    "    return all_indicators"
   ]
  },
  {
   "cell_type": "code",
   "execution_count": null,
   "id": "6b44d4b6",
   "metadata": {
    "ExecuteTime": {
     "end_time": "2023-01-23T01:00:02.538393Z",
     "start_time": "2023-01-23T01:00:02.538393Z"
    },
    "code_folding": [
     30,
     35
    ]
   },
   "outputs": [],
   "source": [
    "# проверяем кореляцию\n",
    "def correlations(data, lebels = \"positive_label\", kind_of_correlation = \"pozitiv\",\n",
    "                name_indicators = False, perc_pos_cor = 0,\n",
    "                perc_neg_cor = 0):\n",
    "    \"\"\"\n",
    "    data: pandas Data Fream\n",
    "    kind_of_correlation: pozitiv corelation or negativ kokrelation\n",
    "    lebels: \"positive_label\" or \"negative_label\"\n",
    "    name_indicators: return indikators name \n",
    "    perc_pos_cor: percent correlations \n",
    "    perc_pos_cor: percent correlations \n",
    "    \"\"\"\n",
    "    corelation_indikators = dict()\n",
    "    for i in data.select_dtypes('number').columns:\n",
    "        corelation_indikators[i] = data[lebels].corr(data[i])\n",
    "\n",
    "    cor_indic = pd.DataFrame({\"indicators\": corelation_indikators.keys(),\n",
    "                              \"correlation\": corelation_indikators.values()})\n",
    "    \n",
    "    if lebels == \"positive_label\":\n",
    "        positiv_cor_indicatorrs = cor_indic[cor_indic[\"correlation\"]  > perc_pos_cor ]\n",
    "        negaitiv_cor_indicatorrs = cor_indic[cor_indic[\"correlation\"] < -perc_neg_cor ]\n",
    "        \n",
    "    elif lebels == \"negative_label\":\n",
    "        positiv_cor_indicatorrs = cor_indic[cor_indic[\"correlation\"]  > perc_pos_cor ]\n",
    "        negaitiv_cor_indicatorrs = cor_indic[cor_indic[\"correlation\"] < -perc_neg_cor ]\n",
    "    \n",
    "    indicators = lambda x: list(x[\"indicators\"])\n",
    "    \n",
    "    if kind_of_correlation == \"pozitiv\":\n",
    "        if name_indicators:\n",
    "            return indicators(positiv_cor_indicatorrs)\n",
    "        return positiv_cor_indicatorrs\n",
    "    \n",
    "    elif kind_of_correlation == \"negativ\":\n",
    "        if name_indicators:\n",
    "            return indicators(negaitiv_cor_indicatorrs)\n",
    "        return negaitiv_cor_indicatorrs"
   ]
  },
  {
   "cell_type": "code",
   "execution_count": null,
   "id": "4a6e4b83",
   "metadata": {
    "ExecuteTime": {
     "end_time": "2023-01-23T01:00:02.542390Z",
     "start_time": "2023-01-23T01:00:02.542390Z"
    },
    "code_folding": [
     0
    ]
   },
   "outputs": [],
   "source": [
    "def correlation_data(all_data_indicators = pd.DataFrame, name_indicators = list ):\n",
    "    df = pd.DataFrame()\n",
    "    for i in name_indicators:\n",
    "        df[i] =  all_data_indicators[i]\n",
    "    return df\n"
   ]
  },
  {
   "cell_type": "code",
   "execution_count": null,
   "id": "dd4a50d5",
   "metadata": {
    "ExecuteTime": {
     "end_time": "2023-01-23T01:00:02.545388Z",
     "start_time": "2023-01-23T01:00:02.545388Z"
    }
   },
   "outputs": [],
   "source": [
    "df = data_mt5(start_bar=20000)"
   ]
  },
  {
   "cell_type": "code",
   "execution_count": null,
   "id": "37055294",
   "metadata": {
    "ExecuteTime": {
     "end_time": "2023-01-23T01:00:02.550018Z",
     "start_time": "2023-01-23T01:00:02.550018Z"
    },
    "code_folding": [
     0
    ]
   },
   "outputs": [],
   "source": [
    "pos_lab_cor =  correlations(data_from_all_indikators(df), \n",
    "                            \"positive_label\", name_indicators=True, perc_pos_cor=0.1 )\n",
    "df_buy  = correlation_data(all_indicators, pos_lab_cor)"
   ]
  },
  {
   "cell_type": "code",
   "execution_count": null,
   "id": "3dd01dd3",
   "metadata": {
    "ExecuteTime": {
     "end_time": "2023-01-23T01:00:02.553019Z",
     "start_time": "2023-01-23T01:00:02.553019Z"
    }
   },
   "outputs": [],
   "source": [
    "test_data = data_from_all_indikators(data_mt5(\"EURAUDz\",start_bar=10000))\n",
    "test_data = correlation_data(test_data, pos_lab_cor)"
   ]
  },
  {
   "cell_type": "code",
   "execution_count": null,
   "id": "16ec0a2d",
   "metadata": {
    "ExecuteTime": {
     "end_time": "2023-01-23T01:00:02.556014Z",
     "start_time": "2023-01-23T01:00:02.556014Z"
    }
   },
   "outputs": [],
   "source": [
    "# neg_lab_cor =  correlations(all_indicators, \"negative_label\", name_indicators=True, perc_pos_cor=0.08)\n",
    "# df_sell = correlation_data(all_indicators, neg_lab_cor)"
   ]
  },
  {
   "cell_type": "markdown",
   "id": "de644a39",
   "metadata": {},
   "source": [
    "# CatBoostClassifier"
   ]
  },
  {
   "cell_type": "markdown",
   "id": "18c49312",
   "metadata": {},
   "source": [
    "# model preparationm"
   ]
  },
  {
   "cell_type": "markdown",
   "id": "441b94c7",
   "metadata": {},
   "source": [
    "# 0.74"
   ]
  },
  {
   "cell_type": "code",
   "execution_count": null,
   "id": "e7d3fdd5",
   "metadata": {
    "ExecuteTime": {
     "end_time": "2023-01-23T01:00:02.560013Z",
     "start_time": "2023-01-23T01:00:02.560013Z"
    }
   },
   "outputs": [],
   "source": [
    "from catboost import CatBoostClassifier, Pool, metrics, cv"
   ]
  },
  {
   "cell_type": "code",
   "execution_count": null,
   "id": "51a0fd1e",
   "metadata": {},
   "outputs": [],
   "source": []
  },
  {
   "cell_type": "code",
   "execution_count": null,
   "id": "c353bf2c",
   "metadata": {
    "ExecuteTime": {
     "end_time": "2023-01-23T01:00:02.564012Z",
     "start_time": "2023-01-23T01:00:02.564012Z"
    }
   },
   "outputs": [],
   "source": [
    "CatBoostClassifier()"
   ]
  },
  {
   "cell_type": "code",
   "execution_count": null,
   "id": "b816a0e6",
   "metadata": {
    "ExecuteTime": {
     "end_time": "2023-01-23T01:00:02.567008Z",
     "start_time": "2023-01-23T01:00:02.567008Z"
    }
   },
   "outputs": [],
   "source": [
    "X = df_buy.drop('positive_label', axis=1)\n",
    "y = df_buy.positive_label\n",
    "\n",
    "X_train, X_validation, y_train, y_validation = train_test_split(X, y, train_size=0.32, random_state=42)"
   ]
  },
  {
   "cell_type": "code",
   "execution_count": null,
   "id": "0eb6d56a",
   "metadata": {
    "ExecuteTime": {
     "end_time": "2023-01-23T01:00:02.570312Z",
     "start_time": "2023-01-23T01:00:02.570312Z"
    }
   },
   "outputs": [],
   "source": [
    "model_catboostcl = CatBoostClassifier(\n",
    "    custom_loss=[metrics.AUC()],\n",
    "    random_seed=42 )"
   ]
  },
  {
   "cell_type": "code",
   "execution_count": null,
   "id": "59df8f17",
   "metadata": {
    "ExecuteTime": {
     "end_time": "2023-01-23T01:00:02.573314Z",
     "start_time": "2023-01-23T01:00:02.573314Z"
    }
   },
   "outputs": [],
   "source": [
    "model_catboostcl.fit(\n",
    "    X_train, y_train,\n",
    "    eval_set=(X_validation, y_validation),\n",
    "#     logging_level='Verbose',  # you can uncomment this for text output );"
   ]
  },
  {
   "cell_type": "code",
   "execution_count": null,
   "id": "9f083040",
   "metadata": {},
   "outputs": [],
   "source": []
  },
  {
   "cell_type": "code",
   "execution_count": null,
   "id": "3e71dff4",
   "metadata": {
    "ExecuteTime": {
     "end_time": "2023-01-23T01:00:02.575310Z",
     "start_time": "2023-01-23T01:00:02.575310Z"
    },
    "code_folding": [
     0
    ]
   },
   "outputs": [],
   "source": [
    "cv_params = {\n",
    "    \"learning_rate\":0.1,\n",
    "    \"eval_metric\":'AUC',\n",
    "#     \"cusstom_loss\":['AUC', 'Accuracy'],\n",
    "    \"loss_function\":\"Logloss\",\n",
    "    \"random_seed\":42,\n",
    "    \"early_stopping_rounds\":20,\n",
    "    'loss_function': metrics.Logloss()}\n",
    "\n",
    "cv_data = cv(\n",
    "    params= cv_params,\n",
    "    pool=Pool(X, y ),\n",
    "    fold_count = 5,\n",
    "    shuffle= False,\n",
    "    plot=False )\n",
    "cv()"
   ]
  },
  {
   "cell_type": "code",
   "execution_count": null,
   "id": "86deac86",
   "metadata": {
    "ExecuteTime": {
     "end_time": "2023-01-23T01:00:02.579436Z",
     "start_time": "2023-01-23T01:00:02.579436Z"
    }
   },
   "outputs": [],
   "source": [
    "for name, values in cv_data.iteritems():\n",
    "    print(name + ':')\n",
    "    print(np.array(values))\n",
    "    print('\\n')"
   ]
  },
  {
   "cell_type": "code",
   "execution_count": null,
   "id": "23725c3e",
   "metadata": {
    "ExecuteTime": {
     "end_time": "2023-01-23T01:00:02.583436Z",
     "start_time": "2023-01-23T01:00:02.583436Z"
    }
   },
   "outputs": [],
   "source": [
    "best_value = np.max(cv_data['test-AUC-mean'])\n",
    "best_iter = np.argmax(cv_data['test-AUC-mean'])\n",
    "best_iter"
   ]
  },
  {
   "cell_type": "markdown",
   "id": "8a3a7b80",
   "metadata": {},
   "source": [
    "# model predict"
   ]
  },
  {
   "cell_type": "code",
   "execution_count": null,
   "id": "4857d5f6",
   "metadata": {
    "ExecuteTime": {
     "end_time": "2023-01-23T01:00:02.586435Z",
     "start_time": "2023-01-23T01:00:02.586435Z"
    }
   },
   "outputs": [],
   "source": [
    "y = test_data.positive_label\n",
    "x = test_data.drop(\"positive_label\",axis=1)\n",
    "pool = Pool(X,y)"
   ]
  },
  {
   "cell_type": "code",
   "execution_count": null,
   "id": "b6881f41",
   "metadata": {
    "ExecuteTime": {
     "end_time": "2023-01-23T01:00:02.589564Z",
     "start_time": "2023-01-23T01:00:02.589564Z"
    }
   },
   "outputs": [],
   "source": [
    "tree_count = model.tree_count_\n",
    "metrics = model.eval_metrics(pool, metrics=['Logloss','AUC','Accuracy'], ntree_start=0, ntree_end=0,\n",
    "                             eval_period=tree_count, thread_count=2)\n",
    "auc = metrics['AUC']\n",
    "print(auc)"
   ]
  },
  {
   "cell_type": "code",
   "execution_count": null,
   "id": "eb8529eb",
   "metadata": {},
   "outputs": [],
   "source": []
  }
 ],
 "metadata": {
  "kernelspec": {
   "display_name": "Python 3 (ipykernel)",
   "language": "python",
   "name": "python3"
  },
  "language_info": {
   "codemirror_mode": {
    "name": "ipython",
    "version": 3
   },
   "file_extension": ".py",
   "mimetype": "text/x-python",
   "name": "python",
   "nbconvert_exporter": "python",
   "pygments_lexer": "ipython3",
   "version": "3.11.6"
  },
  "varInspector": {
   "cols": {
    "lenName": 16,
    "lenType": 16,
    "lenVar": 40
   },
   "kernels_config": {
    "python": {
     "delete_cmd_postfix": "",
     "delete_cmd_prefix": "del ",
     "library": "var_list.py",
     "varRefreshCmd": "print(var_dic_list())"
    },
    "r": {
     "delete_cmd_postfix": ") ",
     "delete_cmd_prefix": "rm(",
     "library": "var_list.r",
     "varRefreshCmd": "cat(var_dic_list()) "
    }
   },
   "position": {
    "height": "546.615px",
    "left": "1177.01px",
    "right": "20px",
    "top": "120px",
    "width": "322.535px"
   },
   "types_to_exclude": [
    "module",
    "function",
    "builtin_function_or_method",
    "instance",
    "_Feature"
   ],
   "window_display": false
  }
 },
 "nbformat": 4,
 "nbformat_minor": 5
}
