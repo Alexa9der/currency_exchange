{
 "cells": [
  {
   "cell_type": "code",
   "execution_count": 1,
   "id": "742b98fd-4b6f-4e4a-830c-960bf0c5cc3f",
   "metadata": {
    "scrolled": true
   },
   "outputs": [],
   "source": [
    "# ! pip install yfinance\n",
    "# ! pip install MetaTrader5\n",
    "\n",
    "# https://pypi.org/project/TA-Lib/"
   ]
  },
  {
   "cell_type": "code",
   "execution_count": 2,
   "id": "2ec035e6-6946-475b-a433-3a80bc2e0d0f",
   "metadata": {},
   "outputs": [
    {
     "ename": "ModuleNotFoundError",
     "evalue": "No module named 'sklearn'",
     "output_type": "error",
     "traceback": [
      "\u001b[1;31m---------------------------------------------------------------------------\u001b[0m",
      "\u001b[1;31mModuleNotFoundError\u001b[0m                       Traceback (most recent call last)",
      "Cell \u001b[1;32mIn[2], line 4\u001b[0m\n\u001b[0;32m      1\u001b[0m \u001b[38;5;28;01mfrom\u001b[39;00m \u001b[38;5;21;01mfunction\u001b[39;00m\u001b[38;5;21;01m.\u001b[39;00m\u001b[38;5;21;01mpreprocess_function\u001b[39;00m \u001b[38;5;28;01mimport\u001b[39;00m  \u001b[38;5;241m*\u001b[39m\n\u001b[0;32m      2\u001b[0m \u001b[38;5;28;01mfrom\u001b[39;00m \u001b[38;5;21;01mfunction\u001b[39;00m\u001b[38;5;21;01m.\u001b[39;00m\u001b[38;5;21;01mvizualization\u001b[39;00m \u001b[38;5;28;01mimport\u001b[39;00m  \u001b[38;5;241m*\u001b[39m\n\u001b[1;32m----> 4\u001b[0m \u001b[38;5;28;01mfrom\u001b[39;00m \u001b[38;5;21;01msklearn\u001b[39;00m\u001b[38;5;21;01m.\u001b[39;00m\u001b[38;5;21;01mensemble\u001b[39;00m \u001b[38;5;28;01mimport\u001b[39;00m RandomForestRegressor\n\u001b[0;32m      6\u001b[0m \u001b[38;5;28;01mfrom\u001b[39;00m \u001b[38;5;21;01msklearn\u001b[39;00m\u001b[38;5;21;01m.\u001b[39;00m\u001b[38;5;21;01mfeature_selection\u001b[39;00m \u001b[38;5;28;01mimport\u001b[39;00m RFE\n\u001b[0;32m      8\u001b[0m \u001b[38;5;28;01mimport\u001b[39;00m \u001b[38;5;21;01mwarnings\u001b[39;00m\n",
      "\u001b[1;31mModuleNotFoundError\u001b[0m: No module named 'sklearn'"
     ]
    }
   ],
   "source": [
    "from function.preprocess_function import  *\n",
    "from function.vizualization import  *\n",
    "\n",
    "from sklearn.ensemble import RandomForestRegressor\n",
    "\n",
    "from sklearn.feature_selection import RFE\n",
    "\n",
    "import warnings\n",
    "warnings.filterwarnings(\"ignore\")\n"
   ]
  },
  {
   "cell_type": "code",
   "execution_count": null,
   "id": "e3c439eb-dd6b-4c17-839e-ae524a02ae86",
   "metadata": {},
   "outputs": [],
   "source": [
    "2/0"
   ]
  },
  {
   "cell_type": "markdown",
   "id": "5063b6a4-5189-48a6-b4b9-6683968b02b9",
   "metadata": {},
   "source": [
    "# data from yfinance"
   ]
  },
  {
   "cell_type": "code",
   "execution_count": null,
   "id": "f73082a3-45fa-47a0-a75c-b3e50a8c73d5",
   "metadata": {},
   "outputs": [],
   "source": [
    "current_datetime = datetime.now()\n",
    "start_date = '2000-01-01'\n",
    "end_date = current_datetime.strftime('%Y-%m-%d')\n",
    "# '^GDAXI'\n",
    "data = yf.download('EURUSD=X', start= start_date, end=end_date, interval='1d')\n",
    "data['Volume'] = data['High'] - data['Low']\n",
    "data['PositivePriceChange'] =  data['High'] -  data['Open'] \n",
    "data['NegativePriceChange'] = data['Open'] - data['Low']\n",
    "# data['PriceDirection'] = np.where(data['PositivePriceChange'] > data['NegativePriceChange'], 'Up', 'Down')\n",
    "\n",
    "\n",
    "\n",
    "data = data.reset_index()\n",
    "data['Date'] = pd.to_datetime(data['Date']).dt.strftime('%Y-%m-%d' ) # %H:%M:%S')\n",
    "\n",
    "data[:50]"
   ]
  },
  {
   "cell_type": "code",
   "execution_count": null,
   "id": "3ed5e7c9-e47c-415e-a00b-0e1d2b020213",
   "metadata": {},
   "outputs": [],
   "source": [
    "data.shape"
   ]
  },
  {
   "cell_type": "code",
   "execution_count": null,
   "id": "20261089-b15c-415a-b56e-2e88f6ae0cbd",
   "metadata": {},
   "outputs": [],
   "source": [
    "data.hist(figsize = (10,10));"
   ]
  },
  {
   "cell_type": "markdown",
   "id": "a0c5a0d6-094d-471e-9b7a-e8fb27a3dc6f",
   "metadata": {},
   "source": [
    "# data preprocessing"
   ]
  },
  {
   "cell_type": "code",
   "execution_count": null,
   "id": "4775d2ad-9270-4fba-bd6b-ed0a23f2fc94",
   "metadata": {},
   "outputs": [],
   "source": [
    "# preprocessor = Preprocessing_stock_data(data)\n",
    "# all_indicator = preprocessor.all_methods()\n",
    "\n",
    "# data = preprocessor.support_resistance_line()\n",
    "# data"
   ]
  },
  {
   "cell_type": "code",
   "execution_count": null,
   "id": "674632ec-25cb-406f-9cea-10f87a0392cc",
   "metadata": {},
   "outputs": [],
   "source": [
    "# all_indicator.sample(3)"
   ]
  },
  {
   "cell_type": "markdown",
   "id": "0f79fecc-8eb0-467c-910b-ed8d8e3f0c8f",
   "metadata": {},
   "source": [
    "# experiments \n"
   ]
  },
  {
   "cell_type": "markdown",
   "id": "6c7849d3-478a-4c93-92e9-e94137223d61",
   "metadata": {},
   "source": [
    "\n",
    "Etap I. Określanie kierunku.\r\n",
    "1. Wyznaczam cenę max i min dla różnych przedziałów od 1 do 60 dni wstecz.\r\n",
    "2. Określam czy cena w bieżącym dniu przekroczyła wyznaczony poziom min lub max.\r\n",
    "3. Określam czy cena w bieżącym dniu powróciła do określonego przedziału między min a max.\r\n",
    "4. Wyznaczam bieżący kieru5.ek:\r\n",
    "- po przekroczeniu i powrocie do poziomu min (\"wsparcie\") kierunek to6.BUY;\r\n",
    "- po przekroczeniu i powrocie do poziomu max (\"opór\") kierunek to7SELL;\r\n",
    "5. Po zakończeniu sesji powtarzam punk\n",
    "8. Sprawdzam w którym kierunku następnego dnia był większy ruch. W górę to cena max - otwarcie. W dół to cena otwarcie - min.ty 1-4 d"
   ]
  },
  {
   "cell_type": "code",
   "execution_count": null,
   "id": "6b003eb2-13ed-4292-afca-c035a6d04024",
   "metadata": {},
   "outputs": [],
   "source": [
    "# support_resistance_chart(data) "
   ]
  },
  {
   "cell_type": "code",
   "execution_count": null,
   "id": "ec07c34a-ef2d-4b7b-bb75-353c5de96322",
   "metadata": {
    "scrolled": true
   },
   "outputs": [],
   "source": [
    "def define_level(data: pd.DataFrame, window_sizes: list = [100], bias: int = 1) -> pd.DataFrame:\n",
    "    data = data.copy()  \n",
    "    \n",
    "    for window_size in window_sizes:  \n",
    "        data.loc[:, f'RollingMax_{window_size}'] = data['High'].rolling(window=window_size).max().shift(bias)\n",
    "        data.loc[:, f'RollingMin_{window_size}'] = data['Low'].rolling(window=window_size).min().shift(bias)\n",
    "       \n",
    "    return data\n",
    "\n",
    "data_with_breakout_level = define_level(data, [14], 1) #  [i for i in range(14,365,1)])\n",
    "data_with_breakout_level"
   ]
  },
  {
   "cell_type": "code",
   "execution_count": null,
   "id": "91150e37-5b0a-47bd-88a0-04060cf6d48c",
   "metadata": {},
   "outputs": [],
   "source": [
    "print(data_with_breakout_level.isna().sum())\n",
    "data_with_breakout_level.dropna( axis = 0, inplace = True)"
   ]
  },
  {
   "cell_type": "code",
   "execution_count": null,
   "id": "20f72b8a-b061-44f9-8932-13249ae41e6b",
   "metadata": {},
   "outputs": [],
   "source": [
    "data_with_breakout_level.reset_index(drop = True, inplace= True)\n",
    "data_with_breakout_level# .reset_index(drop = True, inplace= True)\n"
   ]
  },
  {
   "cell_type": "code",
   "execution_count": null,
   "id": "23b5b489-457c-4112-9854-0d43ebbae625",
   "metadata": {
    "scrolled": true
   },
   "outputs": [],
   "source": [
    "# Analiza odbicia cen od poziomów oporu\n",
    "data_with_breakout_level['Breakout_from_Resistance'] = ((data_with_breakout_level[\"RollingMax_14\"] < data_with_breakout_level[\"High\"])  & (data_with_breakout_level[\"RollingMax_14\"] > data_with_breakout_level[\"Close\"])).astype(int)\n",
    "resistance_indices = data_with_breakout_level[data_with_breakout_level['Breakout_from_Resistance'] == True].index + 1\n",
    "data_with_breakout_level.loc[resistance_indices, 'Next_Resistance_Candle_Type'] = (data_with_breakout_level.loc[resistance_indices, 'Open'] > data_with_breakout_level.loc[resistance_indices, 'Close']).astype(int)\n",
    "\n",
    "# Analiza odbicia cen od poziomów wsparcia\n",
    "data_with_breakout_level['Breakout_from_Support'] = ((data_with_breakout_level[\"RollingMin_14\"] > data_with_breakout_level[\"Low\"])  & (data_with_breakout_level[\"RollingMin_14\"] < data_with_breakout_level[\"Close\"])).astype(int)\n",
    "support_indices = data_with_breakout_level[data_with_breakout_level['Breakout_from_Support'] == True].index + 1\n",
    "data_with_breakout_level.loc[support_indices, 'Next_Support_Candle_Type'] = (data_with_breakout_level.loc[support_indices, 'Open'] < data_with_breakout_level.loc[support_indices, 'Close']).astype(int)\n",
    "\n",
    "# Вывод результатов анализа\n",
    "data_with_breakout_level['Breakout_from_Resistance'].sum(), data_with_breakout_level['Breakout_from_Support'].sum()\n",
    "# data_with_breakout_level\n",
    "\n",
    "\n",
    "\n",
    "# # Wyłączenie poprzednich kolumn i dodanie nowych kolumn do analizy przebicia poziomów oporu i wsparcia\n",
    "# data_with_breakout_level['Przerwa_w_Wsparciu'] = data_with_breakout_level[\"RollingMin_14\"] > data_with_breakout_level[\"Close\"]\n",
    "# data_with_breakout_level['Przerwa_w_Oporze'] = data_with_breakout_level[\"RollingMax_14\"] < data_with_breakout_level[\"Close\"]\n",
    "\n",
    "# # Analiza sumy przebiciu poziomów wsparcia i oporu\n",
    "# data_with_breakout_level['Przerwa_w_Wsparciu'].sum(), data_with_breakout_level['Przerwa_w_Oporze'].sum()\n",
    "\n",
    "# # Wyświetlenie wierszy, gdzie warunek przebicia poziomu oporu jest spełniony\n",
    "# data_with_breakout_level[data_with_breakout_level['Przebicie_oporu'] == True]\n"
   ]
  },
  {
   "cell_type": "code",
   "execution_count": null,
   "id": "2f0be290-27b2-4527-a64e-fbc90cb78fe5",
   "metadata": {},
   "outputs": [],
   "source": []
  },
  {
   "cell_type": "code",
   "execution_count": null,
   "id": "7835a41d-28a4-4796-a998-b288c57715f4",
   "metadata": {},
   "outputs": [],
   "source": []
  },
  {
   "cell_type": "code",
   "execution_count": null,
   "id": "181c924a-d37e-4ee8-834f-aea061523c9c",
   "metadata": {},
   "outputs": [],
   "source": []
  },
  {
   "cell_type": "code",
   "execution_count": null,
   "id": "ee82fa43-0554-480f-a1b9-e564e1258bd3",
   "metadata": {},
   "outputs": [],
   "source": []
  },
  {
   "cell_type": "code",
   "execution_count": null,
   "id": "c2d6acf4-830c-43ad-8ba6-571941738b0e",
   "metadata": {},
   "outputs": [],
   "source": []
  },
  {
   "cell_type": "markdown",
   "id": "95e2763c-0540-4e44-8c72-d474bb3e812c",
   "metadata": {},
   "source": [
    "[RFE](https://scikit-learn.org/stable/modules/generated/sklearn.feature_selection.RFE.html)"
   ]
  },
  {
   "cell_type": "code",
   "execution_count": null,
   "id": "eafb9f5e-b94e-4f0e-ba6a-ba52cc6b5a2b",
   "metadata": {},
   "outputs": [],
   "source": [
    "def calculate_score(data):\n",
    "    # Расчет средней прибыльности\n",
    "    returns = data['Close'].pct_change()  # Вычисление процентного изменения цен закрытия\n",
    "    average_return = returns.mean()  # Вычисление среднего значения процентного изменения\n",
    "    return average_return\n",
    "\n",
    "def optimize_parameters(data, parameter_ranges):\n",
    "    best_score = 0\n",
    "    best_params = None\n",
    "\n",
    "    for window_size in parameter_ranges['window_size']:\n",
    "        for bias in parameter_ranges['bias']:\n",
    "            current_data = define_level(data, [window_size], bias)  # Передаем window_size как список\n",
    "            # Здесь вы можете реализовать другие методы оптимизации, такие как расчет метрики эффективности и сравнение с лучшим результатом\n",
    "            current_score = calculate_score(current_data)  # Функция для расчета метрики эффективности\n",
    "\n",
    "            if current_score > best_score:\n",
    "                best_score = current_score\n",
    "                best_params = {'window_size': window_size, 'bias': bias}\n",
    "\n",
    "    return best_params\n",
    "\n",
    "# Пример использования оптимизации параметров\n",
    "parameter_ranges = {'window_size': [i for i in range(20, 365, 1)], \n",
    "                    'bias': [i for i in range(1, 10, 1)]}\n",
    "\n",
    "best_parameters = optimize_parameters(data, parameter_ranges)\n",
    "print(f\"Лучшие параметры: {best_parameters}\")"
   ]
  },
  {
   "cell_type": "code",
   "execution_count": null,
   "id": "a42d0b04-c9ce-4085-84f9-99ee1cf1571a",
   "metadata": {},
   "outputs": [],
   "source": []
  },
  {
   "cell_type": "code",
   "execution_count": null,
   "id": "402017a6-e160-480e-a43f-4679a73c8429",
   "metadata": {},
   "outputs": [],
   "source": []
  },
  {
   "cell_type": "code",
   "execution_count": null,
   "id": "39be9eac-a655-48d2-ba59-a13769a338e4",
   "metadata": {},
   "outputs": [],
   "source": []
  },
  {
   "cell_type": "code",
   "execution_count": null,
   "id": "ce38b449-731a-4e8d-b450-099eeeab295a",
   "metadata": {},
   "outputs": [],
   "source": []
  },
  {
   "cell_type": "code",
   "execution_count": null,
   "id": "6037bbe0-53fe-4c1c-b9bf-73fb5c2ea817",
   "metadata": {},
   "outputs": [],
   "source": []
  },
  {
   "cell_type": "code",
   "execution_count": null,
   "id": "6641dece-240f-415c-a910-5418fab50024",
   "metadata": {},
   "outputs": [],
   "source": []
  },
  {
   "cell_type": "code",
   "execution_count": null,
   "id": "b2fc18fe-bb41-4157-8632-db0603fdb2fc",
   "metadata": {},
   "outputs": [],
   "source": []
  },
  {
   "cell_type": "code",
   "execution_count": null,
   "id": "6f1e7cc0-d8fa-4a28-a2d8-07da8e71c07a",
   "metadata": {},
   "outputs": [],
   "source": []
  },
  {
   "cell_type": "code",
   "execution_count": null,
   "id": "7b014537-0ac6-4fc3-b735-812d0c760451",
   "metadata": {},
   "outputs": [],
   "source": []
  },
  {
   "cell_type": "code",
   "execution_count": null,
   "id": "a02ee73b-158d-4328-985d-a73abdb2d9b0",
   "metadata": {},
   "outputs": [],
   "source": []
  },
  {
   "cell_type": "code",
   "execution_count": null,
   "id": "fbd7fc9d-9542-4318-a2c8-c07dc39a8756",
   "metadata": {},
   "outputs": [],
   "source": []
  },
  {
   "cell_type": "code",
   "execution_count": null,
   "id": "7957c67d-b251-454e-aefc-39ff7e3fefd2",
   "metadata": {},
   "outputs": [],
   "source": []
  },
  {
   "cell_type": "code",
   "execution_count": null,
   "id": "bb05320f-c39a-41e9-9dbe-1565816ab7ed",
   "metadata": {},
   "outputs": [],
   "source": []
  },
  {
   "cell_type": "code",
   "execution_count": null,
   "id": "3ad2d90c-7309-4eb6-ae67-f5bb62e47c50",
   "metadata": {},
   "outputs": [],
   "source": []
  },
  {
   "cell_type": "markdown",
   "id": "5b71af09-f91e-4e14-b38d-8b331fc10f22",
   "metadata": {},
   "source": [
    "# AI"
   ]
  },
  {
   "cell_type": "code",
   "execution_count": null,
   "id": "1d41e83e-ecae-40e7-9822-28bcfb65f346",
   "metadata": {},
   "outputs": [],
   "source": []
  },
  {
   "cell_type": "code",
   "execution_count": null,
   "id": "e883275d-651e-43cb-8334-95127fab5b1e",
   "metadata": {},
   "outputs": [],
   "source": [
    "def create_dataset(dataset, time_step=25):\n",
    "    dataX, dataY = [], []\n",
    "    dataset_without_close = dataset.drop('Close', axis=1)\n",
    "\n",
    "    for i in range(len(dataset) - time_step - 1):\n",
    "        if (i + time_step) < len(dataset):\n",
    "            a = dataset_without_close.iloc[i:(i + time_step), :]\n",
    "            dataX.append(a.values)\n",
    "            dataY.append(dataset.iloc[i + time_step]['Close'])  # Добавлено изменение в индексации здесь\n",
    "    return np.array(dataX), np.array(dataY)"
   ]
  },
  {
   "cell_type": "code",
   "execution_count": null,
   "id": "3a59a933-2080-4f42-a52b-6c69d58be0e2",
   "metadata": {},
   "outputs": [],
   "source": [
    "def create_dataset(dataset, time_step):\n",
    "    dataX, dataY = [], []\n",
    "    for i in range(len(dataset)-time_step-1):\n",
    "        a = dataset[i:(i+time_step), 0]\n",
    "        dataX.append(a)\n",
    "        dataY.append(dataset[i + time_step, 0])\n",
    "    return np.array(dataX), np.array(dataY)"
   ]
  }
 ],
 "metadata": {
  "kernelspec": {
   "display_name": "Python 3 (ipykernel)",
   "language": "python",
   "name": "python3"
  },
  "language_info": {
   "codemirror_mode": {
    "name": "ipython",
    "version": 3
   },
   "file_extension": ".py",
   "mimetype": "text/x-python",
   "name": "python",
   "nbconvert_exporter": "python",
   "pygments_lexer": "ipython3",
   "version": "3.12.0"
  }
 },
 "nbformat": 4,
 "nbformat_minor": 5
}
