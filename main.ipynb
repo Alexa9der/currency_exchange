{
 "cells": [
  {
   "cell_type": "code",
   "execution_count": null,
   "id": "f79578d6-d08b-4c32-a5c5-ff4fce55d42d",
   "metadata": {},
   "outputs": [],
   "source": [
    "from import_libraries.project_functions import *"
   ]
  },
  {
   "cell_type": "code",
   "execution_count": null,
   "id": "0c97205e-f701-4496-9c53-717c8966cadb",
   "metadata": {},
   "outputs": [],
   "source": [
    "symbol = 'DJ30'\n",
    "# symbol = 'SPX500'\n",
    "#symbol = 'XAUUSD'\n",
    "\n",
    "# symbol = "
   ]
  },
  {
   "cell_type": "code",
   "execution_count": null,
   "id": "5ecb646a-f8f7-45de-82a0-0c541f584861",
   "metadata": {},
   "outputs": [],
   "source": [
    "data = get_historical_data(symbol= symbol)\n",
    "\n",
    "optimal_data = optimize_parameters(data, rebound_analysis, calculate_accumulated_price_changes,\n",
    "                                               windows_size= [i for i in range(1, 300, 1)],\n",
    "                                               bias= [i for i in range(1, 50, 1)] )"
   ]
  },
  {
   "cell_type": "code",
   "execution_count": null,
   "id": "8fc6f808-3bb6-45fd-8c1c-d44e1ec2d34f",
   "metadata": {
    "scrolled": true
   },
   "outputs": [],
   "source": [
    "optimal_data"
   ]
  },
  {
   "cell_type": "code",
   "execution_count": null,
   "id": "f1222a17-6986-4a14-b6b6-5fd5baca2cf1",
   "metadata": {},
   "outputs": [],
   "source": [
    "automated_trading_from_signals(current_data_optimize, symbol= symbol)"
   ]
  }
 ],
 "metadata": {
  "kernelspec": {
   "display_name": "Python 3 (ipykernel)",
   "language": "python",
   "name": "python3"
  },
  "language_info": {
   "codemirror_mode": {
    "name": "ipython",
    "version": 3
   },
   "file_extension": ".py",
   "mimetype": "text/x-python",
   "name": "python",
   "nbconvert_exporter": "python",
   "pygments_lexer": "ipython3",
   "version": "3.11.6"
  }
 },
 "nbformat": 4,
 "nbformat_minor": 5
}
