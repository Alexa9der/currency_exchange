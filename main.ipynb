{
 "cells": [
  {
   "cell_type": "code",
   "execution_count": null,
   "id": "f79578d6-d08b-4c32-a5c5-ff4fce55d42d",
   "metadata": {},
   "outputs": [],
   "source": [
    "from import_libraries.project_functions import *"
   ]
  },
  {
   "cell_type": "code",
   "execution_count": null,
   "id": "bbfe768c-b1d6-4d83-9feb-9c7cb678100f",
   "metadata": {},
   "outputs": [],
   "source": [
    "symbol = 'SPX500'\n",
    "# symbol = 'DJ30'\n",
    "# symbol = 'XAUUSD'\n",
    "# symbol = \n",
    "\n",
    "data = get_historical_data(symbol= symbol)\n",
    "data.shape"
   ]
  },
  {
   "cell_type": "code",
   "execution_count": null,
   "id": "133d2598-85ad-4eee-bcae-8e66e4057b83",
   "metadata": {},
   "outputs": [],
   "source": [
    "rebound_best_parameters = optimize_parameters(data, rebound_analysis, calculate_accumulated_price_changes,\n",
    "                                               windows_size= [i for i in range(1, 366, 1)],\n",
    "                                               bias= [i for i in range(1, 50, 1)]\n",
    "                                                 )\n",
    "\n",
    "current_data_optimize = define_level(data, rebound_best_parameters[\"window_size\"] ,\n",
    "                                  rebound_best_parameters[\"bias\"])\n",
    "\n",
    "print(f\"Najlepsze opcje: {rebound_best_parameters}\")"
   ]
  },
  {
   "cell_type": "code",
   "execution_count": null,
   "id": "f1222a17-6986-4a14-b6b6-5fd5baca2cf1",
   "metadata": {},
   "outputs": [],
   "source": [
    "automated_trading_from_signals(current_data_optimize, symbol= symbol)"
   ]
  }
 ],
 "metadata": {
  "kernelspec": {
   "display_name": "Python 3 (ipykernel)",
   "language": "python",
   "name": "python3"
  },
  "language_info": {
   "codemirror_mode": {
    "name": "ipython",
    "version": 3
   },
   "file_extension": ".py",
   "mimetype": "text/x-python",
   "name": "python",
   "nbconvert_exporter": "python",
   "pygments_lexer": "ipython3",
   "version": "3.11.6"
  }
 },
 "nbformat": 4,
 "nbformat_minor": 5
}
